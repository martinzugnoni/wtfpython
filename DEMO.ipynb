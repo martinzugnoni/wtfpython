{
 "cells": [
  {
   "cell_type": "markdown",
   "metadata": {},
   "source": [
    "![img](https://github.com/satwikkansal/wtfpython/raw/master/images/logo.png)\n",
    "\n",
    "# What the f*ck Python! 🐍\n",
    "An interesting collection of surprising snippets and lesser-known Python features.\n",
    "\n",
    "Python, being a beautifully designed high-level and interpreter-based programming language, provides us with many features for the programmer's comfort. But sometimes, the outcomes of a Python snippet may not seem obvious to a regular user at first sight.\n",
    "\n",
    "Here is a fun project to collect such tricky & counter-intuitive examples and lesser-known features in Python, attempting to discuss what exactly is happening under the hood!\n",
    "\n",
    "While some of the examples you see below may not be WTFs in the truest sense, but they'll reveal some of the interesting parts of Python that you might be unaware of. I find it a nice way to learn the internals of a programming language, and I think you'll find them interesting as well!\n",
    "\n",
    "If you're an experienced Python programmer, you can take it as a challenge to get most of them right in first attempt. You may be already familiar with some of these examples, and I might be able to revive sweet old memories of yours being bitten by these gotchas :sweat_smile:\n",
    "\n",
    "PS: If you're a returning reader, you can learn about the new modifications [here](https://github.com/satwikkansal/wtfpython/releases/).\n",
    "\n",
    "So, here we go...\n",
    "\n",
    "# Table of Contents\n",
    "\n",
    "<!-- START doctoc generated TOC please keep comment here to allow auto update -->\n",
    "<!-- DON'T EDIT THIS SECTION, INSTEAD RE-RUN doctoc TO UPDATE -->\n",
    "\n",
    "- [Structure of the Examples](#structure-of-the-examples)\n",
    "- [Usage](#usage)\n",
    "- [👀 Examples](#-examples)\n",
    "  - [Section: Strain your brain!](#section-strain-your-brain)\n",
    "    - [▶ Strings can be tricky sometimes *](#-strings-can-be-tricky-sometimes-)\n",
    "    - [▶ Time for some hash brownies!](#-time-for-some-hash-brownies)\n",
    "    - [▶ Return return everywhere!](#-return-return-everywhere)\n",
    "    - [▶ Deep down, we're all the same. *](#-deep-down-were-all-the-same-)\n",
    "    - [▶ For what?](#-for-what)\n",
    "    - [▶ Evaluation time discrepancy](#-evaluation-time-discrepancy)\n",
    "    - [▶ `is` is not what it is!](#-is-is-not-what-it-is)\n",
    "    - [▶ A tic-tac-toe where X wins in the first attempt!](#-a-tic-tac-toe-where-x-wins-in-the-first-attempt)\n",
    "    - [▶ The sticky output function](#-the-sticky-output-function)\n",
    "    - [▶ `is not ...` is not `is (not ...)`](#-is-not--is-not-is-not-)\n",
    "    - [▶ The surprising comma](#-the-surprising-comma)\n",
    "    - [▶ Backslashes at the end of string](#-backslashes-at-the-end-of-string)\n",
    "    - [▶ not knot!](#-not-knot)\n",
    "    - [▶ Half triple-quoted strings](#-half-triple-quoted-strings)\n",
    "    - [▶ Midnight time doesn't exist?](#-midnight-time-doesnt-exist)\n",
    "    - [▶ What's wrong with booleans?](#-whats-wrong-with-booleans)\n",
    "    - [▶ Class attributes and instance attributes](#-class-attributes-and-instance-attributes)\n",
    "    - [▶ yielding None](#-yielding-none)\n",
    "    - [▶ Mutating the immutable!](#-mutating-the-immutable)\n",
    "    - [▶ The disappearing variable from outer scope](#-the-disappearing-variable-from-outer-scope)\n",
    "    - [▶ When True is actually False](#-when-true-is-actually-false)\n",
    "    - [▶ From filled to None in one instruction...](#-from-filled-to-none-in-one-instruction)\n",
    "    - [▶ Subclass relationships *](#-subclass-relationships-)\n",
    "    - [▶ The mysterious key type conversion *](#-the-mysterious-key-type-conversion-)\n",
    "    - [▶ Let's see if you can guess this?](#-lets-see-if-you-can-guess-this)\n",
    "  - [Section: Appearances are deceptive!](#section-appearances-are-deceptive)\n",
    "    - [▶ Skipping lines?](#-skipping-lines)\n",
    "    - [▶ Teleportation *](#-teleportation-)\n",
    "    - [▶ Well, something is fishy...](#-well-something-is-fishy)\n",
    "  - [Section: Watch out for the landmines!](#section-watch-out-for-the-landmines)\n",
    "    - [▶ Modifying a dictionary while iterating over it](#-modifying-a-dictionary-while-iterating-over-it)\n",
    "    - [▶ Stubborn `del` operator *](#-stubborn-del-operator-)\n",
    "    - [▶ Deleting a list item while iterating](#-deleting-a-list-item-while-iterating)\n",
    "    - [▶ Loop variables leaking out!](#-loop-variables-leaking-out)\n",
    "    - [▶ Beware of default mutable arguments!](#-beware-of-default-mutable-arguments)\n",
    "    - [▶ Catching the Exceptions](#-catching-the-exceptions)\n",
    "    - [▶ Same operands, different story!](#-same-operands-different-story)\n",
    "    - [▶ The out of scope variable](#-the-out-of-scope-variable)\n",
    "    - [▶ Be careful with chained operations](#-be-careful-with-chained-operations)\n",
    "    - [▶ Name resolution ignoring class scope](#-name-resolution-ignoring-class-scope)\n",
    "    - [▶ Needle in a Haystack](#-needle-in-a-haystack)\n",
    "  - [Section: The Hidden treasures!](#section-the-hidden-treasures)\n",
    "    - [▶ Okay Python, Can you make me fly? *](#-okay-python-can-you-make-me-fly-)\n",
    "    - [▶ `goto`, but why? *](#-goto-but-why-)\n",
    "    - [▶ Brace yourself! *](#-brace-yourself-)\n",
    "    - [▶ Let's meet Friendly Language Uncle For Life *](#-lets-meet-friendly-language-uncle-for-life-)\n",
    "    - [▶ Even Python understands that love is complicated *](#-even-python-understands-that-love-is-complicated-)\n",
    "    - [▶ Yes, it exists!](#-yes-it-exists)\n",
    "    - [▶ Inpinity *](#-inpinity-)\n",
    "    - [▶ Mangling time! *](#-mangling-time-)\n",
    "  - [Section: Miscellaneous](#section-miscellaneous)\n",
    "    - [▶ `+=` is faster](#--is-faster)\n",
    "    - [▶ Let's make a giant string!](#-lets-make-a-giant-string)\n",
    "    - [▶ Explicit typecast of strings](#-explicit-typecast-of-strings)\n",
    "    - [▶ Minor Ones](#-minor-ones)\n",
    "- [Contributing](#contributing)\n",
    "- [Acknowledgements](#acknowledgements)\n",
    "- [🎓 License](#-license)\n",
    "  - [Help](#help)\n",
    "  - [Want to share wtfpython with friends?](#want-to-share-wtfpython-with-friends)\n",
    "  - [Need a pdf version?](#need-a-pdf-version)\n",
    "\n",
    "<!-- END doctoc generated TOC please keep comment here to allow auto update -->\n",
    "\n",
    "# Structure of the Examples\n",
    "\n",
    "All the examples are structured like below:\n",
    "\n",
    "> ### ▶ Some fancy Title *\n",
    "> The asterisk at the end of the title indicates the example was not present in the first release and has been recently added.\n",
    ">\n",
    "> ```py\n",
    "> # Setting up the code.\n",
    "> # Preparation for the magic...\n",
    "> ```\n",
    ">\n",
    "> **Output (Python version):**\n",
    "> ```py\n",
    "> >>> triggering_statement\n",
    "> Probably unexpected output\n",
    "> ```\n",
    "> (Optional): One line describing the unexpected output.\n",
    ">\n",
    ">\n",
    "> #### 💡 Explanation:\n",
    ">\n",
    "> * Brief explanation of what's happening and why is it happening.\n",
    ">   ```py\n",
    ">   Setting up examples for clarification (if necessary)\n",
    ">   ```\n",
    ">   **Output:**\n",
    ">   ```py\n",
    ">   >>> trigger # some example that makes it easy to unveil the magic\n",
    ">   # some justified output\n",
    ">   ```\n",
    "\n",
    "**Note:** All the examples are tested on Python 3.5.2 interactive interpreter, and they should work for all the Python versions unless explicitly specified in the description.\n",
    "\n",
    "# Usage\n",
    "\n",
    "A nice way to get the most out of these examples, in my opinion, will be just to read the examples chronologically, and for every example:\n",
    "- Carefully read the initial code for setting up the example. If you're an experienced Python programmer, most of the times you will successfully anticipate what's going to happen next.\n",
    "- Read the output snippets and,\n",
    "  + Check if the outputs are the same as you'd expect.\n",
    "  + Make sure if you know the exact reason behind the output being the way it is.\n",
    "    - If no, take a deep breath, and read the explanation (and if you still don't understand, shout out! and create an issue [here](https://github.com/satwikkansal/wtfPython)).\n",
    "    - If yes, give a gentle pat on your back, and you may skip to the next example.\n",
    "\n",
    "PS: You can also read WTFpython at the command line. There's a pypi package and an npm package (supports colored formatting) for the same.\n",
    "\n",
    "To install the npm package [`wtfpython`](https://www.npmjs.com/package/wtfpython)"
   ]
  },
  {
   "cell_type": "code",
   "execution_count": null,
   "metadata": {
    "attributes": {
     "classes": [
      "sh"
     ],
     "id": ""
    }
   },
   "outputs": [],
   "source": [
    "$ npm install -g wtfpython"
   ]
  },
  {
   "cell_type": "markdown",
   "metadata": {},
   "source": [
    "Alternatively, to install the pypi package [`wtfpython`](https://pypi.python.org/pypi/wtfpython)"
   ]
  },
  {
   "cell_type": "code",
   "execution_count": null,
   "metadata": {
    "attributes": {
     "classes": [
      "sh"
     ],
     "id": ""
    }
   },
   "outputs": [],
   "source": [
    "$ pip install wtfpython -U"
   ]
  },
  {
   "cell_type": "markdown",
   "metadata": {},
   "source": [
    "Now, just run `wtfpython` at the command line which will open this collection in your selected `$PAGER`.\n",
    "\n",
    "---\n",
    "\n",
    "# 👀 Examples\n",
    "\n",
    "\n",
    "## Section: Strain your brain!\n",
    "\n",
    "### ▶ Strings can be tricky sometimes *\n",
    "\n",
    "## 1)"
   ]
  },
  {
   "cell_type": "code",
   "execution_count": 5,
   "metadata": {
    "attributes": {
     "classes": [
      "py"
     ],
     "id": ""
    }
   },
   "outputs": [
    {
     "name": "stdout",
     "output_type": "stream",
     "text": [
      "140082124481200\n",
      "140082124481200\n"
     ]
    }
   ],
   "source": [
    "a = \"some_string\"\n",
    "print(id(a))\n",
    "print(id(\"some\" + \"_\" + \"string\"))  # Notice that both the ids are same."
   ]
  },
  {
   "cell_type": "markdown",
   "metadata": {},
   "source": [
    "## 2)"
   ]
  },
  {
   "cell_type": "code",
   "execution_count": 6,
   "metadata": {
    "attributes": {
     "classes": [
      "py"
     ],
     "id": ""
    }
   },
   "outputs": [
    {
     "data": {
      "text/plain": [
       "True"
      ]
     },
     "execution_count": 6,
     "metadata": {},
     "output_type": "execute_result"
    }
   ],
   "source": [
    "a = \"wtf\"\n",
    "b = \"wtf\"\n",
    "a is b"
   ]
  },
  {
   "cell_type": "code",
   "execution_count": 7,
   "metadata": {},
   "outputs": [
    {
     "data": {
      "text/plain": [
       "False"
      ]
     },
     "execution_count": 7,
     "metadata": {},
     "output_type": "execute_result"
    }
   ],
   "source": [
    "a = \"wtf!\"\n",
    "b = \"wtf!\"\n",
    "a is b"
   ]
  },
  {
   "cell_type": "code",
   "execution_count": 8,
   "metadata": {},
   "outputs": [
    {
     "data": {
      "text/plain": [
       "True"
      ]
     },
     "execution_count": 8,
     "metadata": {},
     "output_type": "execute_result"
    }
   ],
   "source": [
    "a, b = \"wtf!\", \"wtf!\"\n",
    "a is b"
   ]
  },
  {
   "cell_type": "markdown",
   "metadata": {},
   "source": [
    "## 3)"
   ]
  },
  {
   "cell_type": "code",
   "execution_count": 9,
   "metadata": {
    "attributes": {
     "classes": [
      "py"
     ],
     "id": ""
    }
   },
   "outputs": [
    {
     "data": {
      "text/plain": [
       "True"
      ]
     },
     "execution_count": 9,
     "metadata": {},
     "output_type": "execute_result"
    }
   ],
   "source": [
    "'a' * 20 is 'aaaaaaaaaaaaaaaaaaaa'"
   ]
  },
  {
   "cell_type": "code",
   "execution_count": 10,
   "metadata": {},
   "outputs": [
    {
     "data": {
      "text/plain": [
       "False"
      ]
     },
     "execution_count": 10,
     "metadata": {},
     "output_type": "execute_result"
    }
   ],
   "source": [
    "'a' * 21 is 'aaaaaaaaaaaaaaaaaaaaa'"
   ]
  },
  {
   "cell_type": "markdown",
   "metadata": {},
   "source": [
    "Makes sense, right?\n",
    "\n",
    "#### 💡 Explanation:\n",
    "+ Such behavior is due to CPython optimization (called string interning) that tries to use existing immutable objects in some cases rather than creating a new object every time.\n",
    "+ After being interned, many variables may point to the same string object in memory (thereby saving memory).\n",
    "+ In the snippets above, strings are implicitly interned. The decision of when to implicitly intern a string is implementation dependent. There are some facts that can be used to guess if a string will be interned or not:\n",
    "  * All length 0 and length 1 strings are interned.\n",
    "  * Strings are interned at compile time (`'wtf'` will be interned but `''.join(['w', 't', 'f']` will not be interned)\n",
    "  * Strings that are not composed of ASCII letters, digits or underscores, are not interned. This explains why `'wtf!'` was not interned due to `!`. Cpython implementation of this rule can be found [here](https://github.com/python/cpython/blob/3.6/Objects/codeobject.c#L19)\n",
    "  <img src=\"/images/string-intern/string_intern.png\" alt=\"\">\n",
    "+ When `a` and `b` are set to `\"wtf!\"` in the same line, the Python interpreter creates a new object, then references the second variable at the same time. If you do it on separate lines, it doesn't \"know\" that there's already `wtf!` as an object (because `\"wtf!\"` is not implicitly interned as per the facts mentioned above). It's a compiler optimization and specifically applies to the interactive environment.\n",
    "+ Constant folding is a technique for [peephole optimization](https://en.wikipedia.org/wiki/Peephole_optimization) in Python. This means the expression `'a'*20` is replaced by `'aaaaaaaaaaaaaaaaaaaa'` during compilation to reduce few clock cycles during runtime. Constant folding only occurs for strings having length less than 20. (Why? Imagine the size of `.pyc` file generated as a result of the expression `'a'*10**10`). [Here's](https://github.com/python/cpython/blob/3.6/Python/peephole.c#L288) the implementation source for the same.\n",
    "\n",
    "\n",
    "---"
   ]
  },
  {
   "cell_type": "markdown",
   "metadata": {},
   "source": [
    "### ▶ Time for some hash brownies!\n",
    "\n",
    "## 1)"
   ]
  },
  {
   "cell_type": "code",
   "execution_count": 1,
   "metadata": {
    "attributes": {
     "classes": [
      "py"
     ],
     "id": ""
    }
   },
   "outputs": [],
   "source": [
    "some_dict = {}\n",
    "some_dict[5.5] = \"Ruby\"\n",
    "some_dict[5.0] = \"JavaScript\"\n",
    "some_dict[5] = \"Python\""
   ]
  },
  {
   "cell_type": "markdown",
   "metadata": {},
   "source": [
    "**Output:**"
   ]
  },
  {
   "cell_type": "code",
   "execution_count": 11,
   "metadata": {
    "attributes": {
     "classes": [
      "py"
     ],
     "id": ""
    }
   },
   "outputs": [
    {
     "data": {
      "text/plain": [
       "'Ruby'"
      ]
     },
     "execution_count": 11,
     "metadata": {},
     "output_type": "execute_result"
    }
   ],
   "source": [
    "some_dict[5.5]"
   ]
  },
  {
   "cell_type": "code",
   "execution_count": 12,
   "metadata": {},
   "outputs": [
    {
     "data": {
      "text/plain": [
       "'Python'"
      ]
     },
     "execution_count": 12,
     "metadata": {},
     "output_type": "execute_result"
    }
   ],
   "source": [
    "some_dict[5.0]"
   ]
  },
  {
   "cell_type": "code",
   "execution_count": 13,
   "metadata": {},
   "outputs": [
    {
     "data": {
      "text/plain": [
       "'Python'"
      ]
     },
     "execution_count": 13,
     "metadata": {},
     "output_type": "execute_result"
    }
   ],
   "source": [
    "some_dict[5]"
   ]
  },
  {
   "cell_type": "markdown",
   "metadata": {},
   "source": [
    "\"Python\" destroyed the existence of \"JavaScript\"?\n",
    "\n",
    "#### 💡 Explanation\n",
    "\n",
    "* Python dictionaries check for equality and compare the hash value to determine if two keys are the same.\n",
    "* Immutable objects with same value always have the same hash in Python.\n",
    "  ```py\n",
    "  >>> 5 == 5.0\n",
    "  True\n",
    "  >>> hash(5) == hash(5.0)\n",
    "  True\n",
    "  ```\n",
    "  **Note:** Objects with different values may also have same hash (known as hash collision).\n",
    "* When the statement `some_dict[5] = \"Python\"` is executed, the existing value \"JavaScript\" is overwritten with \"Python\" because Python recognizes `5` and `5.0` as the same keys of the dictionary `some_dict`.\n",
    "* This StackOverflow [answer](https://stackoverflow.com/a/32211042/4354153) explains beautifully the rationale behind it.\n",
    "\n",
    "---"
   ]
  },
  {
   "cell_type": "markdown",
   "metadata": {},
   "source": [
    "### ▶ Return return everywhere!"
   ]
  },
  {
   "cell_type": "code",
   "execution_count": 14,
   "metadata": {
    "attributes": {
     "classes": [
      "py"
     ],
     "id": ""
    }
   },
   "outputs": [],
   "source": [
    "def some_func():\n",
    "    try:\n",
    "        return 'from_try'\n",
    "    finally:\n",
    "        return 'from_finally'"
   ]
  },
  {
   "cell_type": "markdown",
   "metadata": {},
   "source": [
    "**Output:**"
   ]
  },
  {
   "cell_type": "code",
   "execution_count": 15,
   "metadata": {
    "attributes": {
     "classes": [
      "py"
     ],
     "id": ""
    }
   },
   "outputs": [
    {
     "data": {
      "text/plain": [
       "'from_finally'"
      ]
     },
     "execution_count": 15,
     "metadata": {},
     "output_type": "execute_result"
    }
   ],
   "source": [
    "some_func()"
   ]
  },
  {
   "cell_type": "markdown",
   "metadata": {},
   "source": [
    "#### 💡 Explanation:\n",
    "\n",
    "- When a `return`, `break` or `continue` statement is executed in the `try` suite of a \"try…finally\" statement, the `finally` clause is also executed ‘on the way out.\n",
    "- The return value of a function is determined by the last `return` statement executed. Since the `finally` clause always executes, a `return` statement executed in the `finally` clause will always be the last one executed.\n",
    "\n",
    "---"
   ]
  },
  {
   "cell_type": "markdown",
   "metadata": {},
   "source": [
    "### ▶ Deep down, we're all the same. *"
   ]
  },
  {
   "cell_type": "code",
   "execution_count": 16,
   "metadata": {
    "attributes": {
     "classes": [
      "py"
     ],
     "id": ""
    }
   },
   "outputs": [],
   "source": [
    "class WTF:\n",
    "    pass"
   ]
  },
  {
   "cell_type": "markdown",
   "metadata": {},
   "source": [
    "**Output:**"
   ]
  },
  {
   "cell_type": "code",
   "execution_count": 18,
   "metadata": {
    "attributes": {
     "classes": [
      "py"
     ],
     "id": ""
    }
   },
   "outputs": [
    {
     "data": {
      "text/plain": [
       "False"
      ]
     },
     "execution_count": 18,
     "metadata": {},
     "output_type": "execute_result"
    }
   ],
   "source": [
    "WTF() == WTF() # two different instances can't be equal"
   ]
  },
  {
   "cell_type": "code",
   "execution_count": 19,
   "metadata": {},
   "outputs": [
    {
     "data": {
      "text/plain": [
       "False"
      ]
     },
     "execution_count": 19,
     "metadata": {},
     "output_type": "execute_result"
    }
   ],
   "source": [
    "WTF() is WTF() # identities are also different"
   ]
  },
  {
   "cell_type": "code",
   "execution_count": 20,
   "metadata": {},
   "outputs": [
    {
     "data": {
      "text/plain": [
       "True"
      ]
     },
     "execution_count": 20,
     "metadata": {},
     "output_type": "execute_result"
    }
   ],
   "source": [
    "hash(WTF()) == hash(WTF()) # hashes _should_ be different as well"
   ]
  },
  {
   "cell_type": "code",
   "execution_count": 21,
   "metadata": {},
   "outputs": [
    {
     "data": {
      "text/plain": [
       "True"
      ]
     },
     "execution_count": 21,
     "metadata": {},
     "output_type": "execute_result"
    }
   ],
   "source": [
    "id(WTF()) == id(WTF())"
   ]
  },
  {
   "cell_type": "markdown",
   "metadata": {},
   "source": [
    "#### 💡 Explanation:\n",
    "\n",
    "* When `id` was called, Python created a `WTF` class object and passed it to the `id` function. The `id` function takes its `id` (its memory location), and throws away the object. The object is destroyed.\n",
    "* When we do this twice in succession, Python allocates the same memory location to this second object as well. Since (in CPython) `id` uses the memory location as the object id, the id of the two objects is the same.\n",
    "* So, object's id is unique only for the lifetime of the object. After the object is destroyed, or before it is created, something else can have the same id.\n",
    "* But why did the `is` operator evaluated to `False`? Let's see with this snippet.\n",
    "  ```py\n",
    "  class WTF(object):\n",
    "    def __init__(self): print(\"I\")\n",
    "    def __del__(self): print(\"D\")\n",
    "  ```\n",
    "\n",
    "  **Output:**\n",
    "  ```py\n",
    "  >>> WTF() is WTF()\n",
    "  I\n",
    "  I\n",
    "  D\n",
    "  D\n",
    "  False\n",
    "  >>> id(WTF()) == id(WTF())\n",
    "  I\n",
    "  D\n",
    "  I\n",
    "  D\n",
    "  True\n",
    "  ```\n",
    "  As you may observe, the order in which the objects are destroyed is what made all the difference here.\n",
    "\n",
    "---"
   ]
  },
  {
   "cell_type": "markdown",
   "metadata": {},
   "source": [
    "### ▶ For what?"
   ]
  },
  {
   "cell_type": "code",
   "execution_count": 22,
   "metadata": {
    "attributes": {
     "classes": [
      "py"
     ],
     "id": ""
    }
   },
   "outputs": [],
   "source": [
    "some_string = \"wtf\"\n",
    "some_dict = {}\n",
    "for i, some_dict[i] in enumerate(some_string):\n",
    "    pass"
   ]
  },
  {
   "cell_type": "markdown",
   "metadata": {},
   "source": [
    "**Output:**"
   ]
  },
  {
   "cell_type": "code",
   "execution_count": 23,
   "metadata": {
    "attributes": {
     "classes": [
      "py"
     ],
     "id": ""
    }
   },
   "outputs": [
    {
     "data": {
      "text/plain": [
       "{0: 'w', 1: 't', 2: 'f'}"
      ]
     },
     "execution_count": 23,
     "metadata": {},
     "output_type": "execute_result"
    }
   ],
   "source": [
    "some_dict # An indexed dict is created."
   ]
  },
  {
   "cell_type": "markdown",
   "metadata": {},
   "source": [
    "####  💡 Explanation:\n",
    "\n",
    "* A `for` statement is defined in the [Python grammar](https://docs.python.org/3/reference/grammar.html) as:\n",
    "  ```\n",
    "  for_stmt: 'for' exprlist 'in' testlist ':' suite ['else' ':' suite]\n",
    "  ```\n",
    "  Where `exprlist` is the assignment target. This means that the equivalent of `{exprlist} = {next_value}` is **executed for each item** in the iterable.\n",
    "  An interesting example that illustrates this:\n",
    "  ```py\n",
    "  for i in range(4):\n",
    "      print(i)\n",
    "      i = 10\n",
    "  ```\n",
    "\n",
    "  **Output:**\n",
    "  ```\n",
    "  0\n",
    "  1\n",
    "  2\n",
    "  3\n",
    "  ```\n",
    "\n",
    "  Did you expect the loop to run just once?\n",
    "\n",
    "  **💡 Explanation:**\n",
    "\n",
    "  - The assignment statement `i = 10` never affects the iterations of the loop because of the way for loops work in Python. Before the beginning of every iteration, the next item provided by the iterator (`range(4)` this case) is unpacked and assigned the target list variables (`i` in this case).\n",
    "\n",
    "* The `enumerate(some_string)` function yields a new value `i` (A counter going up) and a character from the `some_string` in each iteration. It then sets the (just assigned) `i` key of the dictionary `some_dict` to that character. The unrolling of the loop can be simplified as:\n",
    "  ```py\n",
    "  >>> i, some_dict[i] = (0, 'w')\n",
    "  >>> i, some_dict[i] = (1, 't')\n",
    "  >>> i, some_dict[i] = (2, 'f')\n",
    "  >>> some_dict\n",
    "  ```\n",
    "\n",
    "---"
   ]
  },
  {
   "cell_type": "markdown",
   "metadata": {},
   "source": [
    "### ▶ Evaluation time discrepancy\n",
    "\n",
    "## 1)"
   ]
  },
  {
   "cell_type": "code",
   "execution_count": 24,
   "metadata": {
    "attributes": {
     "classes": [
      "py"
     ],
     "id": ""
    }
   },
   "outputs": [],
   "source": [
    "array = [1, 8, 15]\n",
    "g = (x for x in array if array.count(x) > 0)\n",
    "array = [2, 8, 22]"
   ]
  },
  {
   "cell_type": "markdown",
   "metadata": {},
   "source": [
    "**Output:**"
   ]
  },
  {
   "cell_type": "code",
   "execution_count": 26,
   "metadata": {
    "attributes": {
     "classes": [
      "py"
     ],
     "id": ""
    }
   },
   "outputs": [
    {
     "data": {
      "text/plain": [
       "[]"
      ]
     },
     "execution_count": 26,
     "metadata": {},
     "output_type": "execute_result"
    }
   ],
   "source": [
    "list(g)"
   ]
  },
  {
   "cell_type": "markdown",
   "metadata": {},
   "source": [
    "## 2)"
   ]
  },
  {
   "cell_type": "code",
   "execution_count": 27,
   "metadata": {
    "attributes": {
     "classes": [
      "py"
     ],
     "id": ""
    }
   },
   "outputs": [],
   "source": [
    "array_1 = [1,2,3,4]\n",
    "g1 = (x for x in array_1)\n",
    "array_1 = [1,2,3,4,5]\n",
    "\n",
    "array_2 = [1,2,3,4]\n",
    "g2 = (x for x in array_2)\n",
    "array_2[:] = [1,2,3,4,5]"
   ]
  },
  {
   "cell_type": "markdown",
   "metadata": {},
   "source": [
    "**Output:**"
   ]
  },
  {
   "cell_type": "code",
   "execution_count": 28,
   "metadata": {
    "attributes": {
     "classes": [
      "py"
     ],
     "id": ""
    }
   },
   "outputs": [
    {
     "data": {
      "text/plain": [
       "[1, 2, 3, 4]"
      ]
     },
     "execution_count": 28,
     "metadata": {},
     "output_type": "execute_result"
    }
   ],
   "source": [
    "list(g1)"
   ]
  },
  {
   "cell_type": "code",
   "execution_count": 29,
   "metadata": {},
   "outputs": [
    {
     "data": {
      "text/plain": [
       "[1, 2, 3, 4, 5]"
      ]
     },
     "execution_count": 29,
     "metadata": {},
     "output_type": "execute_result"
    }
   ],
   "source": [
    "list(g2)"
   ]
  },
  {
   "cell_type": "markdown",
   "metadata": {},
   "source": [
    "#### 💡 Explanation\n",
    "\n",
    "- In a [generator](https://wiki.python.org/moin/Generators) expression, the `in` clause is evaluated at declaration time, but the conditional clause is evaluated at runtime.\n",
    "- So before runtime, `array` is re-assigned to the list `[2, 8, 22]`, and since out of `1`, `8` and `15`, only the count of `8` is greater than `0`, the generator only yields `8`.\n",
    "- The differences in the output of `g1` and `g2` in the second part is due the way variables `array_1` and `array_2` are re-assigned values.\n",
    "- In the first case, `array_1` is binded to the new object `[1,2,3,4,5]` and since the `in` clause is evaluated at the declaration time it still refers to the old object `[1,2,3,4]` (which is not destroyed).\n",
    "- In the second case, the slice assignment to `array_2` updates the same old object `[1,2,3,4]` to `[1,2,3,4,5]`. Hence both the `g2` and `array_2` still have reference to the same object (which has now been updated to `[1,2,3,4,5]`).\n",
    "\n",
    "---"
   ]
  },
  {
   "cell_type": "markdown",
   "metadata": {},
   "source": [
    "### ▶ `is` is not what it is!\n",
    "\n",
    "The following is a very famous example present all over the internet."
   ]
  },
  {
   "cell_type": "code",
   "execution_count": 34,
   "metadata": {
    "attributes": {
     "classes": [
      "py"
     ],
     "id": ""
    }
   },
   "outputs": [
    {
     "data": {
      "text/plain": [
       "True"
      ]
     },
     "execution_count": 34,
     "metadata": {},
     "output_type": "execute_result"
    }
   ],
   "source": [
    "a = 256\n",
    "b = 256\n",
    "a is b"
   ]
  },
  {
   "cell_type": "code",
   "execution_count": 41,
   "metadata": {},
   "outputs": [
    {
     "data": {
      "text/plain": [
       "False"
      ]
     },
     "execution_count": 41,
     "metadata": {},
     "output_type": "execute_result"
    }
   ],
   "source": [
    "a = 257\n",
    "b = 257\n",
    "a is b"
   ]
  },
  {
   "cell_type": "code",
   "execution_count": 49,
   "metadata": {},
   "outputs": [
    {
     "data": {
      "text/plain": [
       "True"
      ]
     },
     "execution_count": 49,
     "metadata": {},
     "output_type": "execute_result"
    }
   ],
   "source": [
    "a, b = 257, 257\n",
    "a is b"
   ]
  },
  {
   "cell_type": "markdown",
   "metadata": {},
   "source": [
    "#### 💡 Explanation:\n",
    "\n",
    "**The difference between `is` and `==`**\n",
    "\n",
    "* `is` operator checks if both the operands refer to the same object (i.e., it checks if the identity of the operands matches or not).\n",
    "* `==` operator compares the values of both the operands and checks if they are the same.\n",
    "* So `is` is for reference equality and `==` is for value equality. An example to clear things up,\n",
    "  ```py\n",
    "  >>> [] == []\n",
    "  True\n",
    "  >>> [] is [] # These are two empty lists at two different memory locations.\n",
    "  False\n",
    "  ```\n",
    "\n",
    "**`256` is an existing object but `257` isn't**\n",
    "\n",
    "When you start up python the numbers from `-5` to `256` will be allocated. These numbers are used a lot, so it makes sense just to have them ready.\n",
    "\n",
    "Quoting from https://docs.python.org/3/c-api/long.html\n",
    "> The current implementation keeps an array of integer objects for all integers between -5 and 256, when you create an int in that range you just get back a reference to the existing object. So it should be possible to change the value of 1. I suspect the behavior of Python, in this case, is undefined. :-)"
   ]
  },
  {
   "cell_type": "code",
   "execution_count": 43,
   "metadata": {
    "attributes": {
     "classes": [
      "py"
     ],
     "id": ""
    }
   },
   "outputs": [
    {
     "data": {
      "text/plain": [
       "140082358593312"
      ]
     },
     "execution_count": 43,
     "metadata": {},
     "output_type": "execute_result"
    }
   ],
   "source": [
    "id(256)"
   ]
  },
  {
   "cell_type": "code",
   "execution_count": 44,
   "metadata": {},
   "outputs": [
    {
     "name": "stdout",
     "output_type": "stream",
     "text": [
      "140082358593312\n",
      "140082358593312\n",
      "140082124730192\n"
     ]
    }
   ],
   "source": [
    "a = 256\n",
    "b = 256\n",
    "print(id(a))\n",
    "print(id(b))\n",
    "print(id(257))"
   ]
  },
  {
   "cell_type": "code",
   "execution_count": 45,
   "metadata": {},
   "outputs": [
    {
     "name": "stdout",
     "output_type": "stream",
     "text": [
      "140082124728048\n",
      "140082124730128\n"
     ]
    }
   ],
   "source": [
    "x = 257\n",
    "y = 257\n",
    "print(id(x))\n",
    "print(id(y))"
   ]
  },
  {
   "cell_type": "markdown",
   "metadata": {},
   "source": [
    "Here the interpreter isn't smart enough while executing `y = 257` to recognize that we've already created an integer of the value `257,` and so it goes on to create another object in the memory.\n",
    "\n",
    "**Both `a` and `b` refer to the same object when initialized with same value in the same line.**"
   ]
  },
  {
   "cell_type": "code",
   "execution_count": 46,
   "metadata": {
    "attributes": {
     "classes": [
      "py"
     ],
     "id": ""
    }
   },
   "outputs": [
    {
     "name": "stdout",
     "output_type": "stream",
     "text": [
      "140082124730288\n",
      "140082124730288\n"
     ]
    }
   ],
   "source": [
    "a, b = 257, 257\n",
    "print(id(a))\n",
    "print(id(b))"
   ]
  },
  {
   "cell_type": "code",
   "execution_count": 47,
   "metadata": {},
   "outputs": [
    {
     "name": "stdout",
     "output_type": "stream",
     "text": [
      "140082124730320\n",
      "140082124730160\n"
     ]
    }
   ],
   "source": [
    "a = 257\n",
    "b = 257\n",
    "print(id(a))\n",
    "print(id(b))"
   ]
  },
  {
   "cell_type": "markdown",
   "metadata": {},
   "source": [
    "* When a and b are set to `257` in the same line, the Python interpreter creates a new object, then references the second variable at the same time. If you do it on separate lines, it doesn't \"know\" that there's already `257` as an object.\n",
    "* It's a compiler optimization and specifically applies to the interactive environment. When you enter two lines in a live interpreter, they're compiled separately, therefore optimized separately. If you were to try this example in a `.py` file, you would not see the same behavior, because the file is compiled all at once.\n",
    "\n",
    "---"
   ]
  },
  {
   "cell_type": "markdown",
   "metadata": {},
   "source": [
    "### ▶ A tic-tac-toe where X wins in the first attempt!"
   ]
  },
  {
   "cell_type": "code",
   "execution_count": 50,
   "metadata": {
    "attributes": {
     "classes": [
      "py"
     ],
     "id": ""
    }
   },
   "outputs": [],
   "source": [
    "# Let's initialize a row\n",
    "row = [\"\"]*3 #row i['', '', '']\n",
    "# Let's make a board\n",
    "board = [row]*3"
   ]
  },
  {
   "cell_type": "markdown",
   "metadata": {},
   "source": [
    "**Output:**"
   ]
  },
  {
   "cell_type": "code",
   "execution_count": 51,
   "metadata": {
    "attributes": {
     "classes": [
      "py"
     ],
     "id": ""
    }
   },
   "outputs": [
    {
     "data": {
      "text/plain": [
       "[['', '', ''], ['', '', ''], ['', '', '']]"
      ]
     },
     "execution_count": 51,
     "metadata": {},
     "output_type": "execute_result"
    }
   ],
   "source": [
    "board"
   ]
  },
  {
   "cell_type": "code",
   "execution_count": 52,
   "metadata": {},
   "outputs": [
    {
     "data": {
      "text/plain": [
       "['', '', '']"
      ]
     },
     "execution_count": 52,
     "metadata": {},
     "output_type": "execute_result"
    }
   ],
   "source": [
    "board[0]"
   ]
  },
  {
   "cell_type": "code",
   "execution_count": 53,
   "metadata": {},
   "outputs": [
    {
     "data": {
      "text/plain": [
       "''"
      ]
     },
     "execution_count": 53,
     "metadata": {},
     "output_type": "execute_result"
    }
   ],
   "source": [
    "board[0][0]"
   ]
  },
  {
   "cell_type": "code",
   "execution_count": 54,
   "metadata": {},
   "outputs": [
    {
     "data": {
      "text/plain": [
       "[['X', '', ''], ['X', '', ''], ['X', '', '']]"
      ]
     },
     "execution_count": 54,
     "metadata": {},
     "output_type": "execute_result"
    }
   ],
   "source": [
    "board[0][0] = \"X\"\n",
    "board"
   ]
  },
  {
   "cell_type": "markdown",
   "metadata": {},
   "source": [
    "We didn't assign 3 \"X\"s or did we?\n",
    "\n",
    "#### 💡 Explanation:\n",
    "\n",
    "When we initialize `row` variable, this visualization explains what happens in the memory\n",
    "\n",
    "![image](/images/tic-tac-toe/after_row_initialized.png)\n",
    "\n",
    "And when the `board` is initialized by multiplying the `row`, this is what happens inside the memory (each of the elements `board[0]`, `board[1]` and `board[2]` is a reference to the same list referred by `row`)\n",
    "\n",
    "![image](/images/tic-tac-toe/after_board_initialized.png)\n",
    "\n",
    "We can avoid this scenario here by not using `row` variable to generate `board`. (Asked in [this](https://github.com/satwikkansal/wtfpython/issues/68) issue)."
   ]
  },
  {
   "cell_type": "code",
   "execution_count": 55,
   "metadata": {
    "attributes": {
     "classes": [
      "py"
     ],
     "id": ""
    }
   },
   "outputs": [
    {
     "data": {
      "text/plain": [
       "[['X', '', ''], ['', '', ''], ['', '', '']]"
      ]
     },
     "execution_count": 55,
     "metadata": {},
     "output_type": "execute_result"
    }
   ],
   "source": [
    "board = [['']*3 for _ in range(3)]\n",
    "board[0][0] = \"X\"\n",
    "board"
   ]
  },
  {
   "cell_type": "markdown",
   "metadata": {},
   "source": [
    "---"
   ]
  },
  {
   "cell_type": "markdown",
   "metadata": {},
   "source": [
    "### ▶ The sticky output function"
   ]
  },
  {
   "cell_type": "code",
   "execution_count": 56,
   "metadata": {
    "attributes": {
     "classes": [
      "py"
     ],
     "id": ""
    }
   },
   "outputs": [],
   "source": [
    "funcs = []\n",
    "results = []\n",
    "for x in range(7):\n",
    "    def some_func():\n",
    "        return x\n",
    "    funcs.append(some_func)\n",
    "    results.append(some_func())  # note the function call here\n",
    "\n",
    "funcs_results = [func() for func in funcs]"
   ]
  },
  {
   "cell_type": "markdown",
   "metadata": {},
   "source": [
    "**Output:**"
   ]
  },
  {
   "cell_type": "code",
   "execution_count": 57,
   "metadata": {
    "attributes": {
     "classes": [
      "py"
     ],
     "id": ""
    }
   },
   "outputs": [
    {
     "data": {
      "text/plain": [
       "[0, 1, 2, 3, 4, 5, 6]"
      ]
     },
     "execution_count": 57,
     "metadata": {},
     "output_type": "execute_result"
    }
   ],
   "source": [
    "results"
   ]
  },
  {
   "cell_type": "code",
   "execution_count": 58,
   "metadata": {},
   "outputs": [
    {
     "data": {
      "text/plain": [
       "[6, 6, 6, 6, 6, 6, 6]"
      ]
     },
     "execution_count": 58,
     "metadata": {},
     "output_type": "execute_result"
    }
   ],
   "source": [
    "funcs_results"
   ]
  },
  {
   "cell_type": "markdown",
   "metadata": {},
   "source": [
    "Even when the values of `x` were different in every iteration prior to appending `some_func` to `funcs`, all the functions return 6.\n",
    "\n",
    "//OR"
   ]
  },
  {
   "cell_type": "code",
   "execution_count": 59,
   "metadata": {
    "attributes": {
     "classes": [
      "py"
     ],
     "id": ""
    }
   },
   "outputs": [
    {
     "data": {
      "text/plain": [
       "[512, 512, 512, 512, 512, 512, 512, 512, 512, 512]"
      ]
     },
     "execution_count": 59,
     "metadata": {},
     "output_type": "execute_result"
    }
   ],
   "source": [
    "powers_of_x = [lambda x: x**i for i in range(10)]\n",
    "[f(2) for f in powers_of_x]"
   ]
  },
  {
   "cell_type": "markdown",
   "metadata": {},
   "source": [
    "#### 💡 Explanation\n",
    "\n",
    "- When defining a function inside a loop that uses the loop variable in its body, the loop function's closure is bound to the variable, not its value. So all of the functions use the latest value assigned to the variable for computation.\n",
    "\n",
    "- To get the desired behavior you can pass in the loop variable as a named variable to the function. **Why this works?** Because this will define the variable again within the function's scope."
   ]
  },
  {
   "cell_type": "code",
   "execution_count": 60,
   "metadata": {},
   "outputs": [],
   "source": [
    "funcs = []\n",
    "for x in range(7):\n",
    "    def some_func(x=x):\n",
    "        return x\n",
    "    funcs.append(some_func)"
   ]
  },
  {
   "cell_type": "code",
   "execution_count": 61,
   "metadata": {},
   "outputs": [
    {
     "data": {
      "text/plain": [
       "[0, 1, 2, 3, 4, 5, 6]"
      ]
     },
     "execution_count": 61,
     "metadata": {},
     "output_type": "execute_result"
    }
   ],
   "source": [
    "funcs_results = [func() for func in funcs]\n",
    "funcs_results"
   ]
  },
  {
   "cell_type": "markdown",
   "metadata": {},
   "source": [
    "---"
   ]
  },
  {
   "cell_type": "markdown",
   "metadata": {},
   "source": [
    "### ▶ `is not ...` is not `is (not ...)`"
   ]
  },
  {
   "cell_type": "code",
   "execution_count": 62,
   "metadata": {
    "attributes": {
     "classes": [
      "py"
     ],
     "id": ""
    }
   },
   "outputs": [
    {
     "data": {
      "text/plain": [
       "True"
      ]
     },
     "execution_count": 62,
     "metadata": {},
     "output_type": "execute_result"
    }
   ],
   "source": [
    "'something' is not None"
   ]
  },
  {
   "cell_type": "code",
   "execution_count": 63,
   "metadata": {},
   "outputs": [
    {
     "data": {
      "text/plain": [
       "False"
      ]
     },
     "execution_count": 63,
     "metadata": {},
     "output_type": "execute_result"
    }
   ],
   "source": [
    "'something' is (not None)"
   ]
  },
  {
   "cell_type": "markdown",
   "metadata": {},
   "source": [
    "#### 💡 Explanation\n",
    "\n",
    "- `is not` is a single binary operator, and has behavior different than using `is` and `not` separated.\n",
    "- `is not` evaluates to `False` if the variables on either side of the operator point to the same object and `True` otherwise.\n",
    "\n",
    "---"
   ]
  },
  {
   "cell_type": "markdown",
   "metadata": {},
   "source": [
    "### ▶ The surprising comma\n",
    "\n",
    "**Output:**"
   ]
  },
  {
   "cell_type": "code",
   "execution_count": 64,
   "metadata": {
    "attributes": {
     "classes": [
      "py"
     ],
     "id": ""
    }
   },
   "outputs": [],
   "source": [
    "def f(x, y,):\n",
    "    print(x, y)\n",
    "\n",
    "def g(x=4, y=5,):\n",
    "    print(x, y)"
   ]
  },
  {
   "cell_type": "code",
   "execution_count": 66,
   "metadata": {},
   "outputs": [],
   "source": [
    "def h(x, **kwargs,):  # will fail in Python 2.x\n",
    "    pass"
   ]
  },
  {
   "cell_type": "code",
   "execution_count": 67,
   "metadata": {},
   "outputs": [],
   "source": [
    "def h(*args,):\n",
    "    pass"
   ]
  },
  {
   "cell_type": "markdown",
   "metadata": {},
   "source": [
    "#### 💡 Explanation:\n",
    "\n",
    "- Trailing comma is not always legal in formal parameters list of a Python function.\n",
    "-  In Python, the argument list is defined partially with leading commas and partially with trailing commas. This conflict causes situations where a comma is trapped in the middle, and no rule accepts it.\n",
    "-  **Note:** The trailing comma problem is [fixed in Python 3.6](https://bugs.python.org/issue9232). The remarks in [this](https://bugs.python.org/issue9232#msg248399) post discuss in brief different usages of trailing commas in Python.\n",
    "\n",
    "---"
   ]
  },
  {
   "cell_type": "markdown",
   "metadata": {},
   "source": [
    "### ▶ Backslashes at the end of string\n",
    "\n",
    "**Output:**"
   ]
  },
  {
   "cell_type": "code",
   "execution_count": 68,
   "metadata": {},
   "outputs": [
    {
     "name": "stdout",
     "output_type": "stream",
     "text": [
      "\\ C:\\\n"
     ]
    }
   ],
   "source": [
    "print(\"\\\\ C:\\\\\")"
   ]
  },
  {
   "cell_type": "code",
   "execution_count": 69,
   "metadata": {},
   "outputs": [
    {
     "name": "stdout",
     "output_type": "stream",
     "text": [
      "\\ C:\n"
     ]
    }
   ],
   "source": [
    "print(r\"\\ C:\")"
   ]
  },
  {
   "cell_type": "code",
   "execution_count": 70,
   "metadata": {},
   "outputs": [
    {
     "ename": "SyntaxError",
     "evalue": "EOL while scanning string literal (<ipython-input-70-9f31bfbe1cde>, line 1)",
     "output_type": "error",
     "traceback": [
      "\u001b[0;36m  File \u001b[0;32m\"<ipython-input-70-9f31bfbe1cde>\"\u001b[0;36m, line \u001b[0;32m1\u001b[0m\n\u001b[0;31m    print(r\"\\ C:\\\")\u001b[0m\n\u001b[0m                   ^\u001b[0m\n\u001b[0;31mSyntaxError\u001b[0m\u001b[0;31m:\u001b[0m EOL while scanning string literal\n"
     ]
    }
   ],
   "source": [
    "print(r\"\\ C:\\\")"
   ]
  },
  {
   "cell_type": "markdown",
   "metadata": {},
   "source": [
    "#### 💡 Explanation\n",
    "\n",
    "- In a raw string literal, as indicated by the prefix `r`, the backslash doesn't have the special meaning.\n",
    "  ```py\n",
    "  >>> print(repr(r\"wt\\\"f\"))\n",
    "  'wt\\\\\"f'\n",
    "  ```\n",
    "- What the interpreter actually does, though, is simply change the behavior of backslashes, so they pass themselves and the following character through. That's why backslashes don't work at the end of a raw string.\n",
    "\n",
    "---"
   ]
  },
  {
   "cell_type": "markdown",
   "metadata": {},
   "source": [
    "### ▶ not knot!"
   ]
  },
  {
   "cell_type": "code",
   "execution_count": 71,
   "metadata": {
    "attributes": {
     "classes": [
      "py"
     ],
     "id": ""
    }
   },
   "outputs": [],
   "source": [
    "x = True\n",
    "y = False"
   ]
  },
  {
   "cell_type": "markdown",
   "metadata": {},
   "source": [
    "**Output:**"
   ]
  },
  {
   "cell_type": "code",
   "execution_count": 72,
   "metadata": {
    "attributes": {
     "classes": [
      "py"
     ],
     "id": ""
    }
   },
   "outputs": [
    {
     "data": {
      "text/plain": [
       "True"
      ]
     },
     "execution_count": 72,
     "metadata": {},
     "output_type": "execute_result"
    }
   ],
   "source": [
    "not x == y"
   ]
  },
  {
   "cell_type": "code",
   "execution_count": 73,
   "metadata": {},
   "outputs": [
    {
     "ename": "SyntaxError",
     "evalue": "invalid syntax (<ipython-input-73-5e18c95a882f>, line 1)",
     "output_type": "error",
     "traceback": [
      "\u001b[0;36m  File \u001b[0;32m\"<ipython-input-73-5e18c95a882f>\"\u001b[0;36m, line \u001b[0;32m1\u001b[0m\n\u001b[0;31m    x == not y\u001b[0m\n\u001b[0m           ^\u001b[0m\n\u001b[0;31mSyntaxError\u001b[0m\u001b[0;31m:\u001b[0m invalid syntax\n"
     ]
    }
   ],
   "source": [
    "x == not y"
   ]
  },
  {
   "cell_type": "markdown",
   "metadata": {},
   "source": [
    "#### 💡 Explanation:\n",
    "\n",
    "* Operator precedence affects how an expression is evaluated, and `==` operator has higher precedence than `not` operator in Python.\n",
    "* So `not x == y` is equivalent to `not (x == y)` which is equivalent to `not (True == False)` finally evaluating to `True`.\n",
    "* But `x == not y` raises a `SyntaxError` because it can be thought of being equivalent to `(x == not) y` and not `x == (not y)` which you might have expected at first sight.\n",
    "* The parser expected the `not` token to be a part of the `not in` operator (because both `==` and `not in` operators have the same precedence), but after not being able to find an `in` token following the `not` token, it raises a `SyntaxError`.\n",
    "\n",
    "---"
   ]
  },
  {
   "cell_type": "markdown",
   "metadata": {},
   "source": [
    "### ▶ Half triple-quoted strings\n",
    "\n",
    "**Output:**"
   ]
  },
  {
   "cell_type": "code",
   "execution_count": 74,
   "metadata": {
    "attributes": {
     "classes": [
      "py"
     ],
     "id": ""
    }
   },
   "outputs": [
    {
     "name": "stdout",
     "output_type": "stream",
     "text": [
      "wtfpython\n"
     ]
    }
   ],
   "source": [
    "print('wtfpython''')"
   ]
  },
  {
   "cell_type": "code",
   "execution_count": 75,
   "metadata": {},
   "outputs": [
    {
     "name": "stdout",
     "output_type": "stream",
     "text": [
      "wtfpython\n"
     ]
    }
   ],
   "source": [
    "print(\"wtfpython\"\"\")"
   ]
  },
  {
   "cell_type": "code",
   "execution_count": 76,
   "metadata": {},
   "outputs": [],
   "source": [
    "# The following statements raise `SyntaxError`\n",
    "# print('''wtfpython')\n",
    "# print(\"\"\"wtfpython\")"
   ]
  },
  {
   "cell_type": "markdown",
   "metadata": {},
   "source": [
    "#### 💡 Explanation:\n",
    "+ Python supports implicit [string literal concatenation](https://docs.python.org/2/reference/lexical_analysis.html#string-literal-concatenation), Example,\n",
    "  ```\n",
    "  >>> print(\"wtf\" \"python\")\n",
    "  wtfpython\n",
    "  >>> print(\"wtf\" \"\") # or \"wtf\"\"\"\n",
    "  wtf\n",
    "  ```\n",
    "+ `'''` and `\"\"\"` are also string delimiters in Python which causes a SyntaxError because the Python interpreter was expecting a terminating triple quote as delimiter while scanning the currently encountered triple quoted string literal.\n",
    "\n",
    "---"
   ]
  },
  {
   "cell_type": "markdown",
   "metadata": {},
   "source": [
    "### ▶ Midnight time doesn't exist?"
   ]
  },
  {
   "cell_type": "code",
   "execution_count": 77,
   "metadata": {
    "attributes": {
     "classes": [
      "py"
     ],
     "id": ""
    }
   },
   "outputs": [
    {
     "name": "stdout",
     "output_type": "stream",
     "text": [
      "Time at midnight is 00:00:00\n",
      "Time at noon is 12:00:00\n"
     ]
    }
   ],
   "source": [
    "from datetime import datetime\n",
    "\n",
    "midnight = datetime(2018, 1, 1, 0, 0)\n",
    "midnight_time = midnight.time()\n",
    "\n",
    "noon = datetime(2018, 1, 1, 12, 0)\n",
    "noon_time = noon.time()\n",
    "\n",
    "if midnight_time:\n",
    "    print(\"Time at midnight is\", midnight_time)\n",
    "\n",
    "if noon_time:\n",
    "    print(\"Time at noon is\", noon_time)"
   ]
  },
  {
   "cell_type": "markdown",
   "metadata": {},
   "source": [
    "**Output:**"
   ]
  },
  {
   "cell_type": "code",
   "execution_count": 84,
   "metadata": {
    "attributes": {
     "classes": [
      "sh"
     ],
     "id": ""
    }
   },
   "outputs": [
    {
     "data": {
      "text/plain": [
       "('Time at noon is', datetime.time(0, 0))"
      ]
     },
     "execution_count": 84,
     "metadata": {},
     "output_type": "execute_result"
    }
   ],
   "source": [
    "('Time at noon is', midnight_time)"
   ]
  },
  {
   "cell_type": "markdown",
   "metadata": {},
   "source": [
    "The midnight time is not printed.\n",
    "\n",
    "#### 💡 Explanation:\n",
    "\n",
    "Before Python 3.5, the boolean value for `datetime.time` object was considered to be `False` if it represented midnight in UTC. It is error-prone when using the `if obj:` syntax to check if the `obj` is null or some equivalent of \"empty.\"\n",
    "\n",
    "---"
   ]
  },
  {
   "cell_type": "markdown",
   "metadata": {},
   "source": [
    "### ▶ What's wrong with booleans?\n",
    "\n",
    "## 1)"
   ]
  },
  {
   "cell_type": "code",
   "execution_count": 85,
   "metadata": {
    "attributes": {
     "classes": [
      "py"
     ],
     "id": ""
    }
   },
   "outputs": [],
   "source": [
    "# A simple example to count the number of boolean and\n",
    "# integers in an iterable of mixed data types.\n",
    "mixed_list = [False, 1.0, \"some_string\", 3, True, [], False]\n",
    "integers_found_so_far = 0\n",
    "booleans_found_so_far = 0\n",
    "\n",
    "for item in mixed_list:\n",
    "    if isinstance(item, int):\n",
    "        integers_found_so_far += 1\n",
    "    elif isinstance(item, bool):\n",
    "        booleans_found_so_far += 1"
   ]
  },
  {
   "cell_type": "markdown",
   "metadata": {},
   "source": [
    "**Output:**"
   ]
  },
  {
   "cell_type": "code",
   "execution_count": 86,
   "metadata": {
    "attributes": {
     "classes": [
      "py"
     ],
     "id": ""
    }
   },
   "outputs": [
    {
     "data": {
      "text/plain": [
       "4"
      ]
     },
     "execution_count": 86,
     "metadata": {},
     "output_type": "execute_result"
    }
   ],
   "source": [
    "integers_found_so_far"
   ]
  },
  {
   "cell_type": "code",
   "execution_count": 87,
   "metadata": {},
   "outputs": [
    {
     "data": {
      "text/plain": [
       "0"
      ]
     },
     "execution_count": 87,
     "metadata": {},
     "output_type": "execute_result"
    }
   ],
   "source": [
    "booleans_found_so_far"
   ]
  },
  {
   "cell_type": "markdown",
   "metadata": {},
   "source": [
    "## 2)"
   ]
  },
  {
   "cell_type": "code",
   "execution_count": 88,
   "metadata": {
    "attributes": {
     "classes": [
      "py"
     ],
     "id": ""
    }
   },
   "outputs": [],
   "source": [
    "another_dict = {}\n",
    "another_dict[True] = \"JavaScript\"\n",
    "another_dict[1] = \"Ruby\"\n",
    "another_dict[1.0] = \"Python\""
   ]
  },
  {
   "cell_type": "markdown",
   "metadata": {},
   "source": [
    "**Output:**"
   ]
  },
  {
   "cell_type": "code",
   "execution_count": 89,
   "metadata": {
    "attributes": {
     "classes": [
      "py"
     ],
     "id": ""
    }
   },
   "outputs": [
    {
     "data": {
      "text/plain": [
       "'Python'"
      ]
     },
     "execution_count": 89,
     "metadata": {},
     "output_type": "execute_result"
    }
   ],
   "source": [
    "another_dict[True]"
   ]
  },
  {
   "cell_type": "markdown",
   "metadata": {},
   "source": [
    "## 3)"
   ]
  },
  {
   "cell_type": "code",
   "execution_count": 91,
   "metadata": {
    "attributes": {
     "classes": [
      "py"
     ],
     "id": ""
    }
   },
   "outputs": [
    {
     "data": {
      "text/plain": [
       "'wtf'"
      ]
     },
     "execution_count": 91,
     "metadata": {},
     "output_type": "execute_result"
    }
   ],
   "source": [
    "some_bool = True\n",
    "\"wtf\" * some_bool"
   ]
  },
  {
   "cell_type": "code",
   "execution_count": 92,
   "metadata": {},
   "outputs": [
    {
     "data": {
      "text/plain": [
       "''"
      ]
     },
     "execution_count": 92,
     "metadata": {},
     "output_type": "execute_result"
    }
   ],
   "source": [
    "some_bool = False\n",
    "\"wtf\" * some_bool"
   ]
  },
  {
   "cell_type": "markdown",
   "metadata": {},
   "source": [
    "#### 💡 Explanation:\n",
    "\n",
    "* Booleans are a subclass of `int`\n",
    "  ```py\n",
    "  >>> isinstance(True, int)\n",
    "  True\n",
    "  >>> isinstance(False, int)\n",
    "  True\n",
    "  ```\n",
    "\n",
    "* The integer value of `True` is `1` and that of `False` is `0`.\n",
    "  ```py\n",
    "  >>> True == 1 == 1.0 and False == 0 == 0.0\n",
    "  True\n",
    "  ```\n",
    "\n",
    "* See this StackOverflow [answer](https://stackoverflow.com/a/8169049/4354153) for the rationale behind it.\n",
    "\n",
    "---"
   ]
  },
  {
   "cell_type": "markdown",
   "metadata": {},
   "source": [
    "### ▶ Class attributes and instance attributes\n",
    "\n",
    "## 1)"
   ]
  },
  {
   "cell_type": "code",
   "execution_count": 93,
   "metadata": {
    "attributes": {
     "classes": [
      "py"
     ],
     "id": ""
    }
   },
   "outputs": [],
   "source": [
    "class A:\n",
    "    x = 1\n",
    "\n",
    "class B(A):\n",
    "    pass\n",
    "\n",
    "class C(A):\n",
    "    pass"
   ]
  },
  {
   "cell_type": "markdown",
   "metadata": {},
   "source": [
    "**Output:**"
   ]
  },
  {
   "cell_type": "code",
   "execution_count": 94,
   "metadata": {
    "attributes": {
     "classes": [
      "py"
     ],
     "id": ""
    }
   },
   "outputs": [
    {
     "data": {
      "text/plain": [
       "(1, 1, 1)"
      ]
     },
     "execution_count": 94,
     "metadata": {},
     "output_type": "execute_result"
    }
   ],
   "source": [
    "A.x, B.x, C.x"
   ]
  },
  {
   "cell_type": "code",
   "execution_count": 95,
   "metadata": {},
   "outputs": [
    {
     "data": {
      "text/plain": [
       "(1, 2, 1)"
      ]
     },
     "execution_count": 95,
     "metadata": {},
     "output_type": "execute_result"
    }
   ],
   "source": [
    "B.x = 2\n",
    "A.x, B.x, C.x"
   ]
  },
  {
   "cell_type": "code",
   "execution_count": 96,
   "metadata": {},
   "outputs": [
    {
     "data": {
      "text/plain": [
       "(3, 2, 3)"
      ]
     },
     "execution_count": 96,
     "metadata": {},
     "output_type": "execute_result"
    }
   ],
   "source": [
    "A.x = 3\n",
    "A.x, B.x, C.x"
   ]
  },
  {
   "cell_type": "code",
   "execution_count": 97,
   "metadata": {},
   "outputs": [
    {
     "data": {
      "text/plain": [
       "(3, 3)"
      ]
     },
     "execution_count": 97,
     "metadata": {},
     "output_type": "execute_result"
    }
   ],
   "source": [
    "a = A()\n",
    "a.x, A.x"
   ]
  },
  {
   "cell_type": "code",
   "execution_count": 98,
   "metadata": {},
   "outputs": [
    {
     "data": {
      "text/plain": [
       "(4, 3)"
      ]
     },
     "execution_count": 98,
     "metadata": {},
     "output_type": "execute_result"
    }
   ],
   "source": [
    "a.x += 1\n",
    "a.x, A.x"
   ]
  },
  {
   "cell_type": "markdown",
   "metadata": {},
   "source": [
    "## 2)"
   ]
  },
  {
   "cell_type": "code",
   "execution_count": 99,
   "metadata": {
    "attributes": {
     "classes": [
      "py"
     ],
     "id": ""
    }
   },
   "outputs": [],
   "source": [
    "class SomeClass:\n",
    "    some_var = 15\n",
    "    some_list = [5]\n",
    "    another_list = [5]\n",
    "    def __init__(self, x):\n",
    "        self.some_var = x + 1\n",
    "        self.some_list = self.some_list + [x]\n",
    "        self.another_list += [x]"
   ]
  },
  {
   "cell_type": "markdown",
   "metadata": {},
   "source": [
    "**Output:**"
   ]
  },
  {
   "cell_type": "code",
   "execution_count": 100,
   "metadata": {
    "attributes": {
     "classes": [
      "py"
     ],
     "id": ""
    }
   },
   "outputs": [
    {
     "data": {
      "text/plain": [
       "[5, 420]"
      ]
     },
     "execution_count": 100,
     "metadata": {},
     "output_type": "execute_result"
    }
   ],
   "source": [
    "some_obj = SomeClass(420)\n",
    "some_obj.some_list"
   ]
  },
  {
   "cell_type": "code",
   "execution_count": 101,
   "metadata": {},
   "outputs": [
    {
     "data": {
      "text/plain": [
       "[5, 420]"
      ]
     },
     "execution_count": 101,
     "metadata": {},
     "output_type": "execute_result"
    }
   ],
   "source": [
    "some_obj.another_list"
   ]
  },
  {
   "cell_type": "code",
   "execution_count": 102,
   "metadata": {},
   "outputs": [
    {
     "data": {
      "text/plain": [
       "[5, 111]"
      ]
     },
     "execution_count": 102,
     "metadata": {},
     "output_type": "execute_result"
    }
   ],
   "source": [
    "another_obj = SomeClass(111)\n",
    "another_obj.some_list"
   ]
  },
  {
   "cell_type": "code",
   "execution_count": 103,
   "metadata": {},
   "outputs": [
    {
     "data": {
      "text/plain": [
       "[5, 420, 111]"
      ]
     },
     "execution_count": 103,
     "metadata": {},
     "output_type": "execute_result"
    }
   ],
   "source": [
    "another_obj.another_list"
   ]
  },
  {
   "cell_type": "code",
   "execution_count": 104,
   "metadata": {},
   "outputs": [
    {
     "data": {
      "text/plain": [
       "True"
      ]
     },
     "execution_count": 104,
     "metadata": {},
     "output_type": "execute_result"
    }
   ],
   "source": [
    "another_obj.another_list is SomeClass.another_list"
   ]
  },
  {
   "cell_type": "code",
   "execution_count": 105,
   "metadata": {},
   "outputs": [
    {
     "data": {
      "text/plain": [
       "True"
      ]
     },
     "execution_count": 105,
     "metadata": {},
     "output_type": "execute_result"
    }
   ],
   "source": [
    "another_obj.another_list is some_obj.another_list"
   ]
  },
  {
   "cell_type": "markdown",
   "metadata": {},
   "source": [
    "#### 💡 Explanation:\n",
    "\n",
    "* Class variables and variables in class instances are internally handled as dictionaries of a class object. If a variable name is not found in the dictionary of the current class, the parent classes are searched for it.\n",
    "* The `+=` operator modifies the mutable object in-place without creating a new object. So changing the attribute of one instance affects the other instances and the class attribute as well.\n",
    "\n",
    "---"
   ]
  },
  {
   "cell_type": "markdown",
   "metadata": {},
   "source": [
    "### ▶ yielding None"
   ]
  },
  {
   "cell_type": "code",
   "execution_count": 106,
   "metadata": {
    "attributes": {
     "classes": [
      "py"
     ],
     "id": ""
    }
   },
   "outputs": [],
   "source": [
    "some_iterable = ('a', 'b')\n",
    "\n",
    "def some_func(val):\n",
    "    return \"something\""
   ]
  },
  {
   "cell_type": "markdown",
   "metadata": {},
   "source": [
    "**Output:**"
   ]
  },
  {
   "cell_type": "code",
   "execution_count": 107,
   "metadata": {
    "attributes": {
     "classes": [
      "py"
     ],
     "id": ""
    }
   },
   "outputs": [
    {
     "data": {
      "text/plain": [
       "['a', 'b']"
      ]
     },
     "execution_count": 107,
     "metadata": {},
     "output_type": "execute_result"
    }
   ],
   "source": [
    "[x for x in some_iterable]"
   ]
  },
  {
   "cell_type": "code",
   "execution_count": 108,
   "metadata": {},
   "outputs": [
    {
     "data": {
      "text/plain": [
       "<generator object <listcomp> at 0x7f67693f1518>"
      ]
     },
     "execution_count": 108,
     "metadata": {},
     "output_type": "execute_result"
    }
   ],
   "source": [
    "[(yield x) for x in some_iterable]"
   ]
  },
  {
   "cell_type": "code",
   "execution_count": 109,
   "metadata": {},
   "outputs": [
    {
     "data": {
      "text/plain": [
       "['a', 'b']"
      ]
     },
     "execution_count": 109,
     "metadata": {},
     "output_type": "execute_result"
    }
   ],
   "source": [
    "list([(yield x) for x in some_iterable])"
   ]
  },
  {
   "cell_type": "code",
   "execution_count": 110,
   "metadata": {},
   "outputs": [
    {
     "data": {
      "text/plain": [
       "['a', None, 'b', None]"
      ]
     },
     "execution_count": 110,
     "metadata": {},
     "output_type": "execute_result"
    }
   ],
   "source": [
    "list((yield x) for x in some_iterable)"
   ]
  },
  {
   "cell_type": "code",
   "execution_count": 111,
   "metadata": {},
   "outputs": [
    {
     "data": {
      "text/plain": [
       "['a', 'something', 'b', 'something']"
      ]
     },
     "execution_count": 111,
     "metadata": {},
     "output_type": "execute_result"
    }
   ],
   "source": [
    "list(some_func((yield x)) for x in some_iterable)"
   ]
  },
  {
   "cell_type": "markdown",
   "metadata": {},
   "source": [
    "#### 💡 Explanation:\n",
    "- Source and explanation can be found here: https://stackoverflow.com/questions/32139885/yield-in-list-comprehensions-and-generator-expressions\n",
    "- Related bug report: http://bugs.python.org/issue10544\n",
    "\n",
    "---"
   ]
  },
  {
   "cell_type": "markdown",
   "metadata": {},
   "source": [
    "### ▶ Mutating the immutable!"
   ]
  },
  {
   "cell_type": "code",
   "execution_count": 112,
   "metadata": {
    "attributes": {
     "classes": [
      "py"
     ],
     "id": ""
    }
   },
   "outputs": [],
   "source": [
    "some_tuple = (\"A\", \"tuple\", \"with\", \"values\")\n",
    "another_tuple = ([1, 2], [3, 4], [5, 6])"
   ]
  },
  {
   "cell_type": "markdown",
   "metadata": {},
   "source": [
    "**Output:**"
   ]
  },
  {
   "cell_type": "code",
   "execution_count": 113,
   "metadata": {
    "attributes": {
     "classes": [
      "py"
     ],
     "id": ""
    }
   },
   "outputs": [
    {
     "ename": "TypeError",
     "evalue": "'tuple' object does not support item assignment",
     "output_type": "error",
     "traceback": [
      "\u001b[0;31m---------------------------------------------------------------------------\u001b[0m",
      "\u001b[0;31mTypeError\u001b[0m                                 Traceback (most recent call last)",
      "\u001b[0;32m<ipython-input-113-c4a1bb954614>\u001b[0m in \u001b[0;36m<module>\u001b[0;34m\u001b[0m\n\u001b[0;32m----> 1\u001b[0;31m \u001b[0msome_tuple\u001b[0m\u001b[0;34m[\u001b[0m\u001b[0;36m2\u001b[0m\u001b[0;34m]\u001b[0m \u001b[0;34m=\u001b[0m \u001b[0;34m\"change this\"\u001b[0m\u001b[0;34m\u001b[0m\u001b[0m\n\u001b[0m",
      "\u001b[0;31mTypeError\u001b[0m: 'tuple' object does not support item assignment"
     ]
    }
   ],
   "source": [
    "some_tuple[2] = \"change this\""
   ]
  },
  {
   "cell_type": "code",
   "execution_count": 114,
   "metadata": {},
   "outputs": [
    {
     "data": {
      "text/plain": [
       "([1, 2], [3, 4], [5, 6, 1000])"
      ]
     },
     "execution_count": 114,
     "metadata": {},
     "output_type": "execute_result"
    }
   ],
   "source": [
    "another_tuple[2].append(1000) #This throws no error\n",
    "another_tuple"
   ]
  },
  {
   "cell_type": "code",
   "execution_count": 115,
   "metadata": {},
   "outputs": [
    {
     "ename": "TypeError",
     "evalue": "'tuple' object does not support item assignment",
     "output_type": "error",
     "traceback": [
      "\u001b[0;31m---------------------------------------------------------------------------\u001b[0m",
      "\u001b[0;31mTypeError\u001b[0m                                 Traceback (most recent call last)",
      "\u001b[0;32m<ipython-input-115-9265ffc24d6e>\u001b[0m in \u001b[0;36m<module>\u001b[0;34m\u001b[0m\n\u001b[0;32m----> 1\u001b[0;31m \u001b[0manother_tuple\u001b[0m\u001b[0;34m[\u001b[0m\u001b[0;36m2\u001b[0m\u001b[0;34m]\u001b[0m \u001b[0;34m+=\u001b[0m \u001b[0;34m[\u001b[0m\u001b[0;36m99\u001b[0m\u001b[0;34m,\u001b[0m \u001b[0;36m999\u001b[0m\u001b[0;34m]\u001b[0m\u001b[0;34m\u001b[0m\u001b[0m\n\u001b[0m",
      "\u001b[0;31mTypeError\u001b[0m: 'tuple' object does not support item assignment"
     ]
    }
   ],
   "source": [
    "another_tuple[2] += [99, 999]"
   ]
  },
  {
   "cell_type": "code",
   "execution_count": 117,
   "metadata": {},
   "outputs": [
    {
     "data": {
      "text/plain": [
       "([1, 2], [3, 4], [5, 6, 1000, 99, 999])"
      ]
     },
     "execution_count": 117,
     "metadata": {},
     "output_type": "execute_result"
    }
   ],
   "source": [
    "another_tuple"
   ]
  },
  {
   "cell_type": "markdown",
   "metadata": {},
   "source": [
    "But I thought tuples were immutable...\n",
    "\n",
    "#### 💡 Explanation:\n",
    "\n",
    "* Quoting from https://docs.python.org/2/reference/datamodel.html"
   ]
  },
  {
   "cell_type": "markdown",
   "metadata": {},
   "source": [
    "> Immutable sequences\n",
    "An object of an immutable sequence type cannot change once it is created. (If the object contains references to other objects, these other objects may be mutable and may be modified; however, the collection of objects directly referenced by an immutable object cannot change.)"
   ]
  },
  {
   "cell_type": "markdown",
   "metadata": {},
   "source": [
    "* `+=` operator changes the list in-place. The item assignment doesn't work, but when the exception occurs, the item has already been changed in place.\n",
    "\n",
    "---"
   ]
  },
  {
   "cell_type": "markdown",
   "metadata": {},
   "source": [
    "### ▶ The disappearing variable from outer scope"
   ]
  },
  {
   "cell_type": "code",
   "execution_count": 119,
   "metadata": {
    "attributes": {
     "classes": [
      "py"
     ],
     "id": ""
    }
   },
   "outputs": [],
   "source": [
    "e = 7\n",
    "try:\n",
    "    raise Exception()\n",
    "except Exception as e:\n",
    "    pass"
   ]
  },
  {
   "cell_type": "markdown",
   "metadata": {},
   "source": [
    "**Output (Python 2.x):**"
   ]
  },
  {
   "cell_type": "code",
   "execution_count": null,
   "metadata": {
    "attributes": {
     "classes": [
      "py"
     ],
     "id": ""
    }
   },
   "outputs": [],
   "source": [
    "print(e)\n",
    "# prints nothing"
   ]
  },
  {
   "cell_type": "markdown",
   "metadata": {},
   "source": [
    "**Output (Python 3.x):**"
   ]
  },
  {
   "cell_type": "code",
   "execution_count": 121,
   "metadata": {
    "attributes": {
     "classes": [
      "py"
     ],
     "id": ""
    }
   },
   "outputs": [
    {
     "ename": "NameError",
     "evalue": "name 'e' is not defined",
     "output_type": "error",
     "traceback": [
      "\u001b[0;31m---------------------------------------------------------------------------\u001b[0m",
      "\u001b[0;31mNameError\u001b[0m                                 Traceback (most recent call last)",
      "\u001b[0;32m<ipython-input-121-0c8bf275a22d>\u001b[0m in \u001b[0;36m<module>\u001b[0;34m\u001b[0m\n\u001b[0;32m----> 1\u001b[0;31m \u001b[0mprint\u001b[0m\u001b[0;34m(\u001b[0m\u001b[0me\u001b[0m\u001b[0;34m)\u001b[0m\u001b[0;34m\u001b[0m\u001b[0m\n\u001b[0m",
      "\u001b[0;31mNameError\u001b[0m: name 'e' is not defined"
     ]
    }
   ],
   "source": [
    "print(e)"
   ]
  },
  {
   "cell_type": "markdown",
   "metadata": {},
   "source": [
    "#### 💡 Explanation:\n",
    "\n",
    "* Source: https://docs.python.org/3/reference/compound_stmts.html#except\n",
    "\n",
    "  When an exception has been assigned using `as` target, it is cleared at the end of the except clause. This is as if\n",
    "\n",
    "  ```py\n",
    "  except E as N:\n",
    "      foo\n",
    "  ```\n",
    "\n",
    "  was translated into\n",
    "\n",
    "  ```py\n",
    "  except E as N:\n",
    "      try:\n",
    "          foo\n",
    "      finally:\n",
    "          del N\n",
    "  ```\n",
    "\n",
    "  This means the exception must be assigned to a different name to be able to refer to it after the except clause. Exceptions are cleared because, with the traceback attached to them, they form a reference cycle with the stack frame, keeping all locals in that frame alive until the next garbage collection occurs.\n",
    "\n",
    "* The clauses are not scoped in Python. Everything in the example is present in the same scope, and the variable `e` got removed due to the execution of the `except` clause. The same is not the case with functions which have their separate inner-scopes. The example below illustrates this:"
   ]
  },
  {
   "cell_type": "code",
   "execution_count": 122,
   "metadata": {},
   "outputs": [],
   "source": [
    "def f(x):\n",
    "    del(x)\n",
    "    print(x)\n",
    "\n",
    "x = 5\n",
    "y = [5, 4, 3]"
   ]
  },
  {
   "cell_type": "code",
   "execution_count": 124,
   "metadata": {},
   "outputs": [
    {
     "ename": "UnboundLocalError",
     "evalue": "local variable 'x' referenced before assignment",
     "output_type": "error",
     "traceback": [
      "\u001b[0;31m---------------------------------------------------------------------------\u001b[0m",
      "\u001b[0;31mUnboundLocalError\u001b[0m                         Traceback (most recent call last)",
      "\u001b[0;32m<ipython-input-124-f2d123ee1505>\u001b[0m in \u001b[0;36m<module>\u001b[0;34m\u001b[0m\n\u001b[0;32m----> 1\u001b[0;31m \u001b[0mf\u001b[0m\u001b[0;34m(\u001b[0m\u001b[0mx\u001b[0m\u001b[0;34m)\u001b[0m\u001b[0;34m\u001b[0m\u001b[0m\n\u001b[0m",
      "\u001b[0;32m<ipython-input-122-0244e0702425>\u001b[0m in \u001b[0;36mf\u001b[0;34m(***failed resolving arguments***)\u001b[0m\n\u001b[1;32m      1\u001b[0m \u001b[0;32mdef\u001b[0m \u001b[0mf\u001b[0m\u001b[0;34m(\u001b[0m\u001b[0mx\u001b[0m\u001b[0;34m)\u001b[0m\u001b[0;34m:\u001b[0m\u001b[0;34m\u001b[0m\u001b[0m\n\u001b[1;32m      2\u001b[0m     \u001b[0;32mdel\u001b[0m\u001b[0;34m(\u001b[0m\u001b[0mx\u001b[0m\u001b[0;34m)\u001b[0m\u001b[0;34m\u001b[0m\u001b[0m\n\u001b[0;32m----> 3\u001b[0;31m     \u001b[0mprint\u001b[0m\u001b[0;34m(\u001b[0m\u001b[0mx\u001b[0m\u001b[0;34m)\u001b[0m\u001b[0;34m\u001b[0m\u001b[0m\n\u001b[0m\u001b[1;32m      4\u001b[0m \u001b[0;34m\u001b[0m\u001b[0m\n\u001b[1;32m      5\u001b[0m \u001b[0mx\u001b[0m \u001b[0;34m=\u001b[0m \u001b[0;36m5\u001b[0m\u001b[0;34m\u001b[0m\u001b[0m\n",
      "\u001b[0;31mUnboundLocalError\u001b[0m: local variable 'x' referenced before assignment"
     ]
    }
   ],
   "source": [
    "f(x)"
   ]
  },
  {
   "cell_type": "code",
   "execution_count": 125,
   "metadata": {},
   "outputs": [
    {
     "ename": "UnboundLocalError",
     "evalue": "local variable 'x' referenced before assignment",
     "output_type": "error",
     "traceback": [
      "\u001b[0;31m---------------------------------------------------------------------------\u001b[0m",
      "\u001b[0;31mUnboundLocalError\u001b[0m                         Traceback (most recent call last)",
      "\u001b[0;32m<ipython-input-125-f58f2f95546b>\u001b[0m in \u001b[0;36m<module>\u001b[0;34m\u001b[0m\n\u001b[0;32m----> 1\u001b[0;31m \u001b[0mf\u001b[0m\u001b[0;34m(\u001b[0m\u001b[0my\u001b[0m\u001b[0;34m)\u001b[0m\u001b[0;34m\u001b[0m\u001b[0m\n\u001b[0m",
      "\u001b[0;32m<ipython-input-122-0244e0702425>\u001b[0m in \u001b[0;36mf\u001b[0;34m(***failed resolving arguments***)\u001b[0m\n\u001b[1;32m      1\u001b[0m \u001b[0;32mdef\u001b[0m \u001b[0mf\u001b[0m\u001b[0;34m(\u001b[0m\u001b[0mx\u001b[0m\u001b[0;34m)\u001b[0m\u001b[0;34m:\u001b[0m\u001b[0;34m\u001b[0m\u001b[0m\n\u001b[1;32m      2\u001b[0m     \u001b[0;32mdel\u001b[0m\u001b[0;34m(\u001b[0m\u001b[0mx\u001b[0m\u001b[0;34m)\u001b[0m\u001b[0;34m\u001b[0m\u001b[0m\n\u001b[0;32m----> 3\u001b[0;31m     \u001b[0mprint\u001b[0m\u001b[0;34m(\u001b[0m\u001b[0mx\u001b[0m\u001b[0;34m)\u001b[0m\u001b[0;34m\u001b[0m\u001b[0m\n\u001b[0m\u001b[1;32m      4\u001b[0m \u001b[0;34m\u001b[0m\u001b[0m\n\u001b[1;32m      5\u001b[0m \u001b[0mx\u001b[0m \u001b[0;34m=\u001b[0m \u001b[0;36m5\u001b[0m\u001b[0;34m\u001b[0m\u001b[0m\n",
      "\u001b[0;31mUnboundLocalError\u001b[0m: local variable 'x' referenced before assignment"
     ]
    }
   ],
   "source": [
    "f(y)"
   ]
  },
  {
   "cell_type": "code",
   "execution_count": 126,
   "metadata": {},
   "outputs": [
    {
     "data": {
      "text/plain": [
       "5"
      ]
     },
     "execution_count": 126,
     "metadata": {},
     "output_type": "execute_result"
    }
   ],
   "source": [
    "x"
   ]
  },
  {
   "cell_type": "code",
   "execution_count": 127,
   "metadata": {},
   "outputs": [
    {
     "data": {
      "text/plain": [
       "[5, 4, 3]"
      ]
     },
     "execution_count": 127,
     "metadata": {},
     "output_type": "execute_result"
    }
   ],
   "source": [
    "y"
   ]
  },
  {
   "cell_type": "markdown",
   "metadata": {},
   "source": [
    "* In Python 2.x the variable name `e` gets assigned to `Exception()` instance, so when you try to print, it prints nothing."
   ]
  },
  {
   "cell_type": "code",
   "execution_count": null,
   "metadata": {},
   "outputs": [],
   "source": [
    "# (Python 2.x)\n",
    "e\n",
    "Exception()\n",
    "print e\n",
    "# Nothing is printed!"
   ]
  },
  {
   "cell_type": "markdown",
   "metadata": {},
   "source": [
    "---"
   ]
  },
  {
   "cell_type": "markdown",
   "metadata": {},
   "source": [
    "### ▶ When True is actually False"
   ]
  },
  {
   "cell_type": "code",
   "execution_count": 128,
   "metadata": {
    "attributes": {
     "classes": [
      "py"
     ],
     "id": ""
    }
   },
   "outputs": [
    {
     "ename": "SyntaxError",
     "evalue": "can't assign to keyword (<ipython-input-128-e6048e2f435b>, line 1)",
     "output_type": "error",
     "traceback": [
      "\u001b[0;36m  File \u001b[0;32m\"<ipython-input-128-e6048e2f435b>\"\u001b[0;36m, line \u001b[0;32m1\u001b[0m\n\u001b[0;31m    True = False\u001b[0m\n\u001b[0m                ^\u001b[0m\n\u001b[0;31mSyntaxError\u001b[0m\u001b[0;31m:\u001b[0m can't assign to keyword\n"
     ]
    }
   ],
   "source": [
    "True = False\n",
    "if True == False:\n",
    "    print(\"I've lost faith in truth!\")"
   ]
  },
  {
   "cell_type": "markdown",
   "metadata": {},
   "source": [
    "**Output:**"
   ]
  },
  {
   "cell_type": "code",
   "execution_count": null,
   "metadata": {},
   "outputs": [],
   "source": [
    "I've lost faith in truth!"
   ]
  },
  {
   "cell_type": "markdown",
   "metadata": {},
   "source": [
    "#### 💡 Explanation:\n",
    "\n",
    "- Initially, Python used to have no `bool` type (people used 0 for false and non-zero value like 1 for true). Then they added `True`, `False`, and a `bool` type, but, for backward compatibility, they couldn't make `True` and `False` constants- they just were built-in variables.\n",
    "- Python 3 was backward-incompatible, so it was now finally possible to fix that, and so this example won't work with Python 3.x!\n",
    "\n",
    "---"
   ]
  },
  {
   "cell_type": "markdown",
   "metadata": {},
   "source": [
    "### ▶ From filled to None in one instruction..."
   ]
  },
  {
   "cell_type": "code",
   "execution_count": 129,
   "metadata": {
    "attributes": {
     "classes": [
      "py"
     ],
     "id": ""
    }
   },
   "outputs": [],
   "source": [
    "some_list = [1, 2, 3]\n",
    "some_dict = {\n",
    "  \"key_1\": 1,\n",
    "  \"key_2\": 2,\n",
    "  \"key_3\": 3\n",
    "}\n",
    "\n",
    "some_list = some_list.append(4)\n",
    "some_dict = some_dict.update({\"key_4\": 4})"
   ]
  },
  {
   "cell_type": "markdown",
   "metadata": {},
   "source": [
    "**Output:**"
   ]
  },
  {
   "cell_type": "code",
   "execution_count": 131,
   "metadata": {
    "attributes": {
     "classes": [
      "py"
     ],
     "id": ""
    }
   },
   "outputs": [
    {
     "name": "stdout",
     "output_type": "stream",
     "text": [
      "None\n"
     ]
    }
   ],
   "source": [
    "print(some_list)"
   ]
  },
  {
   "cell_type": "code",
   "execution_count": 132,
   "metadata": {},
   "outputs": [
    {
     "name": "stdout",
     "output_type": "stream",
     "text": [
      "None\n"
     ]
    }
   ],
   "source": [
    "print(some_dict)"
   ]
  },
  {
   "cell_type": "markdown",
   "metadata": {},
   "source": [
    "#### 💡 Explanation\n",
    "\n",
    "Most methods that modify the items of sequence/mapping objects like `list.append`, `dict.update`, `list.sort`, etc. modify the objects in-place and return `None`. The rationale behind this is to improve performance by avoiding making a copy of the object if the operation can be done in-place (Referred from [here](http://docs.python.org/2/faq/design.html#why-doesn-t-list-sort-return-the-sorted-list))\n",
    "\n",
    "---"
   ]
  },
  {
   "cell_type": "markdown",
   "metadata": {},
   "source": [
    "### ▶ Subclass relationships *\n",
    "\n",
    "**Output:**"
   ]
  },
  {
   "cell_type": "code",
   "execution_count": 133,
   "metadata": {
    "attributes": {
     "classes": [
      "py"
     ],
     "id": ""
    }
   },
   "outputs": [
    {
     "data": {
      "text/plain": [
       "True"
      ]
     },
     "execution_count": 133,
     "metadata": {},
     "output_type": "execute_result"
    }
   ],
   "source": [
    "from collections import Hashable\n",
    "issubclass(list, object)"
   ]
  },
  {
   "cell_type": "code",
   "execution_count": 134,
   "metadata": {},
   "outputs": [
    {
     "data": {
      "text/plain": [
       "True"
      ]
     },
     "execution_count": 134,
     "metadata": {},
     "output_type": "execute_result"
    }
   ],
   "source": [
    "issubclass(object, Hashable)"
   ]
  },
  {
   "cell_type": "code",
   "execution_count": 135,
   "metadata": {},
   "outputs": [
    {
     "data": {
      "text/plain": [
       "False"
      ]
     },
     "execution_count": 135,
     "metadata": {},
     "output_type": "execute_result"
    }
   ],
   "source": [
    "issubclass(list, Hashable)"
   ]
  },
  {
   "cell_type": "markdown",
   "metadata": {},
   "source": [
    "The Subclass relationships were expected to be transitive, right? (i.e., if `A` is a subclass of `B`, and `B` is a subclass of `C`, the `A` _should_ a subclass of `C`)\n",
    "\n",
    "#### 💡 Explanation:\n",
    "\n",
    "* Subclass relationships are not necessarily transitive in Python. Anyone is allowed to define their own, arbitrary `__subclasscheck__` in a metaclass.\n",
    "* When `issubclass(cls, Hashable)` is called, it simply looks for non-Falsey \"`__hash__`\" method in `cls` or anything it inherits from.\n",
    "* Since `object` is hashable, but `list` is non-hashable, it breaks the transitivity relation.\n",
    "* More detailed explanation can be found [here](https://www.naftaliharris.com/blog/python-subclass-intransitivity/).\n",
    "\n",
    "---"
   ]
  },
  {
   "cell_type": "markdown",
   "metadata": {},
   "source": [
    "### ▶ The mysterious key type conversion *"
   ]
  },
  {
   "cell_type": "code",
   "execution_count": 136,
   "metadata": {
    "attributes": {
     "classes": [
      "py"
     ],
     "id": ""
    }
   },
   "outputs": [],
   "source": [
    "class SomeClass(str):\n",
    "    pass\n",
    "\n",
    "some_dict = {'s':42}"
   ]
  },
  {
   "cell_type": "markdown",
   "metadata": {},
   "source": [
    "**Output:**"
   ]
  },
  {
   "cell_type": "code",
   "execution_count": 137,
   "metadata": {
    "attributes": {
     "classes": [
      "py"
     ],
     "id": ""
    }
   },
   "outputs": [
    {
     "data": {
      "text/plain": [
       "str"
      ]
     },
     "execution_count": 137,
     "metadata": {},
     "output_type": "execute_result"
    }
   ],
   "source": [
    "type(list(some_dict.keys())[0])"
   ]
  },
  {
   "cell_type": "code",
   "execution_count": 138,
   "metadata": {},
   "outputs": [
    {
     "data": {
      "text/plain": [
       "{'s': 40}"
      ]
     },
     "execution_count": 138,
     "metadata": {},
     "output_type": "execute_result"
    }
   ],
   "source": [
    "s = SomeClass('s')\n",
    "some_dict[s] = 40\n",
    "some_dict # expected: Two different keys-value pairs"
   ]
  },
  {
   "cell_type": "code",
   "execution_count": 139,
   "metadata": {},
   "outputs": [
    {
     "data": {
      "text/plain": [
       "str"
      ]
     },
     "execution_count": 139,
     "metadata": {},
     "output_type": "execute_result"
    }
   ],
   "source": [
    "type(list(some_dict.keys())[0])"
   ]
  },
  {
   "cell_type": "markdown",
   "metadata": {},
   "source": [
    "#### 💡 Explanation:\n",
    "\n",
    "* Both the object `s` and the string `\"s\"` hash to the same value because `SomeClass` inherits the `__hash__` method of `str` class.\n",
    "* `SomeClass(\"s\") == \"s\"` evaluates to `True` because `SomeClass` also inherits `__eq__` method from `str` class.\n",
    "* Since both the objects hash to the same value and are equal, they are represented by the same key in the dictionary.\n",
    "* For the desired behavior, we can redefine the `__eq__` method in `SomeClass`\n",
    "  ```py\n",
    "  class SomeClass(str):\n",
    "    def __eq__(self, other):\n",
    "        return (\n",
    "            type(self) is SomeClass\n",
    "            and type(other) is SomeClass\n",
    "            and super().__eq__(other)\n",
    "        )"
   ]
  },
  {
   "cell_type": "code",
   "execution_count": 140,
   "metadata": {},
   "outputs": [],
   "source": [
    "# When we define a custom __eq__, Python stops automatically inheriting the\n",
    "# __hash__ method, so we need to define it as well\n",
    "__hash__ = str.__hash__"
   ]
  },
  {
   "cell_type": "markdown",
   "metadata": {},
   "source": [
    "some_dict = {'s':42}\n",
    "  ```\n",
    "\n",
    "  **Output:**\n",
    "  ```py\n",
    "  >>> s = SomeClass('s')\n",
    "  >>> some_dict[s] = 40\n",
    "  >>> some_dict\n",
    "  {'s': 40, 's': 42}\n",
    "  >>> keys = list(some_dict.keys())\n",
    "  >>> type(keys[0]), type(keys[1])\n",
    "  (__main__.SomeClass, str)\n",
    "  ```\n",
    "\n",
    "---"
   ]
  },
  {
   "cell_type": "markdown",
   "metadata": {},
   "source": [
    "### ▶ Let's see if you can guess this?"
   ]
  },
  {
   "cell_type": "code",
   "execution_count": 141,
   "metadata": {
    "attributes": {
     "classes": [
      "py"
     ],
     "id": ""
    }
   },
   "outputs": [],
   "source": [
    "a, b = a[b] = {}, 5"
   ]
  },
  {
   "cell_type": "markdown",
   "metadata": {},
   "source": [
    "**Output:**"
   ]
  },
  {
   "cell_type": "code",
   "execution_count": 142,
   "metadata": {
    "attributes": {
     "classes": [
      "py"
     ],
     "id": ""
    }
   },
   "outputs": [
    {
     "data": {
      "text/plain": [
       "{5: ({...}, 5)}"
      ]
     },
     "execution_count": 142,
     "metadata": {},
     "output_type": "execute_result"
    }
   ],
   "source": [
    "a"
   ]
  },
  {
   "cell_type": "markdown",
   "metadata": {},
   "source": [
    "#### 💡 Explanation:\n",
    "\n",
    "* According to [Python language reference](https://docs.python.org/2/reference/simple_stmts.html#assignment-statements), assignment statements have the form\n",
    "  ```\n",
    "  (target_list \"=\")+ (expression_list | yield_expression)\n",
    "  ```\n",
    "  and\n",
    "  > An assignment statement evaluates the expression list (remember that this can be a single expression or a comma-separated list, the latter yielding a tuple) and assigns the single resulting object to each of the target lists, from left to right.\n",
    "\n",
    "* The `+` in `(target_list \"=\")+` means there can be **one or more** target lists. In this case, target lists are `a, b` and `a[b]` (note the expression list is exactly one, which in our case is `{}, 5`).\n",
    "\n",
    "* After the expression list is evaluated, it's value is unpacked to the target lists from **left to right**. So, in our case, first the `{}, 5` tuple is unpacked to `a, b` and we now have `a = {}` and `b = 5`.\n",
    "\n",
    "* `a` is now assigned to `{}` which is a mutable object.\n",
    "\n",
    "* The second target list is `a[b]` (you may expect this to throw an error because both `a` and `b` have not been defined in the statements before. But remember, we just assigned `a` to `{}` and `b` to `5`).\n",
    "\n",
    "* Now, we are setting the key `5` in the dictionary to the tuple `({}, 5)` creating a circular reference (the `{...}` in the output refers to the same object that `a` is already referencing). Another simpler example of circular reference could be\n",
    "  ```py\n",
    "  >>> some_list = some_list[0] = [0]\n",
    "  >>> some_list\n",
    "  [[...]]\n",
    "  >>> some_list[0]\n",
    "  [[...]]\n",
    "  >>> some_list is some_list[0]\n",
    "  True\n",
    "  >>> some_list[0][0][0][0][0][0] == some_list\n",
    "  True\n",
    "  ```\n",
    "  Similar is the case in our example (`a[b][0]` is the same object as `a`)\n",
    "\n",
    "* So to sum it up, you can break the example down to\n",
    "  ```py\n",
    "  a, b = {}, 5\n",
    "  a[b] = a, b\n",
    "  ```\n",
    "  And the circular reference can be justified by the fact that `a[b][0]` is the same object as `a`\n",
    "  ```py\n",
    "  >>> a[b][0] is a\n",
    "  True\n",
    "  ```\n",
    "\n",
    "---\n",
    "\n",
    "---"
   ]
  },
  {
   "cell_type": "markdown",
   "metadata": {},
   "source": [
    "## Section: Appearances are deceptive!\n",
    "\n",
    "### ▶ Skipping lines?\n",
    "\n",
    "**Output:**"
   ]
  },
  {
   "cell_type": "code",
   "execution_count": 143,
   "metadata": {
    "attributes": {
     "classes": [
      "py"
     ],
     "id": ""
    }
   },
   "outputs": [
    {
     "data": {
      "text/plain": [
       "11"
      ]
     },
     "execution_count": 143,
     "metadata": {},
     "output_type": "execute_result"
    }
   ],
   "source": [
    "value = 11\n",
    "valuе = 32\n",
    "value"
   ]
  },
  {
   "cell_type": "markdown",
   "metadata": {},
   "source": [
    "Wut?\n",
    "\n",
    "**Note:** The easiest way to reproduce this is to simply copy the statements from the above snippet and paste them into your file/shell.\n",
    "\n",
    "#### 💡 Explanation\n",
    "\n",
    "Some non-Western characters look identical to letters in the English alphabet but are considered distinct by the interpreter."
   ]
  },
  {
   "cell_type": "code",
   "execution_count": 144,
   "metadata": {
    "attributes": {
     "classes": [
      "py"
     ],
     "id": ""
    }
   },
   "outputs": [
    {
     "data": {
      "text/plain": [
       "1077"
      ]
     },
     "execution_count": 144,
     "metadata": {},
     "output_type": "execute_result"
    }
   ],
   "source": [
    "ord('е') # cyrillic 'e' (Ye)"
   ]
  },
  {
   "cell_type": "code",
   "execution_count": 145,
   "metadata": {},
   "outputs": [
    {
     "data": {
      "text/plain": [
       "101"
      ]
     },
     "execution_count": 145,
     "metadata": {},
     "output_type": "execute_result"
    }
   ],
   "source": [
    "ord('e') # latin 'e', as used in English and typed using standard keyboard"
   ]
  },
  {
   "cell_type": "code",
   "execution_count": 146,
   "metadata": {},
   "outputs": [
    {
     "data": {
      "text/plain": [
       "False"
      ]
     },
     "execution_count": 146,
     "metadata": {},
     "output_type": "execute_result"
    }
   ],
   "source": [
    "'е' == 'e'"
   ]
  },
  {
   "cell_type": "code",
   "execution_count": 147,
   "metadata": {},
   "outputs": [
    {
     "data": {
      "text/plain": [
       "42"
      ]
     },
     "execution_count": 147,
     "metadata": {},
     "output_type": "execute_result"
    }
   ],
   "source": [
    "value = 42 # latin e\n",
    "valuе = 23 # cyrillic 'e', Python 2.x interpreter would raise a `SyntaxError` here\n",
    "value"
   ]
  },
  {
   "cell_type": "markdown",
   "metadata": {},
   "source": [
    "The built-in `ord()` function returns a character's Unicode [code point](https://en.wikipedia.org/wiki/Code_point), and different code positions of Cyrillic 'e' and Latin 'e' justify the behavior of the above example.\n",
    "\n",
    "---"
   ]
  },
  {
   "cell_type": "markdown",
   "metadata": {},
   "source": [
    "### ▶ Teleportation *"
   ]
  },
  {
   "cell_type": "code",
   "execution_count": 148,
   "metadata": {
    "attributes": {
     "classes": [
      "py"
     ],
     "id": ""
    }
   },
   "outputs": [],
   "source": [
    "import numpy as np\n",
    "\n",
    "def energy_send(x):\n",
    "    # Initializing a numpy array\n",
    "    np.array([float(x)])\n",
    "\n",
    "def energy_receive():\n",
    "    # Return an empty numpy array\n",
    "    return np.empty((), dtype=np.float).tolist()"
   ]
  },
  {
   "cell_type": "markdown",
   "metadata": {},
   "source": [
    "**Output:**"
   ]
  },
  {
   "cell_type": "code",
   "execution_count": 149,
   "metadata": {
    "attributes": {
     "classes": [
      "py"
     ],
     "id": ""
    }
   },
   "outputs": [
    {
     "data": {
      "text/plain": [
       "123.456"
      ]
     },
     "execution_count": 149,
     "metadata": {},
     "output_type": "execute_result"
    }
   ],
   "source": [
    "energy_send(123.456)\n",
    "energy_receive()"
   ]
  },
  {
   "cell_type": "markdown",
   "metadata": {},
   "source": [
    "Where's the Nobel Prize?\n",
    "\n",
    "#### 💡 Explanation:\n",
    "\n",
    "* Notice that the numpy array created in the `energy_send` function is not returned, so that memory space is free to reallocate.\n",
    "* `numpy.empty()` returns the next free memory slot without reinitializing it. This memory spot just happens to be the same one that was just freed (usually, but not always).\n",
    "\n",
    "---"
   ]
  },
  {
   "cell_type": "markdown",
   "metadata": {},
   "source": [
    "### ▶ Well, something is fishy..."
   ]
  },
  {
   "cell_type": "code",
   "execution_count": 150,
   "metadata": {
    "attributes": {
     "classes": [
      "py"
     ],
     "id": ""
    }
   },
   "outputs": [],
   "source": [
    "def square(x):\n",
    "    \"\"\"\n",
    "    A simple function to calculate the square of a number by addition.\n",
    "    \"\"\"\n",
    "    sum_so_far = 0\n",
    "    for counter in range(x):\n",
    "        sum_so_far = sum_so_far + x\n",
    "    return sum_so_far"
   ]
  },
  {
   "cell_type": "markdown",
   "metadata": {},
   "source": [
    "**Output (Python 2.x):**"
   ]
  },
  {
   "cell_type": "code",
   "execution_count": null,
   "metadata": {
    "attributes": {
     "classes": [
      "py"
     ],
     "id": ""
    }
   },
   "outputs": [],
   "source": [
    ">>> square(10)\n",
    "10"
   ]
  },
  {
   "cell_type": "markdown",
   "metadata": {},
   "source": [
    "Shouldn't that be 100?\n",
    "\n",
    "**Note:** If you're not able to reproduce this, try running the file [mixed_tabs_and_spaces.py](/mixed_tabs_and_spaces.py) via the shell.\n",
    "\n",
    "#### 💡 Explanation\n",
    "\n",
    "* **Don't mix tabs and spaces!** The character just preceding return is a \"tab\",  and the code is indented by multiple of \"4 spaces\" elsewhere in the example.\n",
    "* This is how Python handles tabs:\n",
    "  > First, tabs are replaced (from left to right) by one to eight spaces such that the total number of characters up to and including the replacement is a multiple of eight <...>\n",
    "* So the \"tab\" at the last line of `square` function is replaced with eight spaces, and it gets into the loop.\n",
    "* Python 3 is kind enough to throw an error for such cases automatically."
   ]
  },
  {
   "cell_type": "code",
   "execution_count": 152,
   "metadata": {},
   "outputs": [],
   "source": [
    "# Output (Python 3.x):\n",
    "# TabError: inconsistent use of tabs and spaces in indentation"
   ]
  },
  {
   "cell_type": "markdown",
   "metadata": {},
   "source": [
    "---\n",
    "\n",
    "---"
   ]
  },
  {
   "cell_type": "markdown",
   "metadata": {},
   "source": [
    "## Section: Watch out for the landmines!\n",
    "\n",
    "\n",
    "### ▶ Modifying a dictionary while iterating over it"
   ]
  },
  {
   "cell_type": "code",
   "execution_count": 153,
   "metadata": {
    "attributes": {
     "classes": [
      "py"
     ],
     "id": ""
    }
   },
   "outputs": [
    {
     "name": "stdout",
     "output_type": "stream",
     "text": [
      "0\n",
      "1\n",
      "2\n",
      "3\n",
      "4\n"
     ]
    }
   ],
   "source": [
    "x = {0: None}\n",
    "\n",
    "for i in x:\n",
    "    del x[i]\n",
    "    x[i+1] = None\n",
    "    print(i)"
   ]
  },
  {
   "cell_type": "markdown",
   "metadata": {},
   "source": [
    "**Output (Python 2.7- Python 3.5):**"
   ]
  },
  {
   "cell_type": "code",
   "execution_count": null,
   "metadata": {},
   "outputs": [],
   "source": [
    "0\n",
    "1\n",
    "2\n",
    "3\n",
    "4\n",
    "5\n",
    "6\n",
    "7"
   ]
  },
  {
   "cell_type": "markdown",
   "metadata": {},
   "source": [
    "Yes, it runs for exactly **eight** times and stops.\n",
    "\n",
    "#### 💡 Explanation:\n",
    "\n",
    "* Iteration over a dictionary that you edit at the same time is not supported.\n",
    "* It runs eight times because that's the point at which the dictionary resizes to hold more keys (we have eight deletion entries, so a resize is needed). This is actually an implementation detail.\n",
    "* How deleted keys are handled and when the resize occurs might be different for different Python implementations.\n",
    "* For more information, you may refer to this StackOverflow [thread](https://stackoverflow.com/questions/44763802/bug-in-python-dict) explaining a similar example in detail.\n",
    "\n",
    "---"
   ]
  },
  {
   "cell_type": "markdown",
   "metadata": {},
   "source": [
    "### ▶ Stubborn `del` operator *"
   ]
  },
  {
   "cell_type": "code",
   "execution_count": 154,
   "metadata": {
    "attributes": {
     "classes": [
      "py"
     ],
     "id": ""
    }
   },
   "outputs": [],
   "source": [
    "class SomeClass:\n",
    "    def __del__(self):\n",
    "        print(\"Deleted!\")"
   ]
  },
  {
   "cell_type": "markdown",
   "metadata": {},
   "source": [
    "**Output:**\n",
    "\n",
    "## 1)"
   ]
  },
  {
   "cell_type": "code",
   "execution_count": 155,
   "metadata": {
    "attributes": {
     "classes": [
      "py"
     ],
     "id": ""
    }
   },
   "outputs": [
    {
     "name": "stdout",
     "output_type": "stream",
     "text": [
      "Deleted!\n"
     ]
    }
   ],
   "source": [
    "x = SomeClass()\n",
    "y = x\n",
    "del x # this should print \"Deleted!\"\n",
    "del y"
   ]
  },
  {
   "cell_type": "markdown",
   "metadata": {},
   "source": [
    "Phew, deleted at last. You might have guessed what saved from `__del__` being called in our first attempt to delete `x`. Let's add more twist to the example.\n",
    "\n",
    "## 2)"
   ]
  },
  {
   "cell_type": "code",
   "execution_count": 156,
   "metadata": {
    "attributes": {
     "classes": [
      "py"
     ],
     "id": ""
    }
   },
   "outputs": [
    {
     "data": {
      "text/plain": [
       "<__main__.SomeClass at 0x7f6749f26780>"
      ]
     },
     "execution_count": 156,
     "metadata": {},
     "output_type": "execute_result"
    }
   ],
   "source": [
    "x = SomeClass()\n",
    "y = x\n",
    "del x\n",
    "y # check if y exists"
   ]
  },
  {
   "cell_type": "code",
   "execution_count": 157,
   "metadata": {},
   "outputs": [
    {
     "data": {
      "text/plain": [
       "{'__name__': '__main__',\n",
       " '__doc__': 'Automatically created module for IPython interactive environment',\n",
       " '__package__': None,\n",
       " '__loader__': None,\n",
       " '__spec__': None,\n",
       " '__builtin__': <module 'builtins' (built-in)>,\n",
       " '__builtins__': <module 'builtins' (built-in)>,\n",
       " '_ih': ['',\n",
       "  'some_dict = {}\\nsome_dict[5.5] = \"Ruby\"\\nsome_dict[5.0] = \"JavaScript\"\\nsome_dict[5] = \"Python\"',\n",
       "  'some_dict[5.5]',\n",
       "  'some_dict[5.0]',\n",
       "  'print(some_dict[5.5])\\nprint(some_dict[5.0])\\nprint(some_dict[5])',\n",
       "  'a = \"some_string\"\\nprint(id(a))\\nprint(id(\"some\" + \"_\" + \"string\"))  # Notice that both the ids are same.',\n",
       "  'a = \"wtf\"\\nb = \"wtf\"\\na is b',\n",
       "  'a = \"wtf!\"\\nb = \"wtf!\"\\na is b',\n",
       "  'a, b = \"wtf!\", \"wtf!\"\\na is b',\n",
       "  \"'a' * 20 is 'aaaaaaaaaaaaaaaaaaaa'\",\n",
       "  \"'a' * 21 is 'aaaaaaaaaaaaaaaaaaaaa'\",\n",
       "  'some_dict[5.5]',\n",
       "  'some_dict[5.0]',\n",
       "  'some_dict[5]',\n",
       "  \"def some_func():\\n    try:\\n        return 'from_try'\\n    finally:\\n        return 'from_finally'\",\n",
       "  'some_func()',\n",
       "  'class WTF:\\n    pass',\n",
       "  \"WTF() == WTF() # two different instances can't be equal\",\n",
       "  \"WTF() == WTF() # two different instances can't be equal\",\n",
       "  'WTF() is WTF() # identities are also different',\n",
       "  'hash(WTF()) == hash(WTF()) # hashes _should_ be different as well',\n",
       "  'id(WTF()) == id(WTF())',\n",
       "  'some_string = \"wtf\"\\nsome_dict = {}\\nfor i, some_dict[i] in enumerate(some_string):\\n    pass',\n",
       "  'some_dict # An indexed dict is created.',\n",
       "  'array = [1, 8, 15]\\ng = (x for x in array if array.count(x) > 0)\\narray = [2, 8, 22]',\n",
       "  'list(g)',\n",
       "  'list(g)',\n",
       "  'array_1 = [1,2,3,4]\\ng1 = (x for x in array_1)\\narray_1 = [1,2,3,4,5]\\n\\narray_2 = [1,2,3,4]\\ng2 = (x for x in array_2)\\narray_2[:] = [1,2,3,4,5]',\n",
       "  'list(g1)',\n",
       "  'list(g2)',\n",
       "  'a = 256\\nb = 256\\na is b',\n",
       "  'a = 257\\nb = 257\\na is b',\n",
       "  'a = 257; b = 257\\na is b',\n",
       "  'a = 257\\nb = 257\\na is b',\n",
       "  'a = 256\\nb = 256\\na is b',\n",
       "  'a = 257\\nb = 257\\na is b',\n",
       "  'a = 257\\nb = 257\\na is b',\n",
       "  '256 is 256',\n",
       "  '257 is 257',\n",
       "  'a = 257\\nb = 257\\na is b',\n",
       "  'a = 257\\nb = 257\\na is b',\n",
       "  'a = 257\\nb = 257\\na is b',\n",
       "  'a = 257\\nb = 257\\na is b',\n",
       "  'id(256)',\n",
       "  'a = 256\\nb = 256\\nprint(id(a))\\nprint(id(b))\\nprint(id(257))',\n",
       "  'x = 257\\ny = 257\\nprint(id(x))\\nprint(id(y))',\n",
       "  'a, b = 257, 257\\nprint(id(a))\\nprint(id(b))',\n",
       "  'a = 257\\nb = 257\\nprint(id(a))\\nprint(id(b))',\n",
       "  'a = 257; b = 257\\na is b',\n",
       "  'a, b = 257, 257\\na is b',\n",
       "  '# Let\\'s initialize a row\\nrow = [\"\"]*3 #row i[\\'\\', \\'\\', \\'\\']\\n# Let\\'s make a board\\nboard = [row]*3',\n",
       "  'board',\n",
       "  'board[0]',\n",
       "  'board[0][0]',\n",
       "  'board[0][0] = \"X\"\\nboard',\n",
       "  'board = [[\\'\\']*3 for _ in range(3)]\\nboard[0][0] = \"X\"\\nboard',\n",
       "  'funcs = []\\nresults = []\\nfor x in range(7):\\n    def some_func():\\n        return x\\n    funcs.append(some_func)\\n    results.append(some_func())  # note the function call here\\n\\nfuncs_results = [func() for func in funcs]',\n",
       "  'results',\n",
       "  'funcs_results',\n",
       "  'powers_of_x = [lambda x: x**i for i in range(10)]\\n[f(2) for f in powers_of_x]',\n",
       "  'funcs = []\\nfor x in range(7):\\n    def some_func(x=x):\\n        return x\\n    funcs.append(some_func)',\n",
       "  'funcs_results = [func() for func in funcs]\\nfuncs_results',\n",
       "  \"'something' is not None\",\n",
       "  \"'something' is (not None)\",\n",
       "  'def f(x, y,):\\n    print(x, y)\\n\\ndef g(x=4, y=5,):\\n    print(x, y)',\n",
       "  'def h(x, **kwargs,):\\n    pass',\n",
       "  'def h(x, **kwargs,):\\n    pass',\n",
       "  'def h(*args,):\\n    pass',\n",
       "  'print(\"\\\\\\\\ C:\\\\\\\\\")',\n",
       "  'print(r\"\\\\ C:\")',\n",
       "  'print(r\"\\\\ C:\\\\\")',\n",
       "  'x = True\\ny = False',\n",
       "  'not x == y',\n",
       "  'x == not y',\n",
       "  \"print('wtfpython''')\",\n",
       "  'print(\"wtfpython\"\"\")',\n",
       "  '# The following statements raise `SyntaxError`\\n# print(\\'\\'\\'wtfpython\\')\\n# print(\"\"\"wtfpython\")',\n",
       "  'from datetime import datetime\\n\\nmidnight = datetime(2018, 1, 1, 0, 0)\\nmidnight_time = midnight.time()\\n\\nnoon = datetime(2018, 1, 1, 12, 0)\\nnoon_time = noon.time()\\n\\nif midnight_time:\\n    print(\"Time at midnight is\", midnight_time)\\n\\nif noon_time:\\n    print(\"Time at noon is\", noon_time)',\n",
       "  \"('Time at noon is', datetime.time(12, 0))\",\n",
       "  \"('Time at noon is', datetime.time(12))\",\n",
       "  \"('Time at noon is', datetime.time(12, 0))\",\n",
       "  \"('Time at noon is', noon.time())\",\n",
       "  \"('Time at noon is', datetime.time(12, 0))\",\n",
       "  \"('Time at noon is', midnight_time.time())\",\n",
       "  \"('Time at noon is', midnight_time)\",\n",
       "  '# A simple example to count the number of boolean and\\n# integers in an iterable of mixed data types.\\nmixed_list = [False, 1.0, \"some_string\", 3, True, [], False]\\nintegers_found_so_far = 0\\nbooleans_found_so_far = 0\\n\\nfor item in mixed_list:\\n    if isinstance(item, int):\\n        integers_found_so_far += 1\\n    elif isinstance(item, bool):\\n        booleans_found_so_far += 1',\n",
       "  'integers_found_so_far',\n",
       "  'booleans_found_so_far',\n",
       "  'another_dict = {}\\nanother_dict[True] = \"JavaScript\"\\nanother_dict[1] = \"Ruby\"\\nanother_dict[1.0] = \"Python\"',\n",
       "  'another_dict[True]',\n",
       "  'some_bool = True\\n\"wtf\"*some_bool',\n",
       "  'some_bool = True\\n\"wtf\" * some_bool',\n",
       "  'some_bool = False\\n\"wtf\" * some_bool',\n",
       "  'class A:\\n    x = 1\\n\\nclass B(A):\\n    pass\\n\\nclass C(A):\\n    pass',\n",
       "  'A.x, B.x, C.x',\n",
       "  'B.x = 2\\nA.x, B.x, C.x',\n",
       "  'A.x = 3\\nA.x, B.x, C.x',\n",
       "  'a = A()\\na.x, A.x',\n",
       "  'a.x += 1\\na.x, A.x',\n",
       "  'class SomeClass:\\n    some_var = 15\\n    some_list = [5]\\n    another_list = [5]\\n    def __init__(self, x):\\n        self.some_var = x + 1\\n        self.some_list = self.some_list + [x]\\n        self.another_list += [x]',\n",
       "  'some_obj = SomeClass(420)\\nsome_obj.some_list',\n",
       "  'some_obj.another_list',\n",
       "  'another_obj = SomeClass(111)\\nanother_obj.some_list',\n",
       "  'another_obj.another_list',\n",
       "  'another_obj.another_list is SomeClass.another_list',\n",
       "  'another_obj.another_list is some_obj.another_list',\n",
       "  'some_iterable = (\\'a\\', \\'b\\')\\n\\ndef some_func(val):\\n    return \"something\"',\n",
       "  '[x for x in some_iterable]',\n",
       "  '[(yield x) for x in some_iterable]',\n",
       "  'list([(yield x) for x in some_iterable])',\n",
       "  'list((yield x) for x in some_iterable)',\n",
       "  'list(some_func((yield x)) for x in some_iterable)',\n",
       "  'some_tuple = (\"A\", \"tuple\", \"with\", \"values\")\\nanother_tuple = ([1, 2], [3, 4], [5, 6])',\n",
       "  'some_tuple[2] = \"change this\"',\n",
       "  'another_tuple[2].append(1000) #This throws no error\\nanother_tuple',\n",
       "  'another_tuple[2] += [99, 999]',\n",
       "  'another_tuple\\n([1, 2], [3, 4], [5, 6, 1000, 99, 999])',\n",
       "  'another_tuple',\n",
       "  '> Immutable sequences\\n    An object of an immutable sequence type cannot change once it is created. (If the object contains references to other objects, these other objects may be mutable and may be modified; however, the collection of objects directly referenced by an immutable object cannot change.)',\n",
       "  'e = 7\\ntry:\\n    raise Exception()\\nexcept Exception as e:\\n    pass',\n",
       "  'print(e)',\n",
       "  'print(e)',\n",
       "  'def f(x):\\n    del(x)\\n    print(x)\\n\\nx = 5\\ny = [5, 4, 3]',\n",
       "  'f(x)',\n",
       "  'f(x)',\n",
       "  'f(y)',\n",
       "  'x',\n",
       "  'y',\n",
       "  'True = False\\nif True == False:\\n    print(\"I\\'ve lost faith in truth!\")',\n",
       "  'some_list = [1, 2, 3]\\nsome_dict = {\\n  \"key_1\": 1,\\n  \"key_2\": 2,\\n  \"key_3\": 3\\n}\\n\\nsome_list = some_list.append(4)\\nsome_dict = some_dict.update({\"key_4\": 4})',\n",
       "  'some_list',\n",
       "  'print(some_list)',\n",
       "  'print(some_dict)',\n",
       "  'from collections import Hashable\\nissubclass(list, object)',\n",
       "  'issubclass(object, Hashable)',\n",
       "  'issubclass(list, Hashable)',\n",
       "  \"class SomeClass(str):\\n    pass\\n\\nsome_dict = {'s':42}\",\n",
       "  'type(list(some_dict.keys())[0])',\n",
       "  \"s = SomeClass('s')\\nsome_dict[s] = 40\\nsome_dict # expected: Two different keys-value pairs\",\n",
       "  'type(list(some_dict.keys())[0])',\n",
       "  '# When we define a custom __eq__, Python stops automatically inheriting the\\n# __hash__ method, so we need to define it as well\\n__hash__ = str.__hash__',\n",
       "  'a, b = a[b] = {}, 5',\n",
       "  'a',\n",
       "  'value = 11\\nvaluе = 32\\nvalue',\n",
       "  \"ord('е') # cyrillic 'e' (Ye)\",\n",
       "  \"ord('e') # latin 'e', as used in English and typed using standard keyboard\",\n",
       "  \"'е' == 'e'\",\n",
       "  \"value = 42 # latin e\\nvaluе = 23 # cyrillic 'e', Python 2.x interpreter would raise a `SyntaxError` here\\nvalue\",\n",
       "  'import numpy as np\\n\\ndef energy_send(x):\\n    # Initializing a numpy array\\n    np.array([float(x)])\\n\\ndef energy_receive():\\n    # Return an empty numpy array\\n    return np.empty((), dtype=np.float).tolist()',\n",
       "  'energy_send(123.456)\\nenergy_receive()',\n",
       "  'def square(x):\\n    \"\"\"\\n    A simple function to calculate the square of a number by addition.\\n    \"\"\"\\n    sum_so_far = 0\\n    for counter in range(x):\\n        sum_so_far = sum_so_far + x\\n    return sum_so_far',\n",
       "  'square(10)',\n",
       "  '# Output (Python 3.x):\\n# TabError: inconsistent use of tabs and spaces in indentation',\n",
       "  'x = {0: None}\\n\\nfor i in x:\\n    del x[i]\\n    x[i+1] = None\\n    print(i)',\n",
       "  'class SomeClass:\\n    def __del__(self):\\n        print(\"Deleted!\")',\n",
       "  'x = SomeClass()\\ny = x\\ndel x # this should print \"Deleted!\"\\ndel y',\n",
       "  'x = SomeClass()\\ny = x\\ndel x\\ny # check if y exists',\n",
       "  'del y # Like previously, this should print \"Deleted!\"\\nglobals() # oh, it didn\\'t. Let\\'s check all our global variables and confirm'],\n",
       " '_oh': {2: 'Ruby',\n",
       "  3: 'Python',\n",
       "  6: True,\n",
       "  7: False,\n",
       "  8: True,\n",
       "  9: True,\n",
       "  10: False,\n",
       "  11: 'Ruby',\n",
       "  12: 'Python',\n",
       "  13: 'Python',\n",
       "  15: 'from_finally',\n",
       "  17: False,\n",
       "  18: False,\n",
       "  19: False,\n",
       "  20: True,\n",
       "  21: True,\n",
       "  23: {0: 'w', 1: 't', 2: 'f'},\n",
       "  25: [8],\n",
       "  26: [],\n",
       "  28: [1, 2, 3, 4],\n",
       "  29: [1, 2, 3, 4, 5],\n",
       "  30: True,\n",
       "  31: False,\n",
       "  32: False,\n",
       "  33: False,\n",
       "  34: True,\n",
       "  35: False,\n",
       "  36: False,\n",
       "  37: True,\n",
       "  38: True,\n",
       "  39: False,\n",
       "  40: False,\n",
       "  41: False,\n",
       "  42: False,\n",
       "  43: 140082358593312,\n",
       "  48: False,\n",
       "  49: True,\n",
       "  51: [['X', '', ''], ['X', '', ''], ['X', '', '']],\n",
       "  52: ['X', '', ''],\n",
       "  53: '',\n",
       "  54: [['X', '', ''], ['X', '', ''], ['X', '', '']],\n",
       "  55: [['X', '', ''], ['', '', ''], ['', '', '']],\n",
       "  57: [0, 1, 2, 3, 4, 5, 6],\n",
       "  58: [6, 6, 6, 6, 6, 6, 6],\n",
       "  59: [512, 512, 512, 512, 512, 512, 512, 512, 512, 512],\n",
       "  61: [0, 1, 2, 3, 4, 5, 6],\n",
       "  62: True,\n",
       "  63: False,\n",
       "  72: True,\n",
       "  81: ('Time at noon is', datetime.time(12, 0)),\n",
       "  84: ('Time at noon is', datetime.time(0, 0)),\n",
       "  86: 4,\n",
       "  87: 0,\n",
       "  89: 'Python',\n",
       "  90: 'wtf',\n",
       "  91: 'wtf',\n",
       "  92: '',\n",
       "  94: (1, 1, 1),\n",
       "  95: (1, 2, 1),\n",
       "  96: (3, 2, 3),\n",
       "  97: (3, 3),\n",
       "  98: (4, 3),\n",
       "  100: [5, 420],\n",
       "  101: [5, 420, 111],\n",
       "  102: [5, 111],\n",
       "  103: [5, 420, 111],\n",
       "  104: True,\n",
       "  105: True,\n",
       "  107: ['a', 'b'],\n",
       "  108: <generator object <listcomp> at 0x7f67693f1518>,\n",
       "  109: ['a', 'b'],\n",
       "  110: ['a', None, 'b', None],\n",
       "  111: ['a', 'something', 'b', 'something'],\n",
       "  114: ([1, 2], [3, 4], [5, 6, 1000, 99, 999]),\n",
       "  116: ([1, 2], [3, 4], [5, 6, 1000, 99, 999]),\n",
       "  117: ([1, 2], [3, 4], [5, 6, 1000, 99, 999]),\n",
       "  126: 5,\n",
       "  127: [5, 4, 3],\n",
       "  133: True,\n",
       "  134: True,\n",
       "  135: False,\n",
       "  137: str,\n",
       "  138: {'s': 40},\n",
       "  139: str,\n",
       "  142: {5: ({...}, 5)},\n",
       "  143: 11,\n",
       "  144: 1077,\n",
       "  145: 101,\n",
       "  146: False,\n",
       "  147: 42,\n",
       "  149: 123.456,\n",
       "  151: 100,\n",
       "  156: <__main__.SomeClass at 0x7f6749f26780>},\n",
       " '_dh': ['/app/wtfpython'],\n",
       " 'In': ['',\n",
       "  'some_dict = {}\\nsome_dict[5.5] = \"Ruby\"\\nsome_dict[5.0] = \"JavaScript\"\\nsome_dict[5] = \"Python\"',\n",
       "  'some_dict[5.5]',\n",
       "  'some_dict[5.0]',\n",
       "  'print(some_dict[5.5])\\nprint(some_dict[5.0])\\nprint(some_dict[5])',\n",
       "  'a = \"some_string\"\\nprint(id(a))\\nprint(id(\"some\" + \"_\" + \"string\"))  # Notice that both the ids are same.',\n",
       "  'a = \"wtf\"\\nb = \"wtf\"\\na is b',\n",
       "  'a = \"wtf!\"\\nb = \"wtf!\"\\na is b',\n",
       "  'a, b = \"wtf!\", \"wtf!\"\\na is b',\n",
       "  \"'a' * 20 is 'aaaaaaaaaaaaaaaaaaaa'\",\n",
       "  \"'a' * 21 is 'aaaaaaaaaaaaaaaaaaaaa'\",\n",
       "  'some_dict[5.5]',\n",
       "  'some_dict[5.0]',\n",
       "  'some_dict[5]',\n",
       "  \"def some_func():\\n    try:\\n        return 'from_try'\\n    finally:\\n        return 'from_finally'\",\n",
       "  'some_func()',\n",
       "  'class WTF:\\n    pass',\n",
       "  \"WTF() == WTF() # two different instances can't be equal\",\n",
       "  \"WTF() == WTF() # two different instances can't be equal\",\n",
       "  'WTF() is WTF() # identities are also different',\n",
       "  'hash(WTF()) == hash(WTF()) # hashes _should_ be different as well',\n",
       "  'id(WTF()) == id(WTF())',\n",
       "  'some_string = \"wtf\"\\nsome_dict = {}\\nfor i, some_dict[i] in enumerate(some_string):\\n    pass',\n",
       "  'some_dict # An indexed dict is created.',\n",
       "  'array = [1, 8, 15]\\ng = (x for x in array if array.count(x) > 0)\\narray = [2, 8, 22]',\n",
       "  'list(g)',\n",
       "  'list(g)',\n",
       "  'array_1 = [1,2,3,4]\\ng1 = (x for x in array_1)\\narray_1 = [1,2,3,4,5]\\n\\narray_2 = [1,2,3,4]\\ng2 = (x for x in array_2)\\narray_2[:] = [1,2,3,4,5]',\n",
       "  'list(g1)',\n",
       "  'list(g2)',\n",
       "  'a = 256\\nb = 256\\na is b',\n",
       "  'a = 257\\nb = 257\\na is b',\n",
       "  'a = 257; b = 257\\na is b',\n",
       "  'a = 257\\nb = 257\\na is b',\n",
       "  'a = 256\\nb = 256\\na is b',\n",
       "  'a = 257\\nb = 257\\na is b',\n",
       "  'a = 257\\nb = 257\\na is b',\n",
       "  '256 is 256',\n",
       "  '257 is 257',\n",
       "  'a = 257\\nb = 257\\na is b',\n",
       "  'a = 257\\nb = 257\\na is b',\n",
       "  'a = 257\\nb = 257\\na is b',\n",
       "  'a = 257\\nb = 257\\na is b',\n",
       "  'id(256)',\n",
       "  'a = 256\\nb = 256\\nprint(id(a))\\nprint(id(b))\\nprint(id(257))',\n",
       "  'x = 257\\ny = 257\\nprint(id(x))\\nprint(id(y))',\n",
       "  'a, b = 257, 257\\nprint(id(a))\\nprint(id(b))',\n",
       "  'a = 257\\nb = 257\\nprint(id(a))\\nprint(id(b))',\n",
       "  'a = 257; b = 257\\na is b',\n",
       "  'a, b = 257, 257\\na is b',\n",
       "  '# Let\\'s initialize a row\\nrow = [\"\"]*3 #row i[\\'\\', \\'\\', \\'\\']\\n# Let\\'s make a board\\nboard = [row]*3',\n",
       "  'board',\n",
       "  'board[0]',\n",
       "  'board[0][0]',\n",
       "  'board[0][0] = \"X\"\\nboard',\n",
       "  'board = [[\\'\\']*3 for _ in range(3)]\\nboard[0][0] = \"X\"\\nboard',\n",
       "  'funcs = []\\nresults = []\\nfor x in range(7):\\n    def some_func():\\n        return x\\n    funcs.append(some_func)\\n    results.append(some_func())  # note the function call here\\n\\nfuncs_results = [func() for func in funcs]',\n",
       "  'results',\n",
       "  'funcs_results',\n",
       "  'powers_of_x = [lambda x: x**i for i in range(10)]\\n[f(2) for f in powers_of_x]',\n",
       "  'funcs = []\\nfor x in range(7):\\n    def some_func(x=x):\\n        return x\\n    funcs.append(some_func)',\n",
       "  'funcs_results = [func() for func in funcs]\\nfuncs_results',\n",
       "  \"'something' is not None\",\n",
       "  \"'something' is (not None)\",\n",
       "  'def f(x, y,):\\n    print(x, y)\\n\\ndef g(x=4, y=5,):\\n    print(x, y)',\n",
       "  'def h(x, **kwargs,):\\n    pass',\n",
       "  'def h(x, **kwargs,):\\n    pass',\n",
       "  'def h(*args,):\\n    pass',\n",
       "  'print(\"\\\\\\\\ C:\\\\\\\\\")',\n",
       "  'print(r\"\\\\ C:\")',\n",
       "  'print(r\"\\\\ C:\\\\\")',\n",
       "  'x = True\\ny = False',\n",
       "  'not x == y',\n",
       "  'x == not y',\n",
       "  \"print('wtfpython''')\",\n",
       "  'print(\"wtfpython\"\"\")',\n",
       "  '# The following statements raise `SyntaxError`\\n# print(\\'\\'\\'wtfpython\\')\\n# print(\"\"\"wtfpython\")',\n",
       "  'from datetime import datetime\\n\\nmidnight = datetime(2018, 1, 1, 0, 0)\\nmidnight_time = midnight.time()\\n\\nnoon = datetime(2018, 1, 1, 12, 0)\\nnoon_time = noon.time()\\n\\nif midnight_time:\\n    print(\"Time at midnight is\", midnight_time)\\n\\nif noon_time:\\n    print(\"Time at noon is\", noon_time)',\n",
       "  \"('Time at noon is', datetime.time(12, 0))\",\n",
       "  \"('Time at noon is', datetime.time(12))\",\n",
       "  \"('Time at noon is', datetime.time(12, 0))\",\n",
       "  \"('Time at noon is', noon.time())\",\n",
       "  \"('Time at noon is', datetime.time(12, 0))\",\n",
       "  \"('Time at noon is', midnight_time.time())\",\n",
       "  \"('Time at noon is', midnight_time)\",\n",
       "  '# A simple example to count the number of boolean and\\n# integers in an iterable of mixed data types.\\nmixed_list = [False, 1.0, \"some_string\", 3, True, [], False]\\nintegers_found_so_far = 0\\nbooleans_found_so_far = 0\\n\\nfor item in mixed_list:\\n    if isinstance(item, int):\\n        integers_found_so_far += 1\\n    elif isinstance(item, bool):\\n        booleans_found_so_far += 1',\n",
       "  'integers_found_so_far',\n",
       "  'booleans_found_so_far',\n",
       "  'another_dict = {}\\nanother_dict[True] = \"JavaScript\"\\nanother_dict[1] = \"Ruby\"\\nanother_dict[1.0] = \"Python\"',\n",
       "  'another_dict[True]',\n",
       "  'some_bool = True\\n\"wtf\"*some_bool',\n",
       "  'some_bool = True\\n\"wtf\" * some_bool',\n",
       "  'some_bool = False\\n\"wtf\" * some_bool',\n",
       "  'class A:\\n    x = 1\\n\\nclass B(A):\\n    pass\\n\\nclass C(A):\\n    pass',\n",
       "  'A.x, B.x, C.x',\n",
       "  'B.x = 2\\nA.x, B.x, C.x',\n",
       "  'A.x = 3\\nA.x, B.x, C.x',\n",
       "  'a = A()\\na.x, A.x',\n",
       "  'a.x += 1\\na.x, A.x',\n",
       "  'class SomeClass:\\n    some_var = 15\\n    some_list = [5]\\n    another_list = [5]\\n    def __init__(self, x):\\n        self.some_var = x + 1\\n        self.some_list = self.some_list + [x]\\n        self.another_list += [x]',\n",
       "  'some_obj = SomeClass(420)\\nsome_obj.some_list',\n",
       "  'some_obj.another_list',\n",
       "  'another_obj = SomeClass(111)\\nanother_obj.some_list',\n",
       "  'another_obj.another_list',\n",
       "  'another_obj.another_list is SomeClass.another_list',\n",
       "  'another_obj.another_list is some_obj.another_list',\n",
       "  'some_iterable = (\\'a\\', \\'b\\')\\n\\ndef some_func(val):\\n    return \"something\"',\n",
       "  '[x for x in some_iterable]',\n",
       "  '[(yield x) for x in some_iterable]',\n",
       "  'list([(yield x) for x in some_iterable])',\n",
       "  'list((yield x) for x in some_iterable)',\n",
       "  'list(some_func((yield x)) for x in some_iterable)',\n",
       "  'some_tuple = (\"A\", \"tuple\", \"with\", \"values\")\\nanother_tuple = ([1, 2], [3, 4], [5, 6])',\n",
       "  'some_tuple[2] = \"change this\"',\n",
       "  'another_tuple[2].append(1000) #This throws no error\\nanother_tuple',\n",
       "  'another_tuple[2] += [99, 999]',\n",
       "  'another_tuple\\n([1, 2], [3, 4], [5, 6, 1000, 99, 999])',\n",
       "  'another_tuple',\n",
       "  '> Immutable sequences\\n    An object of an immutable sequence type cannot change once it is created. (If the object contains references to other objects, these other objects may be mutable and may be modified; however, the collection of objects directly referenced by an immutable object cannot change.)',\n",
       "  'e = 7\\ntry:\\n    raise Exception()\\nexcept Exception as e:\\n    pass',\n",
       "  'print(e)',\n",
       "  'print(e)',\n",
       "  'def f(x):\\n    del(x)\\n    print(x)\\n\\nx = 5\\ny = [5, 4, 3]',\n",
       "  'f(x)',\n",
       "  'f(x)',\n",
       "  'f(y)',\n",
       "  'x',\n",
       "  'y',\n",
       "  'True = False\\nif True == False:\\n    print(\"I\\'ve lost faith in truth!\")',\n",
       "  'some_list = [1, 2, 3]\\nsome_dict = {\\n  \"key_1\": 1,\\n  \"key_2\": 2,\\n  \"key_3\": 3\\n}\\n\\nsome_list = some_list.append(4)\\nsome_dict = some_dict.update({\"key_4\": 4})',\n",
       "  'some_list',\n",
       "  'print(some_list)',\n",
       "  'print(some_dict)',\n",
       "  'from collections import Hashable\\nissubclass(list, object)',\n",
       "  'issubclass(object, Hashable)',\n",
       "  'issubclass(list, Hashable)',\n",
       "  \"class SomeClass(str):\\n    pass\\n\\nsome_dict = {'s':42}\",\n",
       "  'type(list(some_dict.keys())[0])',\n",
       "  \"s = SomeClass('s')\\nsome_dict[s] = 40\\nsome_dict # expected: Two different keys-value pairs\",\n",
       "  'type(list(some_dict.keys())[0])',\n",
       "  '# When we define a custom __eq__, Python stops automatically inheriting the\\n# __hash__ method, so we need to define it as well\\n__hash__ = str.__hash__',\n",
       "  'a, b = a[b] = {}, 5',\n",
       "  'a',\n",
       "  'value = 11\\nvaluе = 32\\nvalue',\n",
       "  \"ord('е') # cyrillic 'e' (Ye)\",\n",
       "  \"ord('e') # latin 'e', as used in English and typed using standard keyboard\",\n",
       "  \"'е' == 'e'\",\n",
       "  \"value = 42 # latin e\\nvaluе = 23 # cyrillic 'e', Python 2.x interpreter would raise a `SyntaxError` here\\nvalue\",\n",
       "  'import numpy as np\\n\\ndef energy_send(x):\\n    # Initializing a numpy array\\n    np.array([float(x)])\\n\\ndef energy_receive():\\n    # Return an empty numpy array\\n    return np.empty((), dtype=np.float).tolist()',\n",
       "  'energy_send(123.456)\\nenergy_receive()',\n",
       "  'def square(x):\\n    \"\"\"\\n    A simple function to calculate the square of a number by addition.\\n    \"\"\"\\n    sum_so_far = 0\\n    for counter in range(x):\\n        sum_so_far = sum_so_far + x\\n    return sum_so_far',\n",
       "  'square(10)',\n",
       "  '# Output (Python 3.x):\\n# TabError: inconsistent use of tabs and spaces in indentation',\n",
       "  'x = {0: None}\\n\\nfor i in x:\\n    del x[i]\\n    x[i+1] = None\\n    print(i)',\n",
       "  'class SomeClass:\\n    def __del__(self):\\n        print(\"Deleted!\")',\n",
       "  'x = SomeClass()\\ny = x\\ndel x # this should print \"Deleted!\"\\ndel y',\n",
       "  'x = SomeClass()\\ny = x\\ndel x\\ny # check if y exists',\n",
       "  'del y # Like previously, this should print \"Deleted!\"\\nglobals() # oh, it didn\\'t. Let\\'s check all our global variables and confirm'],\n",
       " 'Out': {2: 'Ruby',\n",
       "  3: 'Python',\n",
       "  6: True,\n",
       "  7: False,\n",
       "  8: True,\n",
       "  9: True,\n",
       "  10: False,\n",
       "  11: 'Ruby',\n",
       "  12: 'Python',\n",
       "  13: 'Python',\n",
       "  15: 'from_finally',\n",
       "  17: False,\n",
       "  18: False,\n",
       "  19: False,\n",
       "  20: True,\n",
       "  21: True,\n",
       "  23: {0: 'w', 1: 't', 2: 'f'},\n",
       "  25: [8],\n",
       "  26: [],\n",
       "  28: [1, 2, 3, 4],\n",
       "  29: [1, 2, 3, 4, 5],\n",
       "  30: True,\n",
       "  31: False,\n",
       "  32: False,\n",
       "  33: False,\n",
       "  34: True,\n",
       "  35: False,\n",
       "  36: False,\n",
       "  37: True,\n",
       "  38: True,\n",
       "  39: False,\n",
       "  40: False,\n",
       "  41: False,\n",
       "  42: False,\n",
       "  43: 140082358593312,\n",
       "  48: False,\n",
       "  49: True,\n",
       "  51: [['X', '', ''], ['X', '', ''], ['X', '', '']],\n",
       "  52: ['X', '', ''],\n",
       "  53: '',\n",
       "  54: [['X', '', ''], ['X', '', ''], ['X', '', '']],\n",
       "  55: [['X', '', ''], ['', '', ''], ['', '', '']],\n",
       "  57: [0, 1, 2, 3, 4, 5, 6],\n",
       "  58: [6, 6, 6, 6, 6, 6, 6],\n",
       "  59: [512, 512, 512, 512, 512, 512, 512, 512, 512, 512],\n",
       "  61: [0, 1, 2, 3, 4, 5, 6],\n",
       "  62: True,\n",
       "  63: False,\n",
       "  72: True,\n",
       "  81: ('Time at noon is', datetime.time(12, 0)),\n",
       "  84: ('Time at noon is', datetime.time(0, 0)),\n",
       "  86: 4,\n",
       "  87: 0,\n",
       "  89: 'Python',\n",
       "  90: 'wtf',\n",
       "  91: 'wtf',\n",
       "  92: '',\n",
       "  94: (1, 1, 1),\n",
       "  95: (1, 2, 1),\n",
       "  96: (3, 2, 3),\n",
       "  97: (3, 3),\n",
       "  98: (4, 3),\n",
       "  100: [5, 420],\n",
       "  101: [5, 420, 111],\n",
       "  102: [5, 111],\n",
       "  103: [5, 420, 111],\n",
       "  104: True,\n",
       "  105: True,\n",
       "  107: ['a', 'b'],\n",
       "  108: <generator object <listcomp> at 0x7f67693f1518>,\n",
       "  109: ['a', 'b'],\n",
       "  110: ['a', None, 'b', None],\n",
       "  111: ['a', 'something', 'b', 'something'],\n",
       "  114: ([1, 2], [3, 4], [5, 6, 1000, 99, 999]),\n",
       "  116: ([1, 2], [3, 4], [5, 6, 1000, 99, 999]),\n",
       "  117: ([1, 2], [3, 4], [5, 6, 1000, 99, 999]),\n",
       "  126: 5,\n",
       "  127: [5, 4, 3],\n",
       "  133: True,\n",
       "  134: True,\n",
       "  135: False,\n",
       "  137: str,\n",
       "  138: {'s': 40},\n",
       "  139: str,\n",
       "  142: {5: ({...}, 5)},\n",
       "  143: 11,\n",
       "  144: 1077,\n",
       "  145: 101,\n",
       "  146: False,\n",
       "  147: 42,\n",
       "  149: 123.456,\n",
       "  151: 100,\n",
       "  156: <__main__.SomeClass at 0x7f6749f26780>},\n",
       " 'get_ipython': <bound method InteractiveShell.get_ipython of <ipykernel.zmqshell.ZMQInteractiveShell object at 0x7f676cdfb8d0>>,\n",
       " 'exit': <IPython.core.autocall.ZMQExitAutocall at 0x7f676cdf5828>,\n",
       " 'quit': <IPython.core.autocall.ZMQExitAutocall at 0x7f676cdf5828>,\n",
       " '_': <__main__.SomeClass at 0x7f6749f26780>,\n",
       " '__': 100,\n",
       " '___': 123.456,\n",
       " '_i': 'x = SomeClass()\\ny = x\\ndel x\\ny # check if y exists',\n",
       " '_ii': 'x = SomeClass()\\ny = x\\ndel x # this should print \"Deleted!\"\\ndel y',\n",
       " '_iii': 'class SomeClass:\\n    def __del__(self):\\n        print(\"Deleted!\")',\n",
       " '_i1': 'some_dict = {}\\nsome_dict[5.5] = \"Ruby\"\\nsome_dict[5.0] = \"JavaScript\"\\nsome_dict[5] = \"Python\"',\n",
       " 'some_dict': {'s': 40},\n",
       " '_i2': 'some_dict[5.5]',\n",
       " '_2': 'Ruby',\n",
       " '_i3': 'some_dict[5.0]',\n",
       " '_3': 'Python',\n",
       " '_i4': 'print(some_dict[5.5])\\nprint(some_dict[5.0])\\nprint(some_dict[5])',\n",
       " '_i5': 'a = \"some_string\"\\nprint(id(a))\\nprint(id(\"some\" + \"_\" + \"string\"))  # Notice that both the ids are same.',\n",
       " 'a': {5: ({...}, 5)},\n",
       " '_i6': 'a = \"wtf\"\\nb = \"wtf\"\\na is b',\n",
       " 'b': 5,\n",
       " '_6': True,\n",
       " '_i7': 'a = \"wtf!\"\\nb = \"wtf!\"\\na is b',\n",
       " '_7': False,\n",
       " '_i8': 'a, b = \"wtf!\", \"wtf!\"\\na is b',\n",
       " '_8': True,\n",
       " '_i9': \"'a' * 20 is 'aaaaaaaaaaaaaaaaaaaa'\",\n",
       " '_9': True,\n",
       " '_i10': \"'a' * 21 is 'aaaaaaaaaaaaaaaaaaaaa'\",\n",
       " '_10': False,\n",
       " '_i11': 'some_dict[5.5]',\n",
       " '_11': 'Ruby',\n",
       " '_i12': 'some_dict[5.0]',\n",
       " '_12': 'Python',\n",
       " '_i13': 'some_dict[5]',\n",
       " '_13': 'Python',\n",
       " '_i14': \"def some_func():\\n    try:\\n        return 'from_try'\\n    finally:\\n        return 'from_finally'\",\n",
       " 'some_func': <function __main__.some_func(val)>,\n",
       " '_i15': 'some_func()',\n",
       " '_15': 'from_finally',\n",
       " '_i16': 'class WTF:\\n    pass',\n",
       " 'WTF': __main__.WTF,\n",
       " '_i17': \"WTF() == WTF() # two different instances can't be equal\",\n",
       " '_17': False,\n",
       " '_i18': \"WTF() == WTF() # two different instances can't be equal\",\n",
       " '_18': False,\n",
       " '_i19': 'WTF() is WTF() # identities are also different',\n",
       " '_19': False,\n",
       " '_i20': 'hash(WTF()) == hash(WTF()) # hashes _should_ be different as well',\n",
       " '_20': True,\n",
       " '_i21': 'id(WTF()) == id(WTF())',\n",
       " '_21': True,\n",
       " '_i22': 'some_string = \"wtf\"\\nsome_dict = {}\\nfor i, some_dict[i] in enumerate(some_string):\\n    pass',\n",
       " 'some_string': 'wtf',\n",
       " 'i': 4,\n",
       " '_i23': 'some_dict # An indexed dict is created.',\n",
       " '_23': {0: 'w', 1: 't', 2: 'f'},\n",
       " '_i24': 'array = [1, 8, 15]\\ng = (x for x in array if array.count(x) > 0)\\narray = [2, 8, 22]',\n",
       " 'array': [2, 8, 22],\n",
       " 'g': <function __main__.g(x=4, y=5)>,\n",
       " '_i25': 'list(g)',\n",
       " '_25': [8],\n",
       " '_i26': 'list(g)',\n",
       " '_26': [],\n",
       " '_i27': 'array_1 = [1,2,3,4]\\ng1 = (x for x in array_1)\\narray_1 = [1,2,3,4,5]\\n\\narray_2 = [1,2,3,4]\\ng2 = (x for x in array_2)\\narray_2[:] = [1,2,3,4,5]',\n",
       " 'array_1': [1, 2, 3, 4, 5],\n",
       " 'g1': <generator object <genexpr> at 0x7f676944d518>,\n",
       " 'array_2': [1, 2, 3, 4, 5],\n",
       " 'g2': <generator object <genexpr> at 0x7f676944d678>,\n",
       " '_i28': 'list(g1)',\n",
       " '_28': [1, 2, 3, 4],\n",
       " '_i29': 'list(g2)',\n",
       " '_29': [1, 2, 3, 4, 5],\n",
       " '_i30': 'a = 256\\nb = 256\\na is b',\n",
       " '_30': True,\n",
       " '_i31': 'a = 257\\nb = 257\\na is b',\n",
       " '_31': False,\n",
       " '_i32': 'a = 257; b = 257\\na is b',\n",
       " '_32': False,\n",
       " '_i33': 'a = 257\\nb = 257\\na is b',\n",
       " '_33': False,\n",
       " '_i34': 'a = 256\\nb = 256\\na is b',\n",
       " '_34': True,\n",
       " '_i35': 'a = 257\\nb = 257\\na is b',\n",
       " '_35': False,\n",
       " '_i36': 'a = 257\\nb = 257\\na is b',\n",
       " '_36': False,\n",
       " '_i37': '256 is 256',\n",
       " '_37': True,\n",
       " '_i38': '257 is 257',\n",
       " '_38': True,\n",
       " '_i39': 'a = 257\\nb = 257\\na is b',\n",
       " '_39': False,\n",
       " '_i40': 'a = 257\\nb = 257\\na is b',\n",
       " '_40': False,\n",
       " '_i41': 'a = 257\\nb = 257\\na is b',\n",
       " '_41': False,\n",
       " '_i42': 'a = 257\\nb = 257\\na is b',\n",
       " '_42': False,\n",
       " '_i43': 'id(256)',\n",
       " '_43': 140082358593312,\n",
       " '_i44': 'a = 256\\nb = 256\\nprint(id(a))\\nprint(id(b))\\nprint(id(257))',\n",
       " '_i45': 'x = 257\\ny = 257\\nprint(id(x))\\nprint(id(y))',\n",
       " '_i46': 'a, b = 257, 257\\nprint(id(a))\\nprint(id(b))',\n",
       " '_i47': 'a = 257\\nb = 257\\nprint(id(a))\\nprint(id(b))',\n",
       " '_i48': 'a = 257; b = 257\\na is b',\n",
       " '_48': False,\n",
       " '_i49': 'a, b = 257, 257\\na is b',\n",
       " '_49': True,\n",
       " '_i50': '# Let\\'s initialize a row\\nrow = [\"\"]*3 #row i[\\'\\', \\'\\', \\'\\']\\n# Let\\'s make a board\\nboard = [row]*3',\n",
       " 'row': ['X', '', ''],\n",
       " 'board': [['X', '', ''], ['', '', ''], ['', '', '']],\n",
       " '_i51': 'board',\n",
       " '_51': [['X', '', ''], ['X', '', ''], ['X', '', '']],\n",
       " '_i52': 'board[0]',\n",
       " '_52': ['X', '', ''],\n",
       " '_i53': 'board[0][0]',\n",
       " '_53': '',\n",
       " '_i54': 'board[0][0] = \"X\"\\nboard',\n",
       " '_54': [['X', '', ''], ['X', '', ''], ['X', '', '']],\n",
       " '_i55': 'board = [[\\'\\']*3 for _ in range(3)]\\nboard[0][0] = \"X\"\\nboard',\n",
       " '_55': [['X', '', ''], ['', '', ''], ['', '', '']],\n",
       " '_i56': 'funcs = []\\nresults = []\\nfor x in range(7):\\n    def some_func():\\n        return x\\n    funcs.append(some_func)\\n    results.append(some_func())  # note the function call here\\n\\nfuncs_results = [func() for func in funcs]',\n",
       " 'funcs': [<function __main__.some_func(x=0)>,\n",
       "  <function __main__.some_func(x=1)>,\n",
       "  <function __main__.some_func(x=2)>,\n",
       "  <function __main__.some_func(x=3)>,\n",
       "  <function __main__.some_func(x=4)>,\n",
       "  <function __main__.some_func(x=5)>,\n",
       "  <function __main__.some_func(x=6)>],\n",
       " 'results': [0, 1, 2, 3, 4, 5, 6],\n",
       " 'funcs_results': [0, 1, 2, 3, 4, 5, 6],\n",
       " '_i57': 'results',\n",
       " '_57': [0, 1, 2, 3, 4, 5, 6],\n",
       " '_i58': 'funcs_results',\n",
       " '_58': [6, 6, 6, 6, 6, 6, 6],\n",
       " '_i59': 'powers_of_x = [lambda x: x**i for i in range(10)]\\n[f(2) for f in powers_of_x]',\n",
       " 'powers_of_x': [<function __main__.<listcomp>.<lambda>(x)>,\n",
       "  <function __main__.<listcomp>.<lambda>(x)>,\n",
       "  <function __main__.<listcomp>.<lambda>(x)>,\n",
       "  <function __main__.<listcomp>.<lambda>(x)>,\n",
       "  <function __main__.<listcomp>.<lambda>(x)>,\n",
       "  <function __main__.<listcomp>.<lambda>(x)>,\n",
       "  <function __main__.<listcomp>.<lambda>(x)>,\n",
       "  <function __main__.<listcomp>.<lambda>(x)>,\n",
       "  <function __main__.<listcomp>.<lambda>(x)>,\n",
       "  <function __main__.<listcomp>.<lambda>(x)>],\n",
       " '_59': [512, 512, 512, 512, 512, 512, 512, 512, 512, 512],\n",
       " '_i60': 'funcs = []\\nfor x in range(7):\\n    def some_func(x=x):\\n        return x\\n    funcs.append(some_func)',\n",
       " '_i61': 'funcs_results = [func() for func in funcs]\\nfuncs_results',\n",
       " '_61': [0, 1, 2, 3, 4, 5, 6],\n",
       " '_i62': \"'something' is not None\",\n",
       " '_62': True,\n",
       " '_i63': \"'something' is (not None)\",\n",
       " '_63': False,\n",
       " '_i64': 'def f(x, y,):\\n    print(x, y)\\n\\ndef g(x=4, y=5,):\\n    print(x, y)',\n",
       " 'f': <function __main__.f(x)>,\n",
       " '_i65': 'def h(x, **kwargs,):\\n    pass',\n",
       " 'h': <function __main__.h(*args)>,\n",
       " '_i66': 'def h(x, **kwargs,):\\n    pass',\n",
       " '_i67': 'def h(*args,):\\n    pass',\n",
       " '_i68': 'print(\"\\\\\\\\ C:\\\\\\\\\")',\n",
       " '_i69': 'print(r\"\\\\ C:\")',\n",
       " '_i70': 'print(r\"\\\\ C:\\\\\")',\n",
       " '_i71': 'x = True\\ny = False',\n",
       " '_i72': 'not x == y',\n",
       " '_72': True,\n",
       " '_i73': 'x == not y',\n",
       " '_i74': \"print('wtfpython''')\",\n",
       " '_i75': 'print(\"wtfpython\"\"\")',\n",
       " '_i76': '# The following statements raise `SyntaxError`\\n# print(\\'\\'\\'wtfpython\\')\\n# print(\"\"\"wtfpython\")',\n",
       " '_i77': 'from datetime import datetime\\n\\nmidnight = datetime(2018, 1, 1, 0, 0)\\nmidnight_time = midnight.time()\\n\\nnoon = datetime(2018, 1, 1, 12, 0)\\nnoon_time = noon.time()\\n\\nif midnight_time:\\n    print(\"Time at midnight is\", midnight_time)\\n\\nif noon_time:\\n    print(\"Time at noon is\", noon_time)',\n",
       " 'datetime': datetime.datetime,\n",
       " 'midnight': datetime.datetime(2018, 1, 1, 0, 0),\n",
       " 'midnight_time': datetime.time(0, 0),\n",
       " 'noon': datetime.datetime(2018, 1, 1, 12, 0),\n",
       " 'noon_time': datetime.time(12, 0),\n",
       " '_i78': \"('Time at noon is', datetime.time(12, 0))\",\n",
       " '_i79': \"('Time at noon is', datetime.time(12))\",\n",
       " '_i80': \"('Time at noon is', datetime.time(12, 0))\",\n",
       " '_i81': \"('Time at noon is', noon.time())\",\n",
       " '_81': ('Time at noon is', datetime.time(12, 0)),\n",
       " '_i82': \"('Time at noon is', datetime.time(12, 0))\",\n",
       " '_i83': \"('Time at noon is', midnight_time.time())\",\n",
       " '_i84': \"('Time at noon is', midnight_time)\",\n",
       " '_84': ('Time at noon is', datetime.time(0, 0)),\n",
       " '_i85': '# A simple example to count the number of boolean and\\n# integers in an iterable of mixed data types.\\nmixed_list = [False, 1.0, \"some_string\", 3, True, [], False]\\nintegers_found_so_far = 0\\nbooleans_found_so_far = 0\\n\\nfor item in mixed_list:\\n    if isinstance(item, int):\\n        integers_found_so_far += 1\\n    elif isinstance(item, bool):\\n        booleans_found_so_far += 1',\n",
       " 'mixed_list': [False, 1.0, 'some_string', 3, True, [], False],\n",
       " 'integers_found_so_far': 4,\n",
       " 'booleans_found_so_far': 0,\n",
       " 'item': False,\n",
       " '_i86': 'integers_found_so_far',\n",
       " '_86': 4,\n",
       " '_i87': 'booleans_found_so_far',\n",
       " '_87': 0,\n",
       " '_i88': 'another_dict = {}\\nanother_dict[True] = \"JavaScript\"\\nanother_dict[1] = \"Ruby\"\\nanother_dict[1.0] = \"Python\"',\n",
       " 'another_dict': {True: 'Python'},\n",
       " '_i89': 'another_dict[True]',\n",
       " '_89': 'Python',\n",
       " '_i90': 'some_bool = True\\n\"wtf\"*some_bool',\n",
       " 'some_bool': False,\n",
       " '_90': 'wtf',\n",
       " '_i91': 'some_bool = True\\n\"wtf\" * some_bool',\n",
       " '_91': 'wtf',\n",
       " '_i92': 'some_bool = False\\n\"wtf\" * some_bool',\n",
       " '_92': '',\n",
       " '_i93': 'class A:\\n    x = 1\\n\\nclass B(A):\\n    pass\\n\\nclass C(A):\\n    pass',\n",
       " 'A': __main__.A,\n",
       " 'B': __main__.B,\n",
       " 'C': __main__.C,\n",
       " '_i94': 'A.x, B.x, C.x',\n",
       " '_94': (1, 1, 1),\n",
       " '_i95': 'B.x = 2\\nA.x, B.x, C.x',\n",
       " '_95': (1, 2, 1),\n",
       " '_i96': 'A.x = 3\\nA.x, B.x, C.x',\n",
       " '_96': (3, 2, 3),\n",
       " '_i97': 'a = A()\\na.x, A.x',\n",
       " '_97': (3, 3),\n",
       " '_i98': 'a.x += 1\\na.x, A.x',\n",
       " '_98': (4, 3),\n",
       " '_i99': 'class SomeClass:\\n    some_var = 15\\n    some_list = [5]\\n    another_list = [5]\\n    def __init__(self, x):\\n        self.some_var = x + 1\\n        self.some_list = self.some_list + [x]\\n        self.another_list += [x]',\n",
       " 'SomeClass': __main__.SomeClass,\n",
       " '_i100': 'some_obj = SomeClass(420)\\nsome_obj.some_list',\n",
       " 'some_obj': <__main__.SomeClass at 0x7f67693ee3c8>,\n",
       " '_100': [5, 420],\n",
       " '_i101': 'some_obj.another_list',\n",
       " '_101': [5, 420, 111],\n",
       " '_i102': 'another_obj = SomeClass(111)\\nanother_obj.some_list',\n",
       " 'another_obj': <__main__.SomeClass at 0x7f67693ee2e8>,\n",
       " '_102': [5, 111],\n",
       " '_i103': 'another_obj.another_list',\n",
       " '_103': [5, 420, 111],\n",
       " '_i104': 'another_obj.another_list is SomeClass.another_list',\n",
       " '_104': True,\n",
       " '_i105': 'another_obj.another_list is some_obj.another_list',\n",
       " '_105': True,\n",
       " '_i106': 'some_iterable = (\\'a\\', \\'b\\')\\n\\ndef some_func(val):\\n    return \"something\"',\n",
       " 'some_iterable': ('a', 'b'),\n",
       " '_i107': '[x for x in some_iterable]',\n",
       " '_107': ['a', 'b'],\n",
       " '_i108': '[(yield x) for x in some_iterable]',\n",
       " '_108': <generator object <listcomp> at 0x7f67693f1518>,\n",
       " '_i109': 'list([(yield x) for x in some_iterable])',\n",
       " '_109': ['a', 'b'],\n",
       " '_i110': 'list((yield x) for x in some_iterable)',\n",
       " '_110': ['a', None, 'b', None],\n",
       " '_i111': 'list(some_func((yield x)) for x in some_iterable)',\n",
       " '_111': ['a', 'something', 'b', 'something'],\n",
       " '_i112': 'some_tuple = (\"A\", \"tuple\", \"with\", \"values\")\\nanother_tuple = ([1, 2], [3, 4], [5, 6])',\n",
       " 'some_tuple': ('A', 'tuple', 'with', 'values'),\n",
       " 'another_tuple': ([1, 2], [3, 4], [5, 6, 1000, 99, 999]),\n",
       " '_i113': 'some_tuple[2] = \"change this\"',\n",
       " '_i114': 'another_tuple[2].append(1000) #This throws no error\\nanother_tuple',\n",
       " '_114': ([1, 2], [3, 4], [5, 6, 1000, 99, 999]),\n",
       " '_i115': 'another_tuple[2] += [99, 999]',\n",
       " '_i116': 'another_tuple\\n([1, 2], [3, 4], [5, 6, 1000, 99, 999])',\n",
       " '_116': ([1, 2], [3, 4], [5, 6, 1000, 99, 999]),\n",
       " '_i117': 'another_tuple',\n",
       " '_117': ([1, 2], [3, 4], [5, 6, 1000, 99, 999]),\n",
       " '_i118': '> Immutable sequences\\n    An object of an immutable sequence type cannot change once it is created. (If the object contains references to other objects, these other objects may be mutable and may be modified; however, the collection of objects directly referenced by an immutable object cannot change.)',\n",
       " '_i119': 'e = 7\\ntry:\\n    raise Exception()\\nexcept Exception as e:\\n    pass',\n",
       " '_i120': '>>> print(e)',\n",
       " '_i121': 'print(e)',\n",
       " '_i122': 'def f(x):\\n    del(x)\\n    print(x)\\n\\nx = 5\\ny = [5, 4, 3]',\n",
       " '_i123': 'f(x)',\n",
       " '_i124': 'f(x)',\n",
       " '_i125': 'f(y)',\n",
       " '_i126': 'x',\n",
       " '_126': 5,\n",
       " '_i127': 'y',\n",
       " '_127': [5, 4, 3],\n",
       " '_i128': 'True = False\\nif True == False:\\n    print(\"I\\'ve lost faith in truth!\")',\n",
       " '_i129': 'some_list = [1, 2, 3]\\nsome_dict = {\\n  \"key_1\": 1,\\n  \"key_2\": 2,\\n  \"key_3\": 3\\n}\\n\\nsome_list = some_list.append(4)\\nsome_dict = some_dict.update({\"key_4\": 4})',\n",
       " 'some_list': None,\n",
       " '_i130': 'some_list',\n",
       " '_i131': 'print(some_list)',\n",
       " '_i132': 'print(some_dict)',\n",
       " '_i133': 'from collections import Hashable\\nissubclass(list, object)',\n",
       " 'Hashable': collections.abc.Hashable,\n",
       " '_133': True,\n",
       " '_i134': 'issubclass(object, Hashable)',\n",
       " '_134': True,\n",
       " '_i135': 'issubclass(list, Hashable)',\n",
       " '_135': False,\n",
       " '_i136': \"class SomeClass(str):\\n    pass\\n\\nsome_dict = {'s':42}\",\n",
       " '_i137': 'type(list(some_dict.keys())[0])',\n",
       " '_137': str,\n",
       " '_i138': \"s = SomeClass('s')\\nsome_dict[s] = 40\\nsome_dict # expected: Two different keys-value pairs\",\n",
       " 's': 's',\n",
       " '_138': {'s': 40},\n",
       " '_i139': 'type(list(some_dict.keys())[0])',\n",
       " '_139': str,\n",
       " '_i140': '# When we define a custom __eq__, Python stops automatically inheriting the\\n# __hash__ method, so we need to define it as well\\n__hash__ = str.__hash__',\n",
       " '__hash__': <slot wrapper '__hash__' of 'str' objects>,\n",
       " '_i141': 'a, b = a[b] = {}, 5',\n",
       " '_i142': 'a',\n",
       " '_142': {5: ({...}, 5)},\n",
       " '_i143': 'value = 11\\nvaluе = 32\\nvalue',\n",
       " 'value': 42,\n",
       " 'valuе': 23,\n",
       " '_143': 11,\n",
       " '_i144': \"ord('е') # cyrillic 'e' (Ye)\",\n",
       " '_144': 1077,\n",
       " '_i145': \"ord('e') # latin 'e', as used in English and typed using standard keyboard\",\n",
       " '_145': 101,\n",
       " '_i146': \"'е' == 'e'\",\n",
       " '_146': False,\n",
       " '_i147': \"value = 42 # latin e\\nvaluе = 23 # cyrillic 'e', Python 2.x interpreter would raise a `SyntaxError` here\\nvalue\",\n",
       " '_147': 42,\n",
       " '_i148': 'import numpy as np\\n\\ndef energy_send(x):\\n    # Initializing a numpy array\\n    np.array([float(x)])\\n\\ndef energy_receive():\\n    # Return an empty numpy array\\n    return np.empty((), dtype=np.float).tolist()',\n",
       " 'np': <module 'numpy' from '/usr/local/lib/python3.6/site-packages/numpy/__init__.py'>,\n",
       " 'energy_send': <function __main__.energy_send(x)>,\n",
       " 'energy_receive': <function __main__.energy_receive()>,\n",
       " '_i149': 'energy_send(123.456)\\nenergy_receive()',\n",
       " '_149': 123.456,\n",
       " '_i150': 'def square(x):\\n    \"\"\"\\n    A simple function to calculate the square of a number by addition.\\n    \"\"\"\\n    sum_so_far = 0\\n    for counter in range(x):\\n        sum_so_far = sum_so_far + x\\n    return sum_so_far',\n",
       " 'square': <function __main__.square(x)>,\n",
       " '_i151': 'square(10)',\n",
       " '_151': 100,\n",
       " '_i152': '# Output (Python 3.x):\\n# TabError: inconsistent use of tabs and spaces in indentation',\n",
       " '_i153': 'x = {0: None}\\n\\nfor i in x:\\n    del x[i]\\n    x[i+1] = None\\n    print(i)',\n",
       " '_i154': 'class SomeClass:\\n    def __del__(self):\\n        print(\"Deleted!\")',\n",
       " '_i155': 'x = SomeClass()\\ny = x\\ndel x # this should print \"Deleted!\"\\ndel y',\n",
       " '_i156': 'x = SomeClass()\\ny = x\\ndel x\\ny # check if y exists',\n",
       " '_156': <__main__.SomeClass at 0x7f6749f26780>,\n",
       " '_i157': 'del y # Like previously, this should print \"Deleted!\"\\nglobals() # oh, it didn\\'t. Let\\'s check all our global variables and confirm'}"
      ]
     },
     "execution_count": 157,
     "metadata": {},
     "output_type": "execute_result"
    }
   ],
   "source": [
    "del y # Like previously, this should print \"Deleted!\"\n",
    "globals() # oh, it didn't. Let's check all our global variables and confirm"
   ]
  },
  {
   "cell_type": "markdown",
   "metadata": {},
   "source": [
    "Okay, now it's deleted :confused:\n",
    "\n",
    "#### 💡 Explanation:\n",
    "+ `del x` doesn’t directly call `x.__del__()`.\n",
    "+ Whenever `del x` is encountered, Python decrements the reference count for `x` by one, and `x.__del__()` when x’s reference count reaches zero.\n",
    "+ In the second output snippet, `y.__del__()` was not called because the previous statement (`>>> y`) in the interactive interpreter created another reference to the same object, thus preventing the reference count to reach zero when `del y` was encountered.\n",
    "+ Calling `globals` caused the existing reference to be destroyed and hence we can see \"Deleted!\" being printed (finally!).\n",
    "\n",
    "---"
   ]
  },
  {
   "cell_type": "markdown",
   "metadata": {},
   "source": [
    "### ▶ Deleting a list item while iterating"
   ]
  },
  {
   "cell_type": "code",
   "execution_count": 158,
   "metadata": {
    "attributes": {
     "classes": [
      "py"
     ],
     "id": ""
    }
   },
   "outputs": [],
   "source": [
    "list_1 = [1, 2, 3, 4]\n",
    "list_2 = [1, 2, 3, 4]\n",
    "list_3 = [1, 2, 3, 4]\n",
    "list_4 = [1, 2, 3, 4]\n",
    "\n",
    "for idx, item in enumerate(list_1):\n",
    "    del item\n",
    "\n",
    "for idx, item in enumerate(list_2):\n",
    "    list_2.remove(item)\n",
    "\n",
    "for idx, item in enumerate(list_3[:]):\n",
    "    list_3.remove(item)\n",
    "\n",
    "for idx, item in enumerate(list_4):\n",
    "    list_4.pop(idx)"
   ]
  },
  {
   "cell_type": "markdown",
   "metadata": {},
   "source": [
    "**Output:**"
   ]
  },
  {
   "cell_type": "code",
   "execution_count": 159,
   "metadata": {
    "attributes": {
     "classes": [
      "py"
     ],
     "id": ""
    }
   },
   "outputs": [
    {
     "data": {
      "text/plain": [
       "[1, 2, 3, 4]"
      ]
     },
     "execution_count": 159,
     "metadata": {},
     "output_type": "execute_result"
    }
   ],
   "source": [
    "list_1"
   ]
  },
  {
   "cell_type": "code",
   "execution_count": 160,
   "metadata": {},
   "outputs": [
    {
     "data": {
      "text/plain": [
       "[2, 4]"
      ]
     },
     "execution_count": 160,
     "metadata": {},
     "output_type": "execute_result"
    }
   ],
   "source": [
    "list_2"
   ]
  },
  {
   "cell_type": "code",
   "execution_count": 161,
   "metadata": {},
   "outputs": [
    {
     "data": {
      "text/plain": [
       "[]"
      ]
     },
     "execution_count": 161,
     "metadata": {},
     "output_type": "execute_result"
    }
   ],
   "source": [
    "list_3"
   ]
  },
  {
   "cell_type": "code",
   "execution_count": 162,
   "metadata": {},
   "outputs": [
    {
     "data": {
      "text/plain": [
       "[2, 4]"
      ]
     },
     "execution_count": 162,
     "metadata": {},
     "output_type": "execute_result"
    }
   ],
   "source": [
    "list_4"
   ]
  },
  {
   "cell_type": "markdown",
   "metadata": {},
   "source": [
    "Can you guess why the output is `[2, 4]`?\n",
    "\n",
    "#### 💡 Explanation:\n",
    "\n",
    "* It's never a good idea to change the object you're iterating over. The correct way to do so is to iterate over a copy of the object instead, and `list_3[:]` does just that."
   ]
  },
  {
   "cell_type": "code",
   "execution_count": 163,
   "metadata": {},
   "outputs": [
    {
     "data": {
      "text/plain": [
       "140082124611144"
      ]
     },
     "execution_count": 163,
     "metadata": {},
     "output_type": "execute_result"
    }
   ],
   "source": [
    "some_list = [1, 2, 3, 4]\n",
    "id(some_list)"
   ]
  },
  {
   "cell_type": "code",
   "execution_count": 164,
   "metadata": {},
   "outputs": [
    {
     "data": {
      "text/plain": [
       "140081598966472"
      ]
     },
     "execution_count": 164,
     "metadata": {},
     "output_type": "execute_result"
    }
   ],
   "source": [
    "id(some_list[:]) # Notice that python creates new object for sliced list."
   ]
  },
  {
   "cell_type": "markdown",
   "metadata": {},
   "source": [
    "**Difference between `del`, `remove`, and `pop`:**\n",
    "* `del var_name` just removes the binding of the `var_name` from the local or global namespace (That's why the `list_1` is unaffected).\n",
    "* `remove` removes the first matching value, not a specific index, raises `ValueError` if the value is not found.\n",
    "* `pop` removes the element at a specific index and returns it, raises `IndexError` if an invalid index is specified.\n",
    "\n",
    "**Why the output is `[2, 4]`?**\n",
    "- The list iteration is done index by index, and when we remove `1` from `list_2` or `list_4`, the contents of the lists are now `[2, 3, 4]`. The remaining elements are shifted down, i.e., `2` is at index 0, and `3` is at index 1. Since the next iteration is going to look at index 1 (which is the `3`), the `2` gets skipped entirely. A similar thing will happen with every alternate element in the list sequence.\n",
    "\n",
    "* Refer to this StackOverflow [thread](https://stackoverflow.com/questions/45946228/what-happens-when-you-try-to-delete-a-list-element-while-iterating-over-it) explaining the example\n",
    "* See also this nice StackOverflow [thread](https://stackoverflow.com/questions/45877614/how-to-change-all-the-dictionary-keys-in-a-for-loop-with-d-items) for a similar example related to dictionaries in Python.\n",
    "\n",
    "---"
   ]
  },
  {
   "cell_type": "markdown",
   "metadata": {},
   "source": [
    "### ▶ Loop variables leaking out!\n",
    "\n",
    "## 1)"
   ]
  },
  {
   "cell_type": "code",
   "execution_count": 165,
   "metadata": {
    "attributes": {
     "classes": [
      "py"
     ],
     "id": ""
    }
   },
   "outputs": [
    {
     "name": "stdout",
     "output_type": "stream",
     "text": [
      "6 : for x inside loop\n",
      "6 : x in global\n"
     ]
    }
   ],
   "source": [
    "for x in range(7):\n",
    "    if x == 6:\n",
    "        print(x, ': for x inside loop')\n",
    "print(x, ': x in global')"
   ]
  },
  {
   "cell_type": "markdown",
   "metadata": {},
   "source": [
    "**Output:**"
   ]
  },
  {
   "cell_type": "code",
   "execution_count": null,
   "metadata": {
    "attributes": {
     "classes": [
      "py"
     ],
     "id": ""
    }
   },
   "outputs": [],
   "source": [
    "6 : for x inside loop\n",
    "6 : x in global"
   ]
  },
  {
   "cell_type": "markdown",
   "metadata": {},
   "source": [
    "But `x` was never defined outside the scope of for loop...\n",
    "\n",
    "## 2)"
   ]
  },
  {
   "cell_type": "code",
   "execution_count": 166,
   "metadata": {
    "attributes": {
     "classes": [
      "py"
     ],
     "id": ""
    }
   },
   "outputs": [
    {
     "name": "stdout",
     "output_type": "stream",
     "text": [
      "6 : for x inside loop\n",
      "6 : x in global\n"
     ]
    }
   ],
   "source": [
    "# This time let's initialize x first\n",
    "x = -1\n",
    "for x in range(7):\n",
    "    if x == 6:\n",
    "        print(x, ': for x inside loop')\n",
    "print(x, ': x in global')"
   ]
  },
  {
   "cell_type": "markdown",
   "metadata": {},
   "source": [
    "**Output:**"
   ]
  },
  {
   "cell_type": "code",
   "execution_count": null,
   "metadata": {
    "attributes": {
     "classes": [
      "py"
     ],
     "id": ""
    }
   },
   "outputs": [],
   "source": [
    "6 : for x inside loop\n",
    "6 : x in global"
   ]
  },
  {
   "cell_type": "markdown",
   "metadata": {},
   "source": [
    "## 3)"
   ]
  },
  {
   "cell_type": "code",
   "execution_count": 167,
   "metadata": {},
   "outputs": [
    {
     "name": "stdout",
     "output_type": "stream",
     "text": [
      "[0, 1, 2, 3, 4]\n",
      "1 : x in global\n"
     ]
    }
   ],
   "source": [
    "x = 1\n",
    "print([x for x in range(5)])\n",
    "print(x, ': x in global')"
   ]
  },
  {
   "cell_type": "markdown",
   "metadata": {},
   "source": [
    "**Output (on Python 2.x):**"
   ]
  },
  {
   "cell_type": "code",
   "execution_count": null,
   "metadata": {},
   "outputs": [],
   "source": [
    "[0, 1, 2, 3, 4]\n",
    "(4, ': x in global')"
   ]
  },
  {
   "cell_type": "markdown",
   "metadata": {},
   "source": [
    "**Output (on Python 3.x):**"
   ]
  },
  {
   "cell_type": "code",
   "execution_count": null,
   "metadata": {},
   "outputs": [],
   "source": [
    "[0, 1, 2, 3, 4]\n",
    "1 : x in global"
   ]
  },
  {
   "cell_type": "markdown",
   "metadata": {},
   "source": [
    "#### 💡 Explanation:\n",
    "\n",
    "- In Python, for-loops use the scope they exist in and leave their defined loop-variable behind. This also applies if we explicitly defined the for-loop variable in the global namespace before. In this case, it will rebind the existing variable.\n",
    "\n",
    "- The differences in the output of Python 2.x and Python 3.x interpreters for list comprehension example can be explained by following change documented in [What’s New In Python 3.0](https://docs.python.org/3/whatsnew/3.0.html) documentation:"
   ]
  },
  {
   "cell_type": "markdown",
   "metadata": {},
   "source": [
    "> \"List comprehensions no longer support the syntactic form `[... for var in item1, item2, ...]`. Use `[... for var in (item1, item2, ...)]` instead. Also, note that list comprehensions have different semantics: they are closer to syntactic sugar for a generator expression inside a `list()` constructor, and in particular the loop control variables are no longer leaked into the surrounding scope.\""
   ]
  },
  {
   "cell_type": "markdown",
   "metadata": {},
   "source": [
    "---"
   ]
  },
  {
   "cell_type": "markdown",
   "metadata": {},
   "source": [
    "### ▶ Beware of default mutable arguments!"
   ]
  },
  {
   "cell_type": "code",
   "execution_count": 168,
   "metadata": {
    "attributes": {
     "classes": [
      "py"
     ],
     "id": ""
    }
   },
   "outputs": [],
   "source": [
    "def some_func(default_arg=[]):\n",
    "    default_arg.append(\"some_string\")\n",
    "    return default_arg"
   ]
  },
  {
   "cell_type": "markdown",
   "metadata": {},
   "source": [
    "**Output:**"
   ]
  },
  {
   "cell_type": "code",
   "execution_count": 169,
   "metadata": {
    "attributes": {
     "classes": [
      "py"
     ],
     "id": ""
    }
   },
   "outputs": [
    {
     "data": {
      "text/plain": [
       "['some_string']"
      ]
     },
     "execution_count": 169,
     "metadata": {},
     "output_type": "execute_result"
    }
   ],
   "source": [
    "some_func()"
   ]
  },
  {
   "cell_type": "code",
   "execution_count": 170,
   "metadata": {},
   "outputs": [
    {
     "data": {
      "text/plain": [
       "['some_string', 'some_string']"
      ]
     },
     "execution_count": 170,
     "metadata": {},
     "output_type": "execute_result"
    }
   ],
   "source": [
    "some_func()"
   ]
  },
  {
   "cell_type": "code",
   "execution_count": 171,
   "metadata": {},
   "outputs": [
    {
     "data": {
      "text/plain": [
       "['some_string']"
      ]
     },
     "execution_count": 171,
     "metadata": {},
     "output_type": "execute_result"
    }
   ],
   "source": [
    "some_func([])"
   ]
  },
  {
   "cell_type": "code",
   "execution_count": 175,
   "metadata": {},
   "outputs": [
    {
     "data": {
      "text/plain": [
       "['some_string']"
      ]
     },
     "execution_count": 175,
     "metadata": {},
     "output_type": "execute_result"
    }
   ],
   "source": [
    "some_func()"
   ]
  },
  {
   "cell_type": "code",
   "execution_count": 176,
   "metadata": {},
   "outputs": [
    {
     "data": {
      "text/plain": [
       "(['some_string', 'some_string'],)"
      ]
     },
     "execution_count": 176,
     "metadata": {},
     "output_type": "execute_result"
    }
   ],
   "source": [
    "some_func()\n",
    "some_func.__defaults__"
   ]
  },
  {
   "cell_type": "code",
   "execution_count": 177,
   "metadata": {},
   "outputs": [
    {
     "data": {
      "text/plain": [
       "(['some_string', 'some_string', 'some_string'],)"
      ]
     },
     "execution_count": 177,
     "metadata": {},
     "output_type": "execute_result"
    }
   ],
   "source": [
    "some_func()\n",
    "some_func.__defaults__"
   ]
  },
  {
   "cell_type": "code",
   "execution_count": 178,
   "metadata": {},
   "outputs": [
    {
     "data": {
      "text/plain": [
       "(['some_string', 'some_string', 'some_string'],)"
      ]
     },
     "execution_count": 178,
     "metadata": {},
     "output_type": "execute_result"
    }
   ],
   "source": [
    "some_func([])\n",
    "some_func.__defaults__"
   ]
  },
  {
   "cell_type": "markdown",
   "metadata": {},
   "source": [
    "#### 💡 Explanation:\n",
    "\n",
    "- The default mutable arguments of functions in Python aren't really initialized every time you call the function. Instead, the recently assigned value to them is used as the default value. When we explicitly passed `[]` to `some_func` as the argument, the default value of the `default_arg` variable was not used, so the function returned as expected."
   ]
  },
  {
   "cell_type": "code",
   "execution_count": 179,
   "metadata": {},
   "outputs": [],
   "source": [
    "def some_func(default_arg=[]):\n",
    "    default_arg.append(\"some_string\")\n",
    "    return default_arg"
   ]
  },
  {
   "cell_type": "code",
   "execution_count": 180,
   "metadata": {},
   "outputs": [
    {
     "data": {
      "text/plain": [
       "([],)"
      ]
     },
     "execution_count": 180,
     "metadata": {},
     "output_type": "execute_result"
    }
   ],
   "source": [
    "some_func.__defaults__ #This will show the default argument values for the function"
   ]
  },
  {
   "cell_type": "code",
   "execution_count": 181,
   "metadata": {},
   "outputs": [
    {
     "data": {
      "text/plain": [
       "(['some_string'],)"
      ]
     },
     "execution_count": 181,
     "metadata": {},
     "output_type": "execute_result"
    }
   ],
   "source": [
    "some_func()\n",
    "some_func.__defaults__"
   ]
  },
  {
   "cell_type": "code",
   "execution_count": 182,
   "metadata": {},
   "outputs": [
    {
     "data": {
      "text/plain": [
       "(['some_string', 'some_string'],)"
      ]
     },
     "execution_count": 182,
     "metadata": {},
     "output_type": "execute_result"
    }
   ],
   "source": [
    "some_func()\n",
    "some_func.__defaults__"
   ]
  },
  {
   "cell_type": "code",
   "execution_count": 183,
   "metadata": {},
   "outputs": [
    {
     "data": {
      "text/plain": [
       "(['some_string', 'some_string'],)"
      ]
     },
     "execution_count": 183,
     "metadata": {},
     "output_type": "execute_result"
    }
   ],
   "source": [
    "some_func([])\n",
    "some_func.__defaults__"
   ]
  },
  {
   "cell_type": "markdown",
   "metadata": {},
   "source": [
    "- A common practice to avoid bugs due to mutable arguments is to assign `None` as the default value and later check if any value is passed to the function corresponding to that argument. Example:"
   ]
  },
  {
   "cell_type": "code",
   "execution_count": 184,
   "metadata": {},
   "outputs": [],
   "source": [
    "def some_func(default_arg=None):\n",
    "    if not default_arg:\n",
    "        default_arg = []\n",
    "    default_arg.append(\"some_string\")\n",
    "    return default_arg"
   ]
  },
  {
   "cell_type": "markdown",
   "metadata": {},
   "source": [
    "---"
   ]
  },
  {
   "cell_type": "markdown",
   "metadata": {},
   "source": [
    "### ▶ Catching the Exceptions"
   ]
  },
  {
   "cell_type": "code",
   "execution_count": null,
   "metadata": {
    "attributes": {
     "classes": [
      "py"
     ],
     "id": ""
    }
   },
   "outputs": [],
   "source": [
    "some_list = [1, 2, 3]\n",
    "try:\n",
    "    # This should raise an ``IndexError``\n",
    "    print(some_list[4])\n",
    "except IndexError, ValueError:\n",
    "    print(\"Caught!\")\n",
    "\n",
    "try:\n",
    "    # This should raise a ``ValueError``\n",
    "    some_list.remove(4)\n",
    "except IndexError, ValueError:\n",
    "    print(\"Caught again!\")"
   ]
  },
  {
   "cell_type": "markdown",
   "metadata": {},
   "source": [
    "**Output (Python 2.x):**"
   ]
  },
  {
   "cell_type": "code",
   "execution_count": null,
   "metadata": {
    "attributes": {
     "classes": [
      "py"
     ],
     "id": ""
    }
   },
   "outputs": [],
   "source": [
    "Caught!\n",
    "\n",
    "ValueError: list.remove(x): x not in list"
   ]
  },
  {
   "cell_type": "markdown",
   "metadata": {},
   "source": [
    "**Output (Python 3.x):**"
   ]
  },
  {
   "cell_type": "code",
   "execution_count": null,
   "metadata": {
    "attributes": {
     "classes": [
      "py"
     ],
     "id": ""
    }
   },
   "outputs": [],
   "source": [
    "  File \"<input>\", line 3\n",
    "    except IndexError, ValueError:\n",
    "                     ^\n",
    "SyntaxError: invalid syntax"
   ]
  },
  {
   "cell_type": "markdown",
   "metadata": {},
   "source": [
    "#### 💡 Explanation\n",
    "\n",
    "* To add multiple Exceptions to the except clause, you need to pass them as parenthesized tuple as the first argument. The second argument is an optional name, which when supplied will bind the Exception instance that has been raised. Example,\n",
    "  ```py\n",
    "  some_list = [1, 2, 3]\n",
    "  try:\n",
    "     # This should raise a ``ValueError``\n",
    "     some_list.remove(4)\n",
    "  except (IndexError, ValueError), e:\n",
    "     print(\"Caught again!\")\n",
    "     print(e)\n",
    "  ```\n",
    "  **Output (Python 2.x):**\n",
    "  ```\n",
    "  Caught again!\n",
    "  list.remove(x): x not in list\n",
    "  ```\n",
    "  **Output (Python 3.x):**\n",
    "  ```py\n",
    "    File \"<input>\", line 4\n",
    "      except (IndexError, ValueError), e:\n",
    "                                       ^\n",
    "  IndentationError: unindent does not match any outer indentation level\n",
    "  ```\n",
    "\n",
    "* Separating the exception from the variable with a comma is deprecated and does not work in Python 3; the correct way is to use `as`. Example,\n",
    "  ```py\n",
    "  some_list = [1, 2, 3]\n",
    "  try:\n",
    "      some_list.remove(4)\n",
    "\n",
    "  except (IndexError, ValueError) as e:\n",
    "      print(\"Caught again!\")\n",
    "      print(e)\n",
    "  ```\n",
    "  **Output:**\n",
    "  ```\n",
    "  Caught again!\n",
    "  list.remove(x): x not in list\n",
    "  ```\n",
    "\n",
    "---"
   ]
  },
  {
   "cell_type": "markdown",
   "metadata": {},
   "source": [
    "### ▶ Same operands, different story!\n",
    "\n",
    "## 1)"
   ]
  },
  {
   "cell_type": "code",
   "execution_count": 188,
   "metadata": {
    "attributes": {
     "classes": [
      "py"
     ],
     "id": ""
    }
   },
   "outputs": [],
   "source": [
    "a = [1, 2, 3, 4]\n",
    "b = a\n",
    "a = a + [5, 6, 7, 8]"
   ]
  },
  {
   "cell_type": "markdown",
   "metadata": {},
   "source": [
    "**Output:**"
   ]
  },
  {
   "cell_type": "code",
   "execution_count": 189,
   "metadata": {
    "attributes": {
     "classes": [
      "py"
     ],
     "id": ""
    }
   },
   "outputs": [
    {
     "data": {
      "text/plain": [
       "[1, 2, 3, 4, 5, 6, 7, 8]"
      ]
     },
     "execution_count": 189,
     "metadata": {},
     "output_type": "execute_result"
    }
   ],
   "source": [
    "a"
   ]
  },
  {
   "cell_type": "code",
   "execution_count": 190,
   "metadata": {},
   "outputs": [
    {
     "data": {
      "text/plain": [
       "[1, 2, 3, 4]"
      ]
     },
     "execution_count": 190,
     "metadata": {},
     "output_type": "execute_result"
    }
   ],
   "source": [
    "b"
   ]
  },
  {
   "cell_type": "markdown",
   "metadata": {},
   "source": [
    "## 2)"
   ]
  },
  {
   "cell_type": "code",
   "execution_count": 191,
   "metadata": {
    "attributes": {
     "classes": [
      "py"
     ],
     "id": ""
    }
   },
   "outputs": [],
   "source": [
    "a = [1, 2, 3, 4]\n",
    "b = a\n",
    "a += [5, 6, 7, 8]"
   ]
  },
  {
   "cell_type": "markdown",
   "metadata": {},
   "source": [
    "**Output:**"
   ]
  },
  {
   "cell_type": "code",
   "execution_count": 192,
   "metadata": {
    "attributes": {
     "classes": [
      "py"
     ],
     "id": ""
    }
   },
   "outputs": [
    {
     "data": {
      "text/plain": [
       "[1, 2, 3, 4, 5, 6, 7, 8]"
      ]
     },
     "execution_count": 192,
     "metadata": {},
     "output_type": "execute_result"
    }
   ],
   "source": [
    "a"
   ]
  },
  {
   "cell_type": "code",
   "execution_count": 193,
   "metadata": {},
   "outputs": [
    {
     "data": {
      "text/plain": [
       "[1, 2, 3, 4, 5, 6, 7, 8]"
      ]
     },
     "execution_count": 193,
     "metadata": {},
     "output_type": "execute_result"
    }
   ],
   "source": [
    "b"
   ]
  },
  {
   "cell_type": "markdown",
   "metadata": {},
   "source": [
    "#### 💡 Explanation:\n",
    "\n",
    "*  `a += b` doesn't always behave the same way as `a = a + b`.  Classes *may* implement the *`op=`* operators differently, and lists do this.\n",
    "\n",
    "* The expression `a = a + [5,6,7,8]` generates a new list and sets `a`'s reference to that new list, leaving `b` unchanged.\n",
    "\n",
    "* The expression `a += [5,6,7,8]` is actually mapped to an \"extend\" function that operates on the list such that `a` and `b` still point to the same list that has been modified in-place.\n",
    "\n",
    "---"
   ]
  },
  {
   "cell_type": "markdown",
   "metadata": {},
   "source": [
    "### ▶ The out of scope variable"
   ]
  },
  {
   "cell_type": "code",
   "execution_count": 194,
   "metadata": {
    "attributes": {
     "classes": [
      "py"
     ],
     "id": ""
    }
   },
   "outputs": [],
   "source": [
    "a = 1\n",
    "def some_func():\n",
    "    return a\n",
    "\n",
    "def another_func():\n",
    "    a += 1\n",
    "    return a"
   ]
  },
  {
   "cell_type": "markdown",
   "metadata": {},
   "source": [
    "**Output:**"
   ]
  },
  {
   "cell_type": "code",
   "execution_count": 195,
   "metadata": {
    "attributes": {
     "classes": [
      "py"
     ],
     "id": ""
    }
   },
   "outputs": [
    {
     "data": {
      "text/plain": [
       "1"
      ]
     },
     "execution_count": 195,
     "metadata": {},
     "output_type": "execute_result"
    }
   ],
   "source": [
    "some_func()"
   ]
  },
  {
   "cell_type": "code",
   "execution_count": 196,
   "metadata": {},
   "outputs": [
    {
     "ename": "UnboundLocalError",
     "evalue": "local variable 'a' referenced before assignment",
     "output_type": "error",
     "traceback": [
      "\u001b[0;31m---------------------------------------------------------------------------\u001b[0m",
      "\u001b[0;31mUnboundLocalError\u001b[0m                         Traceback (most recent call last)",
      "\u001b[0;32m<ipython-input-196-464bd62798b3>\u001b[0m in \u001b[0;36m<module>\u001b[0;34m\u001b[0m\n\u001b[0;32m----> 1\u001b[0;31m \u001b[0manother_func\u001b[0m\u001b[0;34m(\u001b[0m\u001b[0;34m)\u001b[0m\u001b[0;34m\u001b[0m\u001b[0m\n\u001b[0m",
      "\u001b[0;32m<ipython-input-194-cee78a9e19e7>\u001b[0m in \u001b[0;36manother_func\u001b[0;34m()\u001b[0m\n\u001b[1;32m      4\u001b[0m \u001b[0;34m\u001b[0m\u001b[0m\n\u001b[1;32m      5\u001b[0m \u001b[0;32mdef\u001b[0m \u001b[0manother_func\u001b[0m\u001b[0;34m(\u001b[0m\u001b[0;34m)\u001b[0m\u001b[0;34m:\u001b[0m\u001b[0;34m\u001b[0m\u001b[0m\n\u001b[0;32m----> 6\u001b[0;31m     \u001b[0ma\u001b[0m \u001b[0;34m+=\u001b[0m \u001b[0;36m1\u001b[0m\u001b[0;34m\u001b[0m\u001b[0m\n\u001b[0m\u001b[1;32m      7\u001b[0m     \u001b[0;32mreturn\u001b[0m \u001b[0ma\u001b[0m\u001b[0;34m\u001b[0m\u001b[0m\n",
      "\u001b[0;31mUnboundLocalError\u001b[0m: local variable 'a' referenced before assignment"
     ]
    }
   ],
   "source": [
    "another_func()"
   ]
  },
  {
   "cell_type": "markdown",
   "metadata": {},
   "source": [
    "#### 💡 Explanation:\n",
    "* When you make an assignment to a variable in scope, it becomes local to that scope. So `a` becomes local to the scope of `another_func`,  but it has not been initialized previously in the same scope which throws an error.\n",
    "* Read [this](http://sebastianraschka.com/Articles/2014_python_scope_and_namespaces.html) short but an awesome guide to learn more about how namespaces and scope resolution works in Python.\n",
    "* To modify the outer scope variable `a` in `another_func`, use `global` keyword.\n",
    "  ```py\n",
    "  def another_func()\n",
    "      global a\n",
    "      a += 1\n",
    "      return a\n",
    "  ```\n",
    "\n",
    "  **Output:**\n",
    "  ```py\n",
    "  >>> another_func()\n",
    "  2\n",
    "  ```\n",
    "\n",
    "---"
   ]
  },
  {
   "cell_type": "markdown",
   "metadata": {},
   "source": [
    "### ▶ Be careful with chained operations"
   ]
  },
  {
   "cell_type": "code",
   "execution_count": 197,
   "metadata": {
    "attributes": {
     "classes": [
      "py"
     ],
     "id": ""
    }
   },
   "outputs": [
    {
     "data": {
      "text/plain": [
       "False"
      ]
     },
     "execution_count": 197,
     "metadata": {},
     "output_type": "execute_result"
    }
   ],
   "source": [
    "(False == False) in [False] # makes sense"
   ]
  },
  {
   "cell_type": "code",
   "execution_count": 198,
   "metadata": {},
   "outputs": [
    {
     "data": {
      "text/plain": [
       "False"
      ]
     },
     "execution_count": 198,
     "metadata": {},
     "output_type": "execute_result"
    }
   ],
   "source": [
    "False == (False in [False]) # makes sense"
   ]
  },
  {
   "cell_type": "code",
   "execution_count": 199,
   "metadata": {},
   "outputs": [
    {
     "data": {
      "text/plain": [
       "True"
      ]
     },
     "execution_count": 199,
     "metadata": {},
     "output_type": "execute_result"
    }
   ],
   "source": [
    "False == False in [False] # now what?"
   ]
  },
  {
   "cell_type": "code",
   "execution_count": 200,
   "metadata": {},
   "outputs": [
    {
     "data": {
      "text/plain": [
       "False"
      ]
     },
     "execution_count": 200,
     "metadata": {},
     "output_type": "execute_result"
    }
   ],
   "source": [
    "True is False == False"
   ]
  },
  {
   "cell_type": "code",
   "execution_count": 201,
   "metadata": {},
   "outputs": [
    {
     "data": {
      "text/plain": [
       "True"
      ]
     },
     "execution_count": 201,
     "metadata": {},
     "output_type": "execute_result"
    }
   ],
   "source": [
    "False is False is False"
   ]
  },
  {
   "cell_type": "code",
   "execution_count": 202,
   "metadata": {},
   "outputs": [
    {
     "data": {
      "text/plain": [
       "True"
      ]
     },
     "execution_count": 202,
     "metadata": {},
     "output_type": "execute_result"
    }
   ],
   "source": [
    "1 > 0 < 1"
   ]
  },
  {
   "cell_type": "code",
   "execution_count": 203,
   "metadata": {},
   "outputs": [
    {
     "data": {
      "text/plain": [
       "False"
      ]
     },
     "execution_count": 203,
     "metadata": {},
     "output_type": "execute_result"
    }
   ],
   "source": [
    "(1 > 0) < 1"
   ]
  },
  {
   "cell_type": "code",
   "execution_count": 204,
   "metadata": {},
   "outputs": [
    {
     "data": {
      "text/plain": [
       "False"
      ]
     },
     "execution_count": 204,
     "metadata": {},
     "output_type": "execute_result"
    }
   ],
   "source": [
    "1 > (0 < 1)"
   ]
  },
  {
   "cell_type": "markdown",
   "metadata": {},
   "source": [
    "#### 💡 Explanation:\n",
    "\n",
    "As per https://docs.python.org/2/reference/expressions.html#not-in\n",
    "\n",
    "> Formally, if a, b, c, ..., y, z are expressions and op1, op2, ..., opN are comparison operators, then a op1 b op2 c ... y opN z is equivalent to a op1 b and b op2 c and ... y opN z, except that each expression is evaluated at most once.\n",
    "\n",
    "While such behavior might seem silly to you in the above examples, it's fantastic with stuff like `a == b == c` and `0 <= x <= 100`.\n",
    "\n",
    "* `False is False is False` is equivalent to `(False is False) and (False is False)`\n",
    "* `True is False == False` is equivalent to `True is False and False == False` and since the first part of the statement (`True is False`) evaluates to `False`, the overall expression evaluates to `False`.\n",
    "* `1 > 0 < 1` is equivalent to `1 > 0 and 0 < 1` which evaluates to `True`.\n",
    "* The expression `(1 > 0) < 1` is equivalent to `True < 1` and\n",
    "  ```py\n",
    "  >>> int(True)\n",
    "  1\n",
    "  >>> True + 1 #not relevant for this example, but just for fun\n",
    "  2\n",
    "  ```\n",
    "  So, `1 < 1` evaluates to `False`\n",
    "\n",
    "---"
   ]
  },
  {
   "cell_type": "markdown",
   "metadata": {},
   "source": [
    "### ▶ Name resolution ignoring class scope\n",
    "\n",
    "## 1)"
   ]
  },
  {
   "cell_type": "code",
   "execution_count": 205,
   "metadata": {
    "attributes": {
     "classes": [
      "py"
     ],
     "id": ""
    }
   },
   "outputs": [],
   "source": [
    "x = 5\n",
    "class SomeClass:\n",
    "    x = 17\n",
    "    y = (x for i in range(10))"
   ]
  },
  {
   "cell_type": "markdown",
   "metadata": {},
   "source": [
    "**Output:**"
   ]
  },
  {
   "cell_type": "code",
   "execution_count": 206,
   "metadata": {
    "attributes": {
     "classes": [
      "py"
     ],
     "id": ""
    }
   },
   "outputs": [
    {
     "data": {
      "text/plain": [
       "5"
      ]
     },
     "execution_count": 206,
     "metadata": {},
     "output_type": "execute_result"
    }
   ],
   "source": [
    "list(SomeClass.y)[0]"
   ]
  },
  {
   "cell_type": "markdown",
   "metadata": {},
   "source": [
    "## 2)"
   ]
  },
  {
   "cell_type": "code",
   "execution_count": 207,
   "metadata": {
    "attributes": {
     "classes": [
      "py"
     ],
     "id": ""
    }
   },
   "outputs": [],
   "source": [
    "x = 5\n",
    "class SomeClass:\n",
    "    x = 17\n",
    "    y = [x for i in range(10)]"
   ]
  },
  {
   "cell_type": "markdown",
   "metadata": {},
   "source": [
    "**Output (Python 2.x):**"
   ]
  },
  {
   "cell_type": "code",
   "execution_count": null,
   "metadata": {
    "attributes": {
     "classes": [
      "py"
     ],
     "id": ""
    }
   },
   "outputs": [],
   "source": [
    ">>> SomeClass.y[0]\n",
    "17"
   ]
  },
  {
   "cell_type": "markdown",
   "metadata": {},
   "source": [
    "**Output (Python 3.x):**"
   ]
  },
  {
   "cell_type": "code",
   "execution_count": 208,
   "metadata": {
    "attributes": {
     "classes": [
      "py"
     ],
     "id": ""
    }
   },
   "outputs": [
    {
     "data": {
      "text/plain": [
       "5"
      ]
     },
     "execution_count": 208,
     "metadata": {},
     "output_type": "execute_result"
    }
   ],
   "source": [
    "SomeClass.y[0]"
   ]
  },
  {
   "cell_type": "markdown",
   "metadata": {},
   "source": [
    "#### 💡 Explanation\n",
    "- Scopes nested inside class definition ignore names bound at the class level.\n",
    "- A generator expression has its own scope.\n",
    "- Starting from Python 3.X, list comprehensions also have their own scope.\n",
    "\n",
    "---"
   ]
  },
  {
   "cell_type": "markdown",
   "metadata": {},
   "source": [
    "### ▶ Needle in a Haystack\n",
    "\n",
    "## 1)"
   ]
  },
  {
   "cell_type": "code",
   "execution_count": 209,
   "metadata": {
    "attributes": {
     "classes": [
      "py"
     ],
     "id": ""
    }
   },
   "outputs": [],
   "source": [
    "x, y = (0, 1) if True else None, None"
   ]
  },
  {
   "cell_type": "markdown",
   "metadata": {},
   "source": [
    "**Output:**"
   ]
  },
  {
   "cell_type": "code",
   "execution_count": 210,
   "metadata": {},
   "outputs": [
    {
     "data": {
      "text/plain": [
       "((0, 1), None)"
      ]
     },
     "execution_count": 210,
     "metadata": {},
     "output_type": "execute_result"
    }
   ],
   "source": [
    "x, y  # expected (0, 1)"
   ]
  },
  {
   "cell_type": "markdown",
   "metadata": {},
   "source": [
    "Almost every Python programmer has faced a similar situation.\n",
    "\n",
    "## 2)"
   ]
  },
  {
   "cell_type": "code",
   "execution_count": 211,
   "metadata": {
    "attributes": {
     "classes": [
      "py"
     ],
     "id": ""
    }
   },
   "outputs": [
    {
     "name": "stdout",
     "output_type": "stream",
     "text": [
      "one\n",
      "two\n",
      "o\n",
      "n\n",
      "e\n",
      "()\n"
     ]
    }
   ],
   "source": [
    "t = ('one', 'two')\n",
    "for i in t:\n",
    "    print(i)\n",
    "\n",
    "t = ('one')\n",
    "for i in t:\n",
    "    print(i)\n",
    "\n",
    "t = ()\n",
    "print(t)"
   ]
  },
  {
   "cell_type": "markdown",
   "metadata": {},
   "source": [
    "**Output:**"
   ]
  },
  {
   "cell_type": "code",
   "execution_count": null,
   "metadata": {
    "attributes": {
     "classes": [
      "py"
     ],
     "id": ""
    }
   },
   "outputs": [],
   "source": [
    "one\n",
    "two\n",
    "o\n",
    "n\n",
    "e\n",
    "tuple()"
   ]
  },
  {
   "cell_type": "markdown",
   "metadata": {},
   "source": [
    "#### 💡 Explanation:\n",
    "* For 1, the correct statement for expected behavior is `x, y = (0, 1) if True else (None, None)`.\n",
    "* For 2, the correct statement for expected behavior is `t = ('one',)` or `t = 'one',` (missing comma) otherwise the interpreter considers `t` to be a `str` and iterates over it character by character.\n",
    "* `()` is a special token and denotes empty `tuple`.\n",
    "\n",
    "---\n",
    "\n",
    "---\n"
   ]
  },
  {
   "cell_type": "markdown",
   "metadata": {},
   "source": [
    "## Section: The Hidden treasures!\n",
    "\n",
    "This section contains few of the lesser-known interesting things about Python that most beginners like me are unaware of (well, not anymore).\n",
    "\n",
    "### ▶ Okay Python, Can you make me fly? *\n",
    "\n",
    "Well, here you go"
   ]
  },
  {
   "cell_type": "code",
   "execution_count": 212,
   "metadata": {
    "attributes": {
     "classes": [
      "py"
     ],
     "id": ""
    }
   },
   "outputs": [],
   "source": [
    "import antigravity"
   ]
  },
  {
   "cell_type": "markdown",
   "metadata": {},
   "source": [
    "**Output:**\n",
    "Sshh.. It's a super secret.\n",
    "\n",
    "#### 💡 Explanation:\n",
    "+ `antigravity` module is one of the few easter eggs released by Python developers.\n",
    "+ `import antigravity` opens up a web browser pointing to the [classic XKCD comic](http://xkcd.com/353/) about Python.\n",
    "+ Well, there's more to it. There's **another easter egg inside the easter egg**. If you look at the [code](https://github.com/python/cpython/blob/master/Lib/antigravity.py#L7-L17), there's a function defined that purports to implement the [XKCD's geohashing algorithm](https://xkcd.com/426/).\n",
    "\n",
    "---"
   ]
  },
  {
   "cell_type": "markdown",
   "metadata": {},
   "source": [
    "### ▶ `goto`, but why? *"
   ]
  },
  {
   "cell_type": "code",
   "execution_count": null,
   "metadata": {
    "attributes": {
     "classes": [
      "py"
     ],
     "id": ""
    }
   },
   "outputs": [],
   "source": [
    "from goto import goto, label\n",
    "for i in range(9):\n",
    "    for j in range(9):\n",
    "        for k in range(9):\n",
    "            print(\"I'm trapped, please rescue!\")\n",
    "            if k == 2:\n",
    "                goto .breakout # breaking out from a deeply nested loop\n",
    "label .breakout\n",
    "print(\"Freedom!\")"
   ]
  },
  {
   "cell_type": "markdown",
   "metadata": {},
   "source": [
    "**Output (Python 2.3):**"
   ]
  },
  {
   "cell_type": "code",
   "execution_count": null,
   "metadata": {
    "attributes": {
     "classes": [
      "py"
     ],
     "id": ""
    }
   },
   "outputs": [],
   "source": [
    "I'm trapped, please rescue!\n",
    "I'm trapped, please rescue!\n",
    "Freedom!"
   ]
  },
  {
   "cell_type": "markdown",
   "metadata": {},
   "source": [
    "#### 💡 Explanation:\n",
    "- A working version of `goto` in Python was [announced](https://mail.python.org/pipermail/python-announce-list/2004-April/002982.html) as an April Fool's joke on 1st April 2004.\n",
    "- Current versions of Python do not have this module.\n",
    "- Although it works, but please don't use it. Here's the [reason](https://docs.python.org/3/faq/design.html#why-is-there-no-goto) to why `goto` is not present in Python.\n",
    "\n",
    "---"
   ]
  },
  {
   "cell_type": "markdown",
   "metadata": {},
   "source": [
    "### ▶ Brace yourself! *\n",
    "\n",
    "If you are one of the people who doesn't like using whitespace in Python to denote scopes, you can use the C-style {} by importing,"
   ]
  },
  {
   "cell_type": "code",
   "execution_count": null,
   "metadata": {
    "attributes": {
     "classes": [
      "py"
     ],
     "id": ""
    }
   },
   "outputs": [],
   "source": [
    "from __future__ import braces"
   ]
  },
  {
   "cell_type": "markdown",
   "metadata": {},
   "source": [
    "**Output:**"
   ]
  },
  {
   "cell_type": "code",
   "execution_count": null,
   "metadata": {
    "attributes": {
     "classes": [
      "py"
     ],
     "id": ""
    }
   },
   "outputs": [],
   "source": [
    "  File \"some_file.py\", line 1\n",
    "    from __future__ import braces\n",
    "SyntaxError: not a chance"
   ]
  },
  {
   "cell_type": "markdown",
   "metadata": {},
   "source": [
    "Braces? No way! If you think that's disappointing, use Java.\n",
    "\n",
    "#### 💡 Explanation:\n",
    "+ The `__future__` module is normally used to provide features from future versions of Python. The \"future\" here is however ironic.\n",
    "+ This is an easter egg concerned with the community's feelings on this issue.\n",
    "\n",
    "---"
   ]
  },
  {
   "cell_type": "markdown",
   "metadata": {},
   "source": [
    "### ▶ Let's meet Friendly Language Uncle For Life *\n",
    "\n",
    "**Output (Python 3.x)**"
   ]
  },
  {
   "cell_type": "code",
   "execution_count": 215,
   "metadata": {
    "attributes": {
     "classes": [
      "py"
     ],
     "id": ""
    }
   },
   "outputs": [
    {
     "data": {
      "text/plain": [
       "True"
      ]
     },
     "execution_count": 215,
     "metadata": {},
     "output_type": "execute_result"
    }
   ],
   "source": [
    "from __future__ import barry_as_FLUFL\n",
    "\"Ruby\" != \"Python\" # there's no doubt about it"
   ]
  },
  {
   "cell_type": "code",
   "execution_count": 216,
   "metadata": {},
   "outputs": [
    {
     "data": {
      "text/plain": [
       "True"
      ]
     },
     "execution_count": 216,
     "metadata": {},
     "output_type": "execute_result"
    }
   ],
   "source": [
    "\"Ruby\" <> \"Python\""
   ]
  },
  {
   "cell_type": "markdown",
   "metadata": {},
   "source": [
    "There we go.\n",
    "\n",
    "#### 💡 Explanation:\n",
    "- This is relevant to [PEP-401](https://www.python.org/dev/peps/pep-0401/) released on April 1, 2009 (now you know, what it means).\n",
    "- Quoting from the PEP-401\n",
    "  > Recognized that the != inequality operator in Python 3.0 was a horrible, finger pain inducing mistake, the FLUFL reinstates the <> diamond operator as the sole spelling.\n",
    "- There were more things that Uncle Barry had to share in the PEP; you can read them [here](https://www.python.org/dev/peps/pep-0401/).\n",
    "\n",
    "---"
   ]
  },
  {
   "cell_type": "markdown",
   "metadata": {},
   "source": [
    "### ▶ Even Python understands that love is complicated *"
   ]
  },
  {
   "cell_type": "code",
   "execution_count": null,
   "metadata": {
    "attributes": {
     "classes": [
      "py"
     ],
     "id": ""
    }
   },
   "outputs": [],
   "source": [
    "import this"
   ]
  },
  {
   "cell_type": "markdown",
   "metadata": {},
   "source": [
    "Wait, what's **this**? `this` is love :heart:\n",
    "\n",
    "**Output:**"
   ]
  },
  {
   "cell_type": "code",
   "execution_count": null,
   "metadata": {},
   "outputs": [],
   "source": [
    "The Zen of Python, by Tim Peters\n",
    "\n",
    "Beautiful is better than ugly.\n",
    "Explicit is better than implicit.\n",
    "Simple is better than complex.\n",
    "Complex is better than complicated.\n",
    "Flat is better than nested.\n",
    "Sparse is better than dense.\n",
    "Readability counts.\n",
    "Special cases aren't special enough to break the rules.\n",
    "Although practicality beats purity.\n",
    "Errors should never pass silently.\n",
    "Unless explicitly silenced.\n",
    "In the face of ambiguity, refuse the temptation to guess.\n",
    "There should be one-- and preferably only one --obvious way to do it.\n",
    "Although that way may not be obvious at first unless you're Dutch.\n",
    "Now is better than never.\n",
    "Although never is often better than *right* now.\n",
    "If the implementation is hard to explain, it's a bad idea.\n",
    "If the implementation is easy to explain, it may be a good idea.\n",
    "Namespaces are one honking great idea -- let's do more of those!"
   ]
  },
  {
   "cell_type": "markdown",
   "metadata": {},
   "source": [
    "It's the Zen of Python!"
   ]
  },
  {
   "cell_type": "code",
   "execution_count": 218,
   "metadata": {
    "attributes": {
     "classes": [
      "py"
     ],
     "id": ""
    }
   },
   "outputs": [
    {
     "data": {
      "text/plain": [
       "True"
      ]
     },
     "execution_count": 218,
     "metadata": {},
     "output_type": "execute_result"
    }
   ],
   "source": [
    "love = this\n",
    "this is love"
   ]
  },
  {
   "cell_type": "code",
   "execution_count": 219,
   "metadata": {},
   "outputs": [
    {
     "data": {
      "text/plain": [
       "False"
      ]
     },
     "execution_count": 219,
     "metadata": {},
     "output_type": "execute_result"
    }
   ],
   "source": [
    "love is True"
   ]
  },
  {
   "cell_type": "code",
   "execution_count": 220,
   "metadata": {},
   "outputs": [
    {
     "data": {
      "text/plain": [
       "False"
      ]
     },
     "execution_count": 220,
     "metadata": {},
     "output_type": "execute_result"
    }
   ],
   "source": [
    "love is False"
   ]
  },
  {
   "cell_type": "code",
   "execution_count": 221,
   "metadata": {},
   "outputs": [
    {
     "data": {
      "text/plain": [
       "True"
      ]
     },
     "execution_count": 221,
     "metadata": {},
     "output_type": "execute_result"
    }
   ],
   "source": [
    "love is not True or False"
   ]
  },
  {
   "cell_type": "code",
   "execution_count": 222,
   "metadata": {},
   "outputs": [
    {
     "data": {
      "text/plain": [
       "True"
      ]
     },
     "execution_count": 222,
     "metadata": {},
     "output_type": "execute_result"
    }
   ],
   "source": [
    "love is not True or False; love is love  # Love is complicated"
   ]
  },
  {
   "cell_type": "markdown",
   "metadata": {},
   "source": [
    "#### 💡 Explanation:\n",
    "\n",
    "* `this` module in Python is an easter egg for The Zen Of Python ([PEP 20](https://www.python.org/dev/peps/pep-0020)).\n",
    "* And if you think that's already interesting enough, check out the implementation of [this.py](https://hg.python.org/cpython/file/c3896275c0f6/Lib/this.py). Interestingly, the code for the Zen violates itself (and that's probably the only place where this happens).\n",
    "* Regarding the statement `love is not True or False; love is love`, ironic but it's self-explanatory.\n",
    "\n",
    "---"
   ]
  },
  {
   "cell_type": "markdown",
   "metadata": {},
   "source": [
    "### ▶ Yes, it exists!\n",
    "\n",
    "**The `else` clause for loops.** One typical example might be:"
   ]
  },
  {
   "cell_type": "code",
   "execution_count": 223,
   "metadata": {
    "attributes": {
     "classes": [
      "py"
     ],
     "id": ""
    }
   },
   "outputs": [],
   "source": [
    "def does_exists_num(l, to_find):\n",
    "    for num in l:\n",
    "        if num == to_find:\n",
    "            print(\"Exists!\")\n",
    "            break\n",
    "    else:\n",
    "        print(\"Does not exist\")"
   ]
  },
  {
   "cell_type": "markdown",
   "metadata": {},
   "source": [
    "**Output:**"
   ]
  },
  {
   "cell_type": "code",
   "execution_count": 224,
   "metadata": {
    "attributes": {
     "classes": [
      "py"
     ],
     "id": ""
    }
   },
   "outputs": [
    {
     "name": "stdout",
     "output_type": "stream",
     "text": [
      "Exists!\n"
     ]
    }
   ],
   "source": [
    "some_list = [1, 2, 3, 4, 5]\n",
    "does_exists_num(some_list, 4)"
   ]
  },
  {
   "cell_type": "code",
   "execution_count": 225,
   "metadata": {},
   "outputs": [
    {
     "name": "stdout",
     "output_type": "stream",
     "text": [
      "Does not exist\n"
     ]
    }
   ],
   "source": [
    "does_exists_num(some_list, -1)"
   ]
  },
  {
   "cell_type": "markdown",
   "metadata": {},
   "source": [
    "**The `else` clause in exception handling.** An example,"
   ]
  },
  {
   "cell_type": "code",
   "execution_count": 226,
   "metadata": {
    "attributes": {
     "classes": [
      "py"
     ],
     "id": ""
    }
   },
   "outputs": [
    {
     "name": "stdout",
     "output_type": "stream",
     "text": [
      "Try block executed successfully...\n"
     ]
    }
   ],
   "source": [
    "try:\n",
    "    pass\n",
    "except:\n",
    "    print(\"Exception occurred!!!\")\n",
    "else:\n",
    "    print(\"Try block executed successfully...\")"
   ]
  },
  {
   "cell_type": "markdown",
   "metadata": {},
   "source": [
    "**Output:**"
   ]
  },
  {
   "cell_type": "markdown",
   "metadata": {
    "attributes": {
     "classes": [
      "py"
     ],
     "id": ""
    }
   },
   "source": [
    "Try block executed successfully..."
   ]
  },
  {
   "cell_type": "markdown",
   "metadata": {},
   "source": [
    "#### 💡 Explanation:\n",
    "- The `else` clause after a loop is executed only when there's no explicit `break` after all the iterations.\n",
    "- `else` clause after try block is also called \"completion clause\" as reaching the `else` clause in a `try` statement means that the try block actually completed successfully.\n",
    "\n",
    "---"
   ]
  },
  {
   "cell_type": "markdown",
   "metadata": {},
   "source": [
    "### ▶ Inpinity *\n",
    "\n",
    "The spelling is intended. Please, don't submit a patch for this.\n",
    "\n",
    "**Output (Python 3.x):**"
   ]
  },
  {
   "cell_type": "code",
   "execution_count": 228,
   "metadata": {
    "attributes": {
     "classes": [
      "py"
     ],
     "id": ""
    }
   },
   "outputs": [
    {
     "data": {
      "text/plain": [
       "314159"
      ]
     },
     "execution_count": 228,
     "metadata": {},
     "output_type": "execute_result"
    }
   ],
   "source": [
    "infinity = float('infinity')\n",
    "hash(infinity)"
   ]
  },
  {
   "cell_type": "code",
   "execution_count": 229,
   "metadata": {},
   "outputs": [
    {
     "data": {
      "text/plain": [
       "-314159"
      ]
     },
     "execution_count": 229,
     "metadata": {},
     "output_type": "execute_result"
    }
   ],
   "source": [
    "hash(float('-inf'))"
   ]
  },
  {
   "cell_type": "markdown",
   "metadata": {},
   "source": [
    "#### 💡 Explanation:\n",
    "- Hash of infinity is 10⁵ x π.\n",
    "- Interestingly, the hash of `float('-inf')` is \"-10⁵ x π\" in Python 3, whereas \"-10⁵ x e\" in Python 2.\n",
    "\n",
    "---"
   ]
  },
  {
   "cell_type": "markdown",
   "metadata": {},
   "source": [
    "### ▶ Mangling time! *"
   ]
  },
  {
   "cell_type": "code",
   "execution_count": 230,
   "metadata": {
    "attributes": {
     "classes": [
      "py"
     ],
     "id": ""
    }
   },
   "outputs": [],
   "source": [
    "class Yo(object):\n",
    "    def __init__(self):\n",
    "        self.__honey = True\n",
    "        self.bitch = True"
   ]
  },
  {
   "cell_type": "markdown",
   "metadata": {},
   "source": [
    "**Output:**"
   ]
  },
  {
   "cell_type": "code",
   "execution_count": 231,
   "metadata": {
    "attributes": {
     "classes": [
      "py"
     ],
     "id": ""
    }
   },
   "outputs": [
    {
     "data": {
      "text/plain": [
       "True"
      ]
     },
     "execution_count": 231,
     "metadata": {},
     "output_type": "execute_result"
    }
   ],
   "source": [
    "Yo().bitch"
   ]
  },
  {
   "cell_type": "code",
   "execution_count": 232,
   "metadata": {},
   "outputs": [
    {
     "ename": "AttributeError",
     "evalue": "'Yo' object has no attribute '__honey'",
     "output_type": "error",
     "traceback": [
      "\u001b[0;31m---------------------------------------------------------------------------\u001b[0m",
      "\u001b[0;31mAttributeError\u001b[0m                            Traceback (most recent call last)",
      "\u001b[0;32m<ipython-input-232-1ab4f388a348>\u001b[0m in \u001b[0;36m<module>\u001b[0;34m\u001b[0m\n\u001b[0;32m----> 1\u001b[0;31m \u001b[0mYo\u001b[0m\u001b[0;34m(\u001b[0m\u001b[0;34m)\u001b[0m\u001b[0;34m.\u001b[0m\u001b[0m__honey\u001b[0m\u001b[0;34m\u001b[0m\u001b[0m\n\u001b[0m",
      "\u001b[0;31mAttributeError\u001b[0m: 'Yo' object has no attribute '__honey'"
     ]
    }
   ],
   "source": [
    "Yo().__honey"
   ]
  },
  {
   "cell_type": "code",
   "execution_count": 233,
   "metadata": {},
   "outputs": [
    {
     "data": {
      "text/plain": [
       "True"
      ]
     },
     "execution_count": 233,
     "metadata": {},
     "output_type": "execute_result"
    }
   ],
   "source": [
    "Yo()._Yo__honey"
   ]
  },
  {
   "cell_type": "markdown",
   "metadata": {},
   "source": [
    "Why did `Yo()._Yo__honey` work? Only Indian readers would understand.\n",
    "\n",
    "#### 💡 Explanation:\n",
    "\n",
    "* [Name Mangling](https://en.wikipedia.org/wiki/Name_mangling) is used to avoid naming collisions between different namespaces.\n",
    "* In Python, the interpreter modifies (mangles) the class member names starting with `__` (double underscore) and not ending with more than one trailing underscore by adding `_NameOfTheClass` in front.\n",
    "* So, to access `__honey` attribute, we are required to append `_Yo` to the front which would prevent conflicts with the same name attribute defined in any other class.\n",
    "\n",
    "---\n",
    "\n",
    "---"
   ]
  },
  {
   "cell_type": "markdown",
   "metadata": {},
   "source": [
    "## Section: Miscellaneous\n",
    "\n",
    "\n",
    "### ▶ `+=` is faster"
   ]
  },
  {
   "cell_type": "code",
   "execution_count": 235,
   "metadata": {
    "attributes": {
     "classes": [
      "py"
     ],
     "id": ""
    }
   },
   "outputs": [
    {
     "data": {
      "text/plain": [
       "1.2024240060709417"
      ]
     },
     "execution_count": 235,
     "metadata": {},
     "output_type": "execute_result"
    }
   ],
   "source": [
    "# using \"+\", three strings:\n",
    "import timeit\n",
    "timeit.timeit(\"s1 = s1 + s2 + s3\", setup=\"s1 = ' ' * 100000; s2 = ' ' * 100000; s3 = ' ' * 100000\", number=100)"
   ]
  },
  {
   "cell_type": "code",
   "execution_count": 236,
   "metadata": {},
   "outputs": [
    {
     "data": {
      "text/plain": [
       "0.010285468073561788"
      ]
     },
     "execution_count": 236,
     "metadata": {},
     "output_type": "execute_result"
    }
   ],
   "source": [
    "# using \"+=\", three strings:\n",
    "timeit.timeit(\"s1 += s2 + s3\", setup=\"s1 = ' ' * 100000; s2 = ' ' * 100000; s3 = ' ' * 100000\", number=100)"
   ]
  },
  {
   "cell_type": "markdown",
   "metadata": {},
   "source": [
    "#### 💡 Explanation:\n",
    "+ `+=` is faster than `+` for concatenating more than two strings because the first string (example, `s1` for `s1 += s2 + s3`) is not destroyed while calculating the complete string.\n",
    "\n",
    "---"
   ]
  },
  {
   "cell_type": "markdown",
   "metadata": {},
   "source": [
    "### ▶ Let's make a giant string!"
   ]
  },
  {
   "cell_type": "code",
   "execution_count": 237,
   "metadata": {
    "attributes": {
     "classes": [
      "py"
     ],
     "id": ""
    }
   },
   "outputs": [],
   "source": [
    "def add_string_with_plus(iters):\n",
    "    s = \"\"\n",
    "    for i in range(iters):\n",
    "        s += \"xyz\"\n",
    "    assert len(s) == 3*iters\n",
    "\n",
    "def add_bytes_with_plus(iters):\n",
    "    s = b\"\"\n",
    "    for i in range(iters):\n",
    "        s += b\"xyz\"\n",
    "    assert len(s) == 3*iters\n",
    "\n",
    "def add_string_with_format(iters):\n",
    "    fs = \"{}\"*iters\n",
    "    s = fs.format(*([\"xyz\"]*iters))\n",
    "    assert len(s) == 3*iters\n",
    "\n",
    "def add_string_with_join(iters):\n",
    "    l = []\n",
    "    for i in range(iters):\n",
    "        l.append(\"xyz\")\n",
    "    s = \"\".join(l)\n",
    "    assert len(s) == 3*iters\n",
    "\n",
    "def convert_list_to_string(l, iters):\n",
    "    s = \"\".join(l)\n",
    "    assert len(s) == 3*iters"
   ]
  },
  {
   "cell_type": "markdown",
   "metadata": {},
   "source": [
    "**Output:**"
   ]
  },
  {
   "cell_type": "code",
   "execution_count": 239,
   "metadata": {},
   "outputs": [],
   "source": [
    "from timeit import timeit"
   ]
  },
  {
   "cell_type": "code",
   "execution_count": null,
   "metadata": {
    "attributes": {
     "classes": [
      "py"
     ],
     "id": ""
    }
   },
   "outputs": [],
   "source": [
    ">>> timeit(add_string_with_plus(10000))\n",
    "1000 loops, best of 3: 972 µs per loop\n",
    ">>> timeit(add_bytes_with_plus(10000))\n",
    "1000 loops, best of 3: 815 µs per loop\n",
    ">>> timeit(add_string_with_format(10000))\n",
    "1000 loops, best of 3: 508 µs per loop\n",
    ">>> timeit(add_string_with_join(10000))\n",
    "1000 loops, best of 3: 878 µs per loop\n",
    ">>> l = [\"xyz\"]*10000\n",
    ">>> timeit(convert_list_to_string(l, 10000))\n",
    "10000 loops, best of 3: 80 µs per loop"
   ]
  },
  {
   "cell_type": "markdown",
   "metadata": {},
   "source": [
    "Let's increase the number of iterations by a factor of 10."
   ]
  },
  {
   "cell_type": "code",
   "execution_count": null,
   "metadata": {
    "attributes": {
     "classes": [
      "py"
     ],
     "id": ""
    }
   },
   "outputs": [],
   "source": [
    ">>> timeit(add_string_with_plus(100000)) # Linear increase in execution time\n",
    "100 loops, best of 3: 9.75 ms per loop\n",
    ">>> timeit(add_bytes_with_plus(100000)) # Quadratic increase\n",
    "1000 loops, best of 3: 974 ms per loop\n",
    ">>> timeit(add_string_with_format(100000)) # Linear increase\n",
    "100 loops, best of 3: 5.25 ms per loop\n",
    ">>> timeit(add_string_with_join(100000)) # Linear increase\n",
    "100 loops, best of 3: 9.85 ms per loop\n",
    ">>> l = [\"xyz\"]*100000\n",
    ">>> timeit(convert_list_to_string(l, 100000)) # Linear increase\n",
    "1000 loops, best of 3: 723 µs per loop"
   ]
  },
  {
   "cell_type": "markdown",
   "metadata": {},
   "source": [
    "#### 💡 Explanation\n",
    "- You can read more about [timeit](https://docs.python.org/3/library/timeit.html) from here. It is generally used to measure the execution time of snippets.\n",
    "- Don't use `+` for generating long strings — In Python, `str` is immutable, so the left and right strings have to be copied into the new string for every pair of concatenations. If you concatenate four strings of length 10, you'll be copying (10+10) + ((10+10)+10) + (((10+10)+10)+10) = 90 characters instead of just 40 characters. Things get quadratically worse as the number and size of the string increases (justified with the execution times of `add_bytes_with_plus` function)\n",
    "- Therefore, it's advised to use `.format.` or `%` syntax (however, they are slightly slower than `+` for short strings).\n",
    "- Or better, if already you've contents available in the form of an iterable object, then use `''.join(iterable_object)` which is much faster.\n",
    "- `add_string_with_plus` didn't show a quadratic increase in execution time unlike `add_bytes_with_plus` because of the `+=` optimizations discussed in the previous example. Had the statement been `s = s + \"x\" + \"y\" + \"z\"` instead of `s += \"xyz\"`, the increase would have been quadratic.\n",
    "  ```py\n",
    "  def add_string_with_plus(iters):\n",
    "      s = \"\"\n",
    "      for i in range(iters):\n",
    "          s = s + \"x\" + \"y\" + \"z\"\n",
    "      assert len(s) == 3*iters\n",
    "\n",
    "  >>> timeit(add_string_with_plus(10000))\n",
    "  100 loops, best of 3: 9.87 ms per loop\n",
    "  >>> timeit(add_string_with_plus(100000)) # Quadratic increase in execution time\n",
    "  1 loops, best of 3: 1.09 s per loop\n",
    "  ```\n",
    "\n",
    "---"
   ]
  },
  {
   "cell_type": "markdown",
   "metadata": {},
   "source": [
    "### ▶ Explicit typecast of strings"
   ]
  },
  {
   "cell_type": "code",
   "execution_count": 242,
   "metadata": {
    "attributes": {
     "classes": [
      "py"
     ],
     "id": ""
    }
   },
   "outputs": [],
   "source": [
    "a = float('inf')\n",
    "b = float('nan')\n",
    "c = float('-iNf')  #These strings are case-insensitive\n",
    "d = float('nan')"
   ]
  },
  {
   "cell_type": "markdown",
   "metadata": {},
   "source": [
    "**Output:**"
   ]
  },
  {
   "cell_type": "code",
   "execution_count": 243,
   "metadata": {
    "attributes": {
     "classes": [
      "py"
     ],
     "id": ""
    }
   },
   "outputs": [
    {
     "data": {
      "text/plain": [
       "inf"
      ]
     },
     "execution_count": 243,
     "metadata": {},
     "output_type": "execute_result"
    }
   ],
   "source": [
    "a"
   ]
  },
  {
   "cell_type": "code",
   "execution_count": 244,
   "metadata": {},
   "outputs": [
    {
     "data": {
      "text/plain": [
       "nan"
      ]
     },
     "execution_count": 244,
     "metadata": {},
     "output_type": "execute_result"
    }
   ],
   "source": [
    "b"
   ]
  },
  {
   "cell_type": "code",
   "execution_count": 245,
   "metadata": {},
   "outputs": [
    {
     "data": {
      "text/plain": [
       "-inf"
      ]
     },
     "execution_count": 245,
     "metadata": {},
     "output_type": "execute_result"
    }
   ],
   "source": [
    "c"
   ]
  },
  {
   "cell_type": "code",
   "execution_count": 246,
   "metadata": {},
   "outputs": [
    {
     "ename": "ValueError",
     "evalue": "could not convert string to float: 'some_other_string'",
     "output_type": "error",
     "traceback": [
      "\u001b[0;31m---------------------------------------------------------------------------\u001b[0m",
      "\u001b[0;31mValueError\u001b[0m                                Traceback (most recent call last)",
      "\u001b[0;32m<ipython-input-246-651c7ba7eacc>\u001b[0m in \u001b[0;36m<module>\u001b[0;34m\u001b[0m\n\u001b[0;32m----> 1\u001b[0;31m \u001b[0mfloat\u001b[0m\u001b[0;34m(\u001b[0m\u001b[0;34m'some_other_string'\u001b[0m\u001b[0;34m)\u001b[0m\u001b[0;34m\u001b[0m\u001b[0m\n\u001b[0m",
      "\u001b[0;31mValueError\u001b[0m: could not convert string to float: 'some_other_string'"
     ]
    }
   ],
   "source": [
    "float('some_other_string')"
   ]
  },
  {
   "cell_type": "code",
   "execution_count": 247,
   "metadata": {},
   "outputs": [
    {
     "data": {
      "text/plain": [
       "True"
      ]
     },
     "execution_count": 247,
     "metadata": {},
     "output_type": "execute_result"
    }
   ],
   "source": [
    "a == -c #inf==inf"
   ]
  },
  {
   "cell_type": "code",
   "execution_count": 248,
   "metadata": {},
   "outputs": [
    {
     "data": {
      "text/plain": [
       "True"
      ]
     },
     "execution_count": 248,
     "metadata": {},
     "output_type": "execute_result"
    }
   ],
   "source": [
    "None == None # None==None"
   ]
  },
  {
   "cell_type": "code",
   "execution_count": 249,
   "metadata": {},
   "outputs": [
    {
     "data": {
      "text/plain": [
       "False"
      ]
     },
     "execution_count": 249,
     "metadata": {},
     "output_type": "execute_result"
    }
   ],
   "source": [
    "b == d #but nan!=nan"
   ]
  },
  {
   "cell_type": "code",
   "execution_count": 250,
   "metadata": {},
   "outputs": [
    {
     "data": {
      "text/plain": [
       "0.0"
      ]
     },
     "execution_count": 250,
     "metadata": {},
     "output_type": "execute_result"
    }
   ],
   "source": [
    "50 / a"
   ]
  },
  {
   "cell_type": "code",
   "execution_count": 251,
   "metadata": {},
   "outputs": [
    {
     "data": {
      "text/plain": [
       "nan"
      ]
     },
     "execution_count": 251,
     "metadata": {},
     "output_type": "execute_result"
    }
   ],
   "source": [
    "a / a"
   ]
  },
  {
   "cell_type": "code",
   "execution_count": 252,
   "metadata": {},
   "outputs": [
    {
     "data": {
      "text/plain": [
       "nan"
      ]
     },
     "execution_count": 252,
     "metadata": {},
     "output_type": "execute_result"
    }
   ],
   "source": [
    "23 + b"
   ]
  },
  {
   "cell_type": "markdown",
   "metadata": {},
   "source": [
    "#### 💡 Explanation:\n",
    "\n",
    "`'inf'` and `'nan'` are special strings (case-insensitive), which when explicitly typecasted to `float` type, are used to represent mathematical \"infinity\" and \"not a number\" respectively.\n",
    "\n",
    "---\n",
    "\n",
    "### ▶ Minor Ones\n",
    "\n",
    "* `join()` is a string operation instead of list operation. (sort of counter-intuitive at first usage)\n",
    "\n",
    "  **💡 Explanation:**\n",
    "  If `join()` is a method on a string then it can operate on any iterable (list, tuple, iterators). If it were a method on a list, it'd have to be implemented separately by every type. Also, it doesn't make much sense to put a string-specific method on a generic `list` object API.\n",
    "\n",
    "* Few weird looking but semantically correct statements:\n",
    "  + `[] = ()` is a semantically correct statement (unpacking an empty `tuple` into an empty `list`)\n",
    "  + `'a'[0][0][0][0][0]` is also a semantically correct statement as strings are [sequences](https://docs.python.org/3/glossary.html#term-sequence)(iterables supporting element access using integer indices) in Python.\n",
    "  + `3 --0-- 5 == 8` and `--5 == 5` are both semantically correct statements and evaluate to `True`.\n",
    "\n",
    "* Given that `a` is a number, `++a` and `--a` are both valid Python statements but don't behave the same way as compared with similar statements in languages like C, C++ or Java.\n",
    "  ```py\n",
    "  >>> a = 5\n",
    "  >>> a\n",
    "  5\n",
    "  >>> ++a\n",
    "  5\n",
    "  >>> --a\n",
    "  5\n",
    "  ```\n",
    "\n",
    "  **💡 Explanation:**\n",
    "  + There is no `++` operator in Python grammar. It is actually two `+` operators.\n",
    "  + `++a` parses as `+(+a)` which translates to `a`. Similarly, the output of the statement `--a` can be justified.\n",
    "  + This StackOverflow [thread](https://stackoverflow.com/questions/3654830/why-are-there-no-and-operators-in-python) discusses the rationale behind the absence of increment and decrement operators in Python.\n",
    "\n",
    "* Python uses 2 bytes for local variable storage in functions. In theory, this means that only 65536 variables can be defined in a function. However, python has a handy solution built in that can be used to store more than 2^16 variable names. The following code demonstrates what happens in the stack when more than 65536 local variables are defined (Warning: This code prints around 2^18 lines of text, so be prepared!):\n",
    "     ```py\n",
    "     import dis\n",
    "     exec(\"\"\"\n",
    "     def f():\n",
    "         \"\"\" + \"\"\"\n",
    "         \"\"\".join([\"X\"+str(x)+\"=\" + str(x) for x in range(65539)]))"
   ]
  },
  {
   "cell_type": "code",
   "execution_count": null,
   "metadata": {},
   "outputs": [],
   "source": [
    "f()\n",
    "\n",
    "print(dis.dis(f))"
   ]
  },
  {
   "cell_type": "markdown",
   "metadata": {},
   "source": [
    "* Multiple Python threads won't run your *Python code* concurrently (yes you heard it right!). It may seem intuitive to spawn several threads and let them execute your Python code concurrently, but, because of the [Global Interpreter Lock](https://wiki.python.org/moin/GlobalInterpreterLock) in Python, all you're doing is making your threads execute on the same core turn by turn. Python threads are good for IO-bound tasks, but to achieve actual parallelization in Python for CPU-bound tasks, you might want to use the Python [multiprocessing](https://docs.python.org/2/library/multiprocessing.html) module.\n",
    "\n",
    "* List slicing with out of the bounds indices throws no errors\n",
    "  ```py\n",
    "  >>> some_list = [1, 2, 3, 4, 5]\n",
    "  >>> some_list[111:]\n",
    "  []\n",
    "  ```\n",
    "\n",
    "* `int('١٢٣٤٥٦٧٨٩')` returns `123456789` in Python 3. In Python, Decimal characters include digit characters, and all characters that can be used to form decimal-radix numbers, e.g. U+0660, ARABIC-INDIC DIGIT ZERO. Here's an [interesting story](http://chris.improbable.org/2014/8/25/adventures-in-unicode-digits/) related to this behavior of Python.\n",
    "\n",
    "* `'abc'.count('') == 4`. Here's an approximate implementation of `count` method, which would make the things more clear\n",
    "  ```py\n",
    "  def count(s, sub):\n",
    "      result = 0\n",
    "      for i in range(len(s) + 1 - len(sub)):\n",
    "          result += (s[i:i + len(sub)] == sub)\n",
    "      return result\n",
    "  ```\n",
    "  The behavior is due to the matching of empty substring(`''`) with slices of length 0 in the original string.\n",
    "\n",
    "---\n",
    "\n",
    "# Contributing\n",
    "\n",
    "All patches are Welcome! Please see [CONTRIBUTING.md](/CONTRIBUTING.md) for further details.\n",
    "\n",
    "For discussions, you can either create a new [issue](https://github.com/satwikkansal/wtfpython/issues/new) or ping on the Gitter [channel](https://gitter.im/wtfpython/Lobby)\n",
    "\n",
    "# Acknowledgements\n",
    "\n",
    "The idea and design for this collection were initially inspired by Denys Dovhan's awesome project [wtfjs](https://github.com/denysdovhan/wtfjs). The overwhelming support by the community gave it the shape it is in right now.\n",
    "\n",
    "#### Some nice Links!\n",
    "* https://www.youtube.com/watch?v=sH4XF6pKKmk\n",
    "* https://www.reddit.com/r/Python/comments/3cu6ej/what_are_some_wtf_things_about_python\n",
    "* https://sopython.com/wiki/Common_Gotchas_In_Python\n",
    "* https://stackoverflow.com/questions/530530/python-2-x-gotchas-and-landmines\n",
    "* https://stackoverflow.com/questions/1011431/common-pitfalls-in-python\n",
    "* https://www.python.org/doc/humor/\n",
    "* https://www.codementor.io/satwikkansal/python-practices-for-efficient-code-performance-memory-and-usability-aze6oiq65\n",
    "\n",
    "# 🎓 License\n",
    "\n",
    "[![CC 4.0][license-image]][license-url]\n",
    "\n",
    "&copy; [Satwik Kansal](https://satwikkansal.xyz)\n",
    "\n",
    "[license-url]: http://www.wtfpl.net\n",
    "[license-image]: https://img.shields.io/badge/License-WTFPL%202.0-lightgrey.svg?style=flat-square\n",
    "\n",
    "## Help\n",
    "\n",
    "If you have any wtfs, ideas or suggestions, please share.\n",
    "\n",
    "## Surprise your geeky pythonist friends?\n",
    "\n",
    "You can use these quick links to recommend wtfpython to your friends,\n",
    "\n",
    "[Twitter](https://twitter.com/intent/tweet?url=https://github.com/satwikkansal/wtfpython&hastags=python,wtfpython)\n",
    " | [Linkedin](https://www.linkedin.com/shareArticle?url=https://github.com/satwikkansal&title=What%20the%20f*ck%20Python!&summary=An%20interesting%20collection%20of%20subtle%20and%20tricky%20Python%20snippets.)\n",
    "\n",
    "## Need a pdf version?\n",
    "\n",
    "I've received a few requests for the pdf version of wtfpython. You can add your details [here](https://satwikkansal.xyz/wtfpython-pdf/) to get the pdf as soon as it is finished."
   ]
  },
  {
   "cell_type": "code",
   "execution_count": null,
   "metadata": {},
   "outputs": [],
   "source": []
  }
 ],
 "metadata": {
  "kernelspec": {
   "display_name": "Python 3",
   "language": "python",
   "name": "python3"
  },
  "language_info": {
   "codemirror_mode": {
    "name": "ipython",
    "version": 3
   },
   "file_extension": ".py",
   "mimetype": "text/x-python",
   "name": "python",
   "nbconvert_exporter": "python",
   "pygments_lexer": "ipython3",
   "version": "3.6.5"
  }
 },
 "nbformat": 4,
 "nbformat_minor": 2
}
